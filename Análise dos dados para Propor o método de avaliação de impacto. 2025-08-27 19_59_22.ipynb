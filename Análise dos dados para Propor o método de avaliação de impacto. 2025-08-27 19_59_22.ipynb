{
 "cells": [
  {
   "cell_type": "markdown",
   "metadata": {
    "application/vnd.databricks.v1+cell": {
     "cellMetadata": {},
     "inputWidgets": {},
     "nuid": "6d8e21ec-bffc-48c4-b5ff-5436304ab1d0",
     "showTitle": false,
     "tableResultSettingsMap": {},
     "title": ""
    }
   },
   "source": [
    "# **Análise dos dados para Propor o Método de Avaliação de Impacto.**"
   ]
  },
  {
   "cell_type": "markdown",
   "metadata": {
    "application/vnd.databricks.v1+cell": {
     "cellMetadata": {},
     "inputWidgets": {},
     "nuid": "97f8a811-6917-449f-8a56-9627ab8e132c",
     "showTitle": false,
     "tableResultSettingsMap": {},
     "title": ""
    }
   },
   "source": [
    "## **Objetivo**:\n",
    "\n",
    "Este notebook realiza etapas de tratamento e análise inicial. Os objetivos aqui são importar os dados, inspecioná-los, fazer tratamentos e manipulações necessárias para garantir a integridade desses e confiabilidade dos resultados, além de melhor desempenho nas consultas e visualizações dos gráficos criado posteriormente no mesmo ambiente no databricks.\n",
    "\n",
    "Os arquivos em XLSX foram disponibilizados através do link: [clique aqui](https://docs.google.com/spreadsheets/d/1wo-hBfzFua8j0KYpl8BltHlV54--PHf1/edit?usp=sharing&ouid=106520239202789824615&rtpof=true&sd=true)\n",
    "\n",
    "\n",
    "## **Etapas**:\n",
    "1. Importação das Bibliotecas\n",
    "\n",
    "2. Importação dos Dados\n",
    "\n",
    "3. Inspeção dos Dados\n",
    "\n",
    "4. Transformação dos Dados\n",
    "\n",
    "5. Exportação do Dataset Tratado."
   ]
  },
  {
   "cell_type": "markdown",
   "metadata": {
    "application/vnd.databricks.v1+cell": {
     "cellMetadata": {},
     "inputWidgets": {},
     "nuid": "f2456b2a-7444-44f6-8771-11fc3e6bec6d",
     "showTitle": false,
     "tableResultSettingsMap": {},
     "title": ""
    }
   },
   "source": [
    "**ATENÇÃO:**\n",
    "\n",
    "Em caso de problemas de execução no ambiente do databricks, o notebook pode ser visualizado também no repositório do GitHub, disponível [aqui](https://github.com/tainahguerras/PMP-Petrobras-Analise)."
   ]
  },
  {
   "cell_type": "markdown",
   "metadata": {
    "application/vnd.databricks.v1+cell": {
     "cellMetadata": {},
     "inputWidgets": {},
     "nuid": "759e7340-19e1-4562-81d1-b7f68bd54303",
     "showTitle": false,
     "tableResultSettingsMap": {},
     "title": ""
    }
   },
   "source": [
    "## **Importação de Bibliotecas**"
   ]
  },
  {
   "cell_type": "code",
   "execution_count": 0,
   "metadata": {
    "application/vnd.databricks.v1+cell": {
     "cellMetadata": {
      "byteLimit": 2048000,
      "rowLimit": 10000
     },
     "inputWidgets": {},
     "nuid": "1a2cae5c-70bf-47d2-9741-e698c25cbf9f",
     "showTitle": false,
     "tableResultSettingsMap": {},
     "title": ""
    }
   },
   "outputs": [
    {
     "output_type": "stream",
     "name": "stdout",
     "output_type": "stream",
     "text": [
      "Requirement already satisfied: openpyxl in /local_disk0/.ephemeral_nfs/envs/pythonEnv-8116f5f0-911c-4116-a091-e3751ad3c78f/lib/python3.12/site-packages (3.1.5)\nRequirement already satisfied: et-xmlfile in /local_disk0/.ephemeral_nfs/envs/pythonEnv-8116f5f0-911c-4116-a091-e3751ad3c78f/lib/python3.12/site-packages (from openpyxl) (2.0.0)\n\u001B[43mNote: you may need to restart the kernel using %restart_python or dbutils.library.restartPython() to use updated packages.\u001B[0m\n"
     ]
    }
   ],
   "source": [
    "%pip install openpyxl # Para Instação da biblioteca openpyxl #\n",
    "%restart_python\n",
    "\n",
    "# Importações necessárias\n",
    "import pandas as pd\n",
    "import numpy as np\n",
    "import statsmodels.formula.api as smf\n",
    "import statsmodels.api as sm\n",
    "import matplotlib.pyplot as plt\n",
    "import seaborn as sns\n",
    "\n",
    "import statsmodels.formula.api as smf\n",
    "import statsmodels.api as sm\n",
    "\n",
    "from textwrap import dedent\n",
    "import warnings\n",
    "\n",
    "# Ignorar alertas irrelevantes\n",
    "warnings.filterwarnings(\"ignore\")\n",
    "\n"
   ]
  },
  {
   "cell_type": "markdown",
   "metadata": {
    "application/vnd.databricks.v1+cell": {
     "cellMetadata": {},
     "inputWidgets": {},
     "nuid": "d0ef58d4-5891-450a-af4e-401d3964cd72",
     "showTitle": false,
     "tableResultSettingsMap": {},
     "title": ""
    }
   },
   "source": [
    "## **Importação dos Dados**"
   ]
  },
  {
   "cell_type": "markdown",
   "metadata": {
    "application/vnd.databricks.v1+cell": {
     "cellMetadata": {},
     "inputWidgets": {},
     "nuid": "e3d412c2-c8dc-41bc-8a3a-f48270a6be89",
     "showTitle": false,
     "tableResultSettingsMap": {},
     "title": ""
    }
   },
   "source": [
    "## \n",
    "Durante a importação dos dados, Definiremos tipos de dados explícitos para cada coluna, garantindo que números, categorias e datas sejam interpretados corretamente. Selecionaremos um conjunto de colunas relevantes para inspeção inicial, que permita verificar elegibilidade, tratamento e variáveis-chave para o RDD. Criaremos um módulo chamado utilities (ou “utils”) para centralizar funções de inspeção e preparação de dados."
   ]
  },
  {
   "cell_type": "code",
   "execution_count": 0,
   "metadata": {
    "application/vnd.databricks.v1+cell": {
     "cellMetadata": {
      "byteLimit": 2048000,
      "rowLimit": 10000
     },
     "inputWidgets": {},
     "nuid": "581b4662-f116-4a06-9d68-4119cd2f05bb",
     "showTitle": false,
     "tableResultSettingsMap": {},
     "title": ""
    }
   },
   "outputs": [],
   "source": [
    "import pandas as pd\n",
    "\n",
    "# Caminho do arquivo\n",
    "file_path = \"/Workspace/Seleção Simplificada Recife/base_prouni_rd_simulada.xlsx\"\n",
    "\n",
    "# Carregar Excel sem definir tipos\n",
    "df = pd.read_excel(file_path)\n",
    "\n",
    "# Converter tipos de colunas explicitamente\n",
    "dtype_dict = {\n",
    "    'nota_enem': 'float64',\n",
    "    'corte': 'float64',\n",
    "    'tratamento': 'int64',\n",
    "    'emprego_na_area': 'int64',\n",
    "    'sexo': 'category',\n",
    "    'raca': 'category',\n",
    "    'idade': 'int64',\n",
    "    'renda_pc': 'float64',\n",
    "    'escola_publica': 'category',\n",
    "    'curso': 'category',\n",
    "    'turno': 'category',\n",
    "    'IES': 'category',\n",
    "    'ano': 'int64',\n",
    "    'municipio_escola': 'category'\n",
    "}\n",
    "# Selecionar colunas relevantes para inspeção inicial\n",
    "colunas_relevantes = [\n",
    "    'nota_enem', 'corte', 'tratamento', 'emprego_na_area',\n",
    "    'sexo', 'raca', 'idade', 'renda_pc', 'escola_publica',\n",
    "    'curso', 'turno', 'IES', 'ano', 'municipio_escola'\n",
    "]\n",
    "df_inspecao = df[colunas_relevantes].copy()  # Copiar apenas as colunas relevantes\n",
    "# Etapa 2: Inspeção resumida de dados\n"
   ]
  },
  {
   "cell_type": "markdown",
   "metadata": {
    "application/vnd.databricks.v1+cell": {
     "cellMetadata": {},
     "inputWidgets": {},
     "nuid": "9adc3515-0ee9-458f-97f8-287dd6f948f8",
     "showTitle": false,
     "tableResultSettingsMap": {},
     "title": ""
    }
   },
   "source": [
    "## **Inspeção dos Dados**"
   ]
  },
  {
   "cell_type": "code",
   "execution_count": 0,
   "metadata": {
    "application/vnd.databricks.v1+cell": {
     "cellMetadata": {
      "byteLimit": 2048000,
      "rowLimit": 10000
     },
     "inputWidgets": {},
     "nuid": "ac5b7eb9-f4ce-4086-aa5d-30bc5d4efe70",
     "showTitle": false,
     "tableResultSettingsMap": {},
     "title": ""
    }
   },
   "outputs": [
    {
     "output_type": "execute_result",
     "data": {
      "text/html": [
       "<div>\n",
       "<style scoped>\n",
       "    .dataframe tbody tr th:only-of-type {\n",
       "        vertical-align: middle;\n",
       "    }\n",
       "\n",
       "    .dataframe tbody tr th {\n",
       "        vertical-align: top;\n",
       "    }\n",
       "\n",
       "    .dataframe thead th {\n",
       "        text-align: right;\n",
       "    }\n",
       "</style>\n",
       "<table border=\"1\" class=\"dataframe\">\n",
       "  <thead>\n",
       "    <tr style=\"text-align: right;\">\n",
       "      <th></th>\n",
       "      <th>tipo</th>\n",
       "      <th>valores_unicos</th>\n",
       "      <th>valores_ausentes</th>\n",
       "    </tr>\n",
       "  </thead>\n",
       "  <tbody>\n",
       "    <tr>\n",
       "      <th>nota_enem</th>\n",
       "      <td>int64</td>\n",
       "      <td>317</td>\n",
       "      <td>0</td>\n",
       "    </tr>\n",
       "    <tr>\n",
       "      <th>corte</th>\n",
       "      <td>int64</td>\n",
       "      <td>87</td>\n",
       "      <td>0</td>\n",
       "    </tr>\n",
       "    <tr>\n",
       "      <th>tratamento</th>\n",
       "      <td>int64</td>\n",
       "      <td>2</td>\n",
       "      <td>0</td>\n",
       "    </tr>\n",
       "    <tr>\n",
       "      <th>emprego_na_area</th>\n",
       "      <td>int64</td>\n",
       "      <td>2</td>\n",
       "      <td>0</td>\n",
       "    </tr>\n",
       "    <tr>\n",
       "      <th>sexo</th>\n",
       "      <td>object</td>\n",
       "      <td>2</td>\n",
       "      <td>0</td>\n",
       "    </tr>\n",
       "    <tr>\n",
       "      <th>raca</th>\n",
       "      <td>object</td>\n",
       "      <td>5</td>\n",
       "      <td>0</td>\n",
       "    </tr>\n",
       "    <tr>\n",
       "      <th>idade</th>\n",
       "      <td>int64</td>\n",
       "      <td>15</td>\n",
       "      <td>0</td>\n",
       "    </tr>\n",
       "    <tr>\n",
       "      <th>renda_pc</th>\n",
       "      <td>object</td>\n",
       "      <td>3</td>\n",
       "      <td>0</td>\n",
       "    </tr>\n",
       "    <tr>\n",
       "      <th>escola_publica</th>\n",
       "      <td>int64</td>\n",
       "      <td>2</td>\n",
       "      <td>0</td>\n",
       "    </tr>\n",
       "    <tr>\n",
       "      <th>curso</th>\n",
       "      <td>object</td>\n",
       "      <td>5</td>\n",
       "      <td>0</td>\n",
       "    </tr>\n",
       "    <tr>\n",
       "      <th>turno</th>\n",
       "      <td>object</td>\n",
       "      <td>2</td>\n",
       "      <td>0</td>\n",
       "    </tr>\n",
       "    <tr>\n",
       "      <th>IES</th>\n",
       "      <td>object</td>\n",
       "      <td>8</td>\n",
       "      <td>0</td>\n",
       "    </tr>\n",
       "    <tr>\n",
       "      <th>ano</th>\n",
       "      <td>int64</td>\n",
       "      <td>6</td>\n",
       "      <td>0</td>\n",
       "    </tr>\n",
       "    <tr>\n",
       "      <th>municipio_escola</th>\n",
       "      <td>object</td>\n",
       "      <td>5</td>\n",
       "      <td>0</td>\n",
       "    </tr>\n",
       "  </tbody>\n",
       "</table>\n",
       "</div>"
      ],
      "text/plain": [
       "                    tipo  valores_unicos  valores_ausentes\n",
       "nota_enem          int64             317                 0\n",
       "corte              int64              87                 0\n",
       "tratamento         int64               2                 0\n",
       "emprego_na_area    int64               2                 0\n",
       "sexo              object               2                 0\n",
       "raca              object               5                 0\n",
       "idade              int64              15                 0\n",
       "renda_pc          object               3                 0\n",
       "escola_publica     int64               2                 0\n",
       "curso             object               5                 0\n",
       "turno             object               2                 0\n",
       "IES               object               8                 0\n",
       "ano                int64               6                 0\n",
       "municipio_escola  object               5                 0"
      ]
     },
     "execution_count": 3,
     "metadata": {},
     "output_type": "execute_result"
    }
   ],
   "source": [
    "# Etapa 3: Inspeção resumida de dados com top 5 categorias\n",
    "\n",
    "# Dataset já carregado\n",
    "datasets = {}\n",
    "datasets['SE_AL'] = df.copy()\n",
    "\n",
    "# Selecionar colunas relevantes\n",
    "colunas_relevantes = [\n",
    "    'nota_enem', 'corte', 'tratamento', 'emprego_na_area',\n",
    "    'sexo', 'raca', 'idade', 'renda_pc', 'escola_publica',\n",
    "    'curso', 'turno', 'IES', 'ano', 'municipio_escola'\n",
    "]\n",
    "\n",
    "df_inspecao = datasets['SE_AL'][colunas_relevantes]\n",
    "\n",
    "# Resumo geral das colunas\n",
    "resumo = pd.DataFrame({\n",
    "    'tipo': df_inspecao.dtypes,\n",
    "    'valores_unicos': df_inspecao.nunique(),\n",
    "    'valores_ausentes': df_inspecao.isnull().sum()\n",
    "})\n",
    "\n",
    "# Estatísticas básicas para colunas numéricas\n",
    "estatisticas_num = df_inspecao.select_dtypes(include=['int64','float64']).describe().T\n",
    "\n",
    "# Estatísticas resumidas para colunas categóricas (top 5 categorias)\n",
    "estatisticas_cat = {}\n",
    "for col in df_inspecao.select_dtypes(include=['category']):\n",
    "    estatisticas_cat[col] = df_inspecao[col].value_counts().head(5)\n",
    "\n",
    "# Resultado resumido armazenado\n",
    "resumo_final = {\n",
    "    'resumo_colunas': resumo,\n",
    "    'estatisticas_numericas': estatisticas_num,\n",
    "    'top5_categoricas': estatisticas_cat\n",
    "}\n",
    "\n",
    "# Exemplo: acessar o resumo de colunas\n",
    "resumo_final['resumo_colunas']\n",
    "# Exemplo: acessar top 5 categorias de 'sexo'\n",
    "# resumo_final['top5_categoricas']['sexo']"
   ]
  },
  {
   "cell_type": "markdown",
   "metadata": {
    "application/vnd.databricks.v1+cell": {
     "cellMetadata": {},
     "inputWidgets": {},
     "nuid": "50e2b089-18ea-4f3b-863f-a784e38a790a",
     "showTitle": false,
     "tableResultSettingsMap": {},
     "title": ""
    }
   },
   "source": [
    "**Checando tipagem dos dados**"
   ]
  },
  {
   "cell_type": "code",
   "execution_count": 0,
   "metadata": {
    "application/vnd.databricks.v1+cell": {
     "cellMetadata": {
      "byteLimit": 2048000,
      "rowLimit": 10000
     },
     "inputWidgets": {},
     "nuid": "9f26fa69-28cf-4b93-91cc-e04cd0e16fbd",
     "showTitle": false,
     "tableResultSettingsMap": {},
     "title": ""
    }
   },
   "outputs": [
    {
     "output_type": "stream",
     "name": "stdout",
     "output_type": "stream",
     "text": [
      "Tipos de dados em SE_AL:\nnota_enem            int64\ncorte                int64\ntratamento           int64\nemprego_na_area      int64\nsexo                object\nraca                object\nidade                int64\nrenda_pc            object\nescola_publica       int64\ncurso               object\nturno               object\nIES                 object\nano                  int64\nmunicipio_escola    object\nName: tipo, dtype: object\n--------------------------------------------------\nPrimeiras 5 linhas do dataset SE_AL:\n   id   ano          curso  ... running tratamento emprego_na_area\n0   1  2014          Saúde  ...       2          1               1\n1   2  2016  Licenciaturas  ...      30          1               1\n2   3  2014          Saúde  ...     -19          0               1\n3   4  2013  Administração  ...      30          1               1\n4   5  2016  Administração  ...       6          1               0\n\n[5 rows x 16 columns]\n--------------------------------------------------\n"
     ]
    }
   ],
   "source": [
    "# Checando tipagem dos dados para o dataset Prouni\n",
    "for chave, df in datasets.items():\n",
    "    print(f'Tipos de dados em {chave}:')\n",
    "    print(resumo_final['resumo_colunas']['tipo'])\n",
    "    print('-'*50)\n",
    "    # Exibir as 5 primeiras linhas de cada dataset Prouni\n",
    "    print(f'Primeiras 5 linhas do dataset {chave}:')\n",
    "    print(df.head())\n",
    "    print('-'*50)"
   ]
  },
  {
   "cell_type": "markdown",
   "metadata": {
    "application/vnd.databricks.v1+cell": {
     "cellMetadata": {},
     "inputWidgets": {},
     "nuid": "8d562362-2add-4994-818b-27286f673171",
     "showTitle": false,
     "tableResultSettingsMap": {},
     "title": ""
    }
   },
   "source": [
    "Todos os dados parecem estar com tipos esperados."
   ]
  },
  {
   "cell_type": "markdown",
   "metadata": {
    "application/vnd.databricks.v1+cell": {
     "cellMetadata": {},
     "inputWidgets": {},
     "nuid": "1f54dc66-1de4-41da-9d87-0fa697c57453",
     "showTitle": false,
     "tableResultSettingsMap": {},
     "title": ""
    }
   },
   "source": [
    "**Checando tamanhos dos datasets**"
   ]
  },
  {
   "cell_type": "code",
   "execution_count": 0,
   "metadata": {
    "application/vnd.databricks.v1+cell": {
     "cellMetadata": {
      "byteLimit": 2048000,
      "rowLimit": 10000
     },
     "inputWidgets": {},
     "nuid": "b97a9957-141a-452d-862f-1757957c0ddf",
     "showTitle": false,
     "tableResultSettingsMap": {},
     "title": ""
    }
   },
   "outputs": [
    {
     "output_type": "stream",
     "name": "stdout",
     "output_type": "stream",
     "text": [
      "SE_AL: (4000, 16)\n"
     ]
    }
   ],
   "source": [
    "for nome, df in datasets.items():\n",
    "    print(f'{nome}: {df.shape}')"
   ]
  },
  {
   "cell_type": "markdown",
   "metadata": {
    "application/vnd.databricks.v1+cell": {
     "cellMetadata": {},
     "inputWidgets": {},
     "nuid": "7fdcd20d-f9ab-44d5-9f13-7677fff26017",
     "showTitle": false,
     "tableResultSettingsMap": {},
     "title": ""
    }
   },
   "source": [
    "**Checando registros duplicados**"
   ]
  },
  {
   "cell_type": "code",
   "execution_count": 0,
   "metadata": {
    "application/vnd.databricks.v1+cell": {
     "cellMetadata": {
      "byteLimit": 2048000,
      "rowLimit": 10000
     },
     "inputWidgets": {},
     "nuid": "f004fb58-efb7-46af-940e-e18035fb9547",
     "showTitle": false,
     "tableResultSettingsMap": {},
     "title": ""
    }
   },
   "outputs": [
    {
     "output_type": "stream",
     "name": "stdout",
     "output_type": "stream",
     "text": [
      "Total de registros duplicados: 0\n"
     ]
    },
    {
     "output_type": "execute_result",
     "data": {
      "text/html": [
       "<div>\n",
       "<style scoped>\n",
       "    .dataframe tbody tr th:only-of-type {\n",
       "        vertical-align: middle;\n",
       "    }\n",
       "\n",
       "    .dataframe tbody tr th {\n",
       "        vertical-align: top;\n",
       "    }\n",
       "\n",
       "    .dataframe thead th {\n",
       "        text-align: right;\n",
       "    }\n",
       "</style>\n",
       "<table border=\"1\" class=\"dataframe\">\n",
       "  <thead>\n",
       "    <tr style=\"text-align: right;\">\n",
       "      <th></th>\n",
       "      <th>id</th>\n",
       "      <th>ano</th>\n",
       "      <th>curso</th>\n",
       "      <th>turno</th>\n",
       "      <th>IES</th>\n",
       "      <th>municipio_escola</th>\n",
       "      <th>sexo</th>\n",
       "      <th>raca</th>\n",
       "      <th>idade</th>\n",
       "      <th>renda_pc</th>\n",
       "      <th>escola_publica</th>\n",
       "      <th>nota_enem</th>\n",
       "      <th>corte</th>\n",
       "      <th>running</th>\n",
       "      <th>tratamento</th>\n",
       "      <th>emprego_na_area</th>\n",
       "    </tr>\n",
       "  </thead>\n",
       "  <tbody>\n",
       "  </tbody>\n",
       "</table>\n",
       "</div>"
      ],
      "text/plain": [
       "Empty DataFrame\n",
       "Columns: [id, ano, curso, turno, IES, municipio_escola, sexo, raca, idade, renda_pc, escola_publica, nota_enem, corte, running, tratamento, emprego_na_area]\n",
       "Index: []"
      ]
     },
     "execution_count": 6,
     "metadata": {},
     "output_type": "execute_result"
    }
   ],
   "source": [
    "    # Quantidade de registros duplicados\n",
    "duplicados_total = df.duplicated().sum()\n",
    "print(f'Total de registros duplicados: {duplicados_total}')\n",
    "\n",
    "# Exibir os 5 primeiros registros duplicados (se existirem)\n",
    "df_duplicados = df[df.duplicated()]\n",
    "df_duplicados.head()"
   ]
  },
  {
   "cell_type": "markdown",
   "metadata": {
    "application/vnd.databricks.v1+cell": {
     "cellMetadata": {},
     "inputWidgets": {},
     "nuid": "975b8155-d44e-4c00-a045-e5b7b9f3af9e",
     "showTitle": false,
     "tableResultSettingsMap": {},
     "title": ""
    }
   },
   "source": [
    "**Checando registros ausentes**"
   ]
  },
  {
   "cell_type": "code",
   "execution_count": 0,
   "metadata": {
    "application/vnd.databricks.v1+cell": {
     "cellMetadata": {
      "byteLimit": 2048000,
      "rowLimit": 10000
     },
     "inputWidgets": {},
     "nuid": "74c3246c-4ed6-4329-b152-f7ec2f7e5625",
     "showTitle": false,
     "tableResultSettingsMap": {},
     "title": ""
    }
   },
   "outputs": [
    {
     "output_type": "stream",
     "name": "stdout",
     "output_type": "stream",
     "text": [
      "id                  0.0\nano                 0.0\ncurso               0.0\nturno               0.0\nIES                 0.0\nmunicipio_escola    0.0\nsexo                0.0\nraca                0.0\nidade               0.0\nrenda_pc            0.0\nescola_publica      0.0\nnota_enem           0.0\ncorte               0.0\nrunning             0.0\ntratamento          0.0\nemprego_na_area     0.0\ndtype: float64\n"
     ]
    }
   ],
   "source": [
    "#Checando registros ausentes por coluna\n",
    "registros_ausentes = df.isnull().sum()\n",
    "percentual_ausentes = (df.isnull().sum() / len(df)) * 100\n",
    "print(percentual_ausentes)\n",
    "import pandas as pd\n",
    "\n",
    "# Calculate missing values and their percentage\n",
    "registros_ausentes = df.isnull().sum()\n",
    "percentual_ausentes = (\n",
    "    df.isnull().sum() / len(df)\n",
    ") * 100\n",
    "\n",
    "# Create a summary DataFrame\n",
    "resumo_ausentes = pd.DataFrame(\n",
    "    {\n",
    "        'valores_ausentes': registros_ausentes,\n",
    "        'percentual_ausentes': percentual_ausentes\n",
    "    }\n",
    ")"
   ]
  },
  {
   "cell_type": "markdown",
   "metadata": {
    "application/vnd.databricks.v1+cell": {
     "cellMetadata": {},
     "inputWidgets": {},
     "nuid": "711fda89-2c28-426b-b343-443d4efcfd3a",
     "showTitle": false,
     "tableResultSettingsMap": {},
     "title": ""
    }
   },
   "source": [
    "A inspeção inicial confirmou que o dataset apresenta tipagem correta das variáveis, sem registros nulos, ausentes ou duplicados. Dessa forma, a base de dados encontra-se íntegra e consistente, permitindo avançar com segurança para a etapa de transformação e preparação dos dados."
   ]
  },
  {
   "cell_type": "markdown",
   "metadata": {
    "application/vnd.databricks.v1+cell": {
     "cellMetadata": {},
     "inputWidgets": {},
     "nuid": "7953feb2-1a0a-4f7f-a8b9-dd0fca0ba1ac",
     "showTitle": false,
     "tableResultSettingsMap": {},
     "title": ""
    }
   },
   "source": [
    "## **Tranformação dos Dados**"
   ]
  },
  {
   "cell_type": "markdown",
   "metadata": {
    "application/vnd.databricks.v1+cell": {
     "cellMetadata": {},
     "inputWidgets": {},
     "nuid": "78f5dea8-88db-4282-9893-b9604c027594",
     "showTitle": false,
     "tableResultSettingsMap": {},
     "title": ""
    }
   },
   "source": [
    "Nesta etapa, foram realizadas as seguintes operações:\n",
    "\n",
    "* Criação da variável running\n",
    "* Verificação do tratamento\n",
    "* Definição da janela de análise (bandwidth)\n",
    "* Seleção das variáveis relevantes\n",
    "* Tratamento de tipos e categorias\n",
    "* Preparação para visualização"
   ]
  },
  {
   "cell_type": "code",
   "execution_count": 0,
   "metadata": {
    "application/vnd.databricks.v1+cell": {
     "cellMetadata": {
      "byteLimit": 2048000,
      "rowLimit": 10000
     },
     "inputWidgets": {},
     "nuid": "2f404c74-c825-4fea-92ab-fc09ce906c97",
     "showTitle": false,
     "tableResultSettingsMap": {},
     "title": ""
    }
   },
   "outputs": [
    {
     "output_type": "stream",
     "name": "stdout",
     "output_type": "stream",
     "text": [
      "Número de inconsistências encontradas: 0\nTamanho do dataset original: 4000\nTamanho do dataset dentro da janela (±10 pontos): 538\n<class 'pandas.core.frame.DataFrame'>\nInt64Index: 538 entries, 0 to 3996\nData columns (total 14 columns):\n #   Column           Non-Null Count  Dtype   \n---  ------           --------------  -----   \n 0   nota_enem        538 non-null    int64   \n 1   corte            538 non-null    int64   \n 2   running          538 non-null    int64   \n 3   tratamento       538 non-null    int64   \n 4   emprego_na_area  538 non-null    int64   \n 5   sexo             538 non-null    category\n 6   raca             538 non-null    category\n 7   idade            538 non-null    int64   \n 8   renda_pc         538 non-null    object  \n 9   escola_publica   538 non-null    category\n 10  curso            538 non-null    category\n 11  turno            538 non-null    category\n 12  IES              538 non-null    category\n 13  ano              538 non-null    int64   \ndtypes: category(6), int64(7), object(1)\nmemory usage: 42.1+ KB\n"
     ]
    },
    {
     "output_type": "execute_result",
     "data": {
      "text/html": [
       "<div>\n",
       "<style scoped>\n",
       "    .dataframe tbody tr th:only-of-type {\n",
       "        vertical-align: middle;\n",
       "    }\n",
       "\n",
       "    .dataframe tbody tr th {\n",
       "        vertical-align: top;\n",
       "    }\n",
       "\n",
       "    .dataframe thead th {\n",
       "        text-align: right;\n",
       "    }\n",
       "</style>\n",
       "<table border=\"1\" class=\"dataframe\">\n",
       "  <thead>\n",
       "    <tr style=\"text-align: right;\">\n",
       "      <th></th>\n",
       "      <th>nota_enem</th>\n",
       "      <th>corte</th>\n",
       "      <th>running</th>\n",
       "      <th>tratamento</th>\n",
       "      <th>emprego_na_area</th>\n",
       "      <th>sexo</th>\n",
       "      <th>raca</th>\n",
       "      <th>idade</th>\n",
       "      <th>renda_pc</th>\n",
       "      <th>escola_publica</th>\n",
       "      <th>curso</th>\n",
       "      <th>turno</th>\n",
       "      <th>IES</th>\n",
       "      <th>ano</th>\n",
       "    </tr>\n",
       "  </thead>\n",
       "  <tbody>\n",
       "    <tr>\n",
       "      <th>0</th>\n",
       "      <td>616</td>\n",
       "      <td>614</td>\n",
       "      <td>2</td>\n",
       "      <td>1</td>\n",
       "      <td>1</td>\n",
       "      <td>M</td>\n",
       "      <td>Amarela</td>\n",
       "      <td>21</td>\n",
       "      <td>0,5–1,5 SM</td>\n",
       "      <td>1</td>\n",
       "      <td>Saúde</td>\n",
       "      <td>Noturno</td>\n",
       "      <td>IES_B</td>\n",
       "      <td>2014</td>\n",
       "    </tr>\n",
       "    <tr>\n",
       "      <th>4</th>\n",
       "      <td>623</td>\n",
       "      <td>617</td>\n",
       "      <td>6</td>\n",
       "      <td>1</td>\n",
       "      <td>0</td>\n",
       "      <td>M</td>\n",
       "      <td>Parda</td>\n",
       "      <td>21</td>\n",
       "      <td>1,5–3 SM</td>\n",
       "      <td>1</td>\n",
       "      <td>Administração</td>\n",
       "      <td>Noturno</td>\n",
       "      <td>IES_H</td>\n",
       "      <td>2016</td>\n",
       "    </tr>\n",
       "    <tr>\n",
       "      <th>10</th>\n",
       "      <td>614</td>\n",
       "      <td>605</td>\n",
       "      <td>9</td>\n",
       "      <td>1</td>\n",
       "      <td>1</td>\n",
       "      <td>F</td>\n",
       "      <td>Parda</td>\n",
       "      <td>20</td>\n",
       "      <td>0,5–1,5 SM</td>\n",
       "      <td>1</td>\n",
       "      <td>Administração</td>\n",
       "      <td>Noturno</td>\n",
       "      <td>IES_F</td>\n",
       "      <td>2014</td>\n",
       "    </tr>\n",
       "    <tr>\n",
       "      <th>36</th>\n",
       "      <td>574</td>\n",
       "      <td>570</td>\n",
       "      <td>4</td>\n",
       "      <td>1</td>\n",
       "      <td>0</td>\n",
       "      <td>M</td>\n",
       "      <td>Parda</td>\n",
       "      <td>19</td>\n",
       "      <td>0,5–1,5 SM</td>\n",
       "      <td>1</td>\n",
       "      <td>Licenciaturas</td>\n",
       "      <td>Noturno</td>\n",
       "      <td>IES_D</td>\n",
       "      <td>2015</td>\n",
       "    </tr>\n",
       "    <tr>\n",
       "      <th>37</th>\n",
       "      <td>615</td>\n",
       "      <td>605</td>\n",
       "      <td>10</td>\n",
       "      <td>1</td>\n",
       "      <td>0</td>\n",
       "      <td>F</td>\n",
       "      <td>Preta</td>\n",
       "      <td>20</td>\n",
       "      <td>1,5–3 SM</td>\n",
       "      <td>0</td>\n",
       "      <td>Engenharias</td>\n",
       "      <td>Diurno</td>\n",
       "      <td>IES_B</td>\n",
       "      <td>2015</td>\n",
       "    </tr>\n",
       "  </tbody>\n",
       "</table>\n",
       "</div>"
      ],
      "text/plain": [
       "    nota_enem  corte  running  tratamento  ...          curso    turno    IES   ano\n",
       "0         616    614        2           1  ...          Saúde  Noturno  IES_B  2014\n",
       "4         623    617        6           1  ...  Administração  Noturno  IES_H  2016\n",
       "10        614    605        9           1  ...  Administração  Noturno  IES_F  2014\n",
       "36        574    570        4           1  ...  Licenciaturas  Noturno  IES_D  2015\n",
       "37        615    605       10           1  ...    Engenharias   Diurno  IES_B  2015\n",
       "\n",
       "[5 rows x 14 columns]"
      ]
     },
     "execution_count": 8,
     "metadata": {},
     "output_type": "execute_result"
    }
   ],
   "source": [
    "import numpy as np\n",
    "import pandas as pd\n",
    "\n",
    "# 1. Criar variável \"running\" (distância da nota até o corte)\n",
    "df['running'] = df['nota_enem'] - df['corte']\n",
    "\n",
    "# 2. Verificar consistência da variável tratamento\n",
    "# Regras: 1 se nota_enem >= corte, 0 caso contrário\n",
    "df['tratamento_check'] = np.where(df['nota_enem'] >= df['corte'], 1, 0)\n",
    "\n",
    "# Conferir se existem inconsistências\n",
    "inconsistencias = df[df['tratamento'] != df['tratamento_check']]\n",
    "print(f\"Número de inconsistências encontradas: {len(inconsistencias)}\")\n",
    "\n",
    "#3. Definir janela de análise (bandwidth)\n",
    "# Exemplo: ±10 pontos em relação ao corte\n",
    "window = 10\n",
    "df_window = df[(df['running'] >= -window) & (df['running'] <= window)]\n",
    "\n",
    "print(f\"Tamanho do dataset original: {len(df)}\")\n",
    "print(f\"Tamanho do dataset dentro da janela (±{window} pontos): {len(df_window)}\")\n",
    "\n",
    "# 4. Selecionar colunas relevantes para RDD\n",
    "cols_relevantes = [\n",
    "    'nota_enem', 'corte', 'running',\n",
    "    'tratamento', 'emprego_na_area',\n",
    "    'sexo', 'raca', 'idade', 'renda_pc',\n",
    "    'escola_publica', 'curso', 'turno', 'IES', 'ano'\n",
    "]\n",
    "df_rdd = df_window[cols_relevantes].copy()\n",
    "\n",
    "# 5. Garantir tipos corretos para as variáveis\n",
    "categorias = ['sexo', 'raca', 'escola_publica', 'curso', 'turno', 'IES']\n",
    "for col in categorias:\n",
    "    df_rdd[col] = df_rdd[col].astype('category')\n",
    "    \n",
    "# Conferir a estrutura final\n",
    "df_rdd.info()\n",
    "df_rdd.head()"
   ]
  },
  {
   "cell_type": "code",
   "execution_count": 0,
   "metadata": {
    "application/vnd.databricks.v1+cell": {
     "cellMetadata": {},
     "inputWidgets": {},
     "nuid": "7254f152-0f75-4cfa-877c-b1ec8ca4132b",
     "showTitle": false,
     "tableResultSettingsMap": {},
     "title": ""
    }
   },
   "outputs": [],
   "source": [
    "Somente por essa análise, percebemos que do total de 4.000 registros, apenas 538 candidatos se encontram na faixa de ±10 pontos do corte do ENEM, ou seja, pouco mais de 13% da amostra inicial. Isso reforça que o foco do RDD está em um grupo reduzido e específico, mas altamente relevante para medir o impacto do programa."
   ]
  },
  {
   "cell_type": "markdown",
   "metadata": {
    "application/vnd.databricks.v1+cell": {
     "cellMetadata": {},
     "inputWidgets": {},
     "nuid": "478240df-d32b-4da8-9116-45494df56684",
     "showTitle": false,
     "tableResultSettingsMap": {},
     "title": ""
    }
   },
   "source": [
    "##Análise do Impacto Local do PROUNI por Gênero##"
   ]
  },
  {
   "cell_type": "code",
   "execution_count": 0,
   "metadata": {
    "application/vnd.databricks.v1+cell": {
     "cellMetadata": {
      "byteLimit": 2048000,
      "rowLimit": 10000
     },
     "inputWidgets": {},
     "nuid": "0b0bac7c-914c-4aea-a4bd-a88e72fc5512",
     "showTitle": false,
     "tableResultSettingsMap": {},
     "title": ""
    }
   },
   "outputs": [
    {
     "output_type": "stream",
     "name": "stdout",
     "output_type": "stream",
     "text": [
      "Corte utilizado: 615.00\n\nResumo do impacto local do PROUNI por gênero (janela ±2 pontos):\n"
     ]
    },
    {
     "output_type": "display_data",
     "data": {
      "text/html": [
       "<style scoped>\n",
       "  .table-result-container {\n",
       "    max-height: 300px;\n",
       "    overflow: auto;\n",
       "  }\n",
       "  table, th, td {\n",
       "    border: 1px solid black;\n",
       "    border-collapse: collapse;\n",
       "  }\n",
       "  th, td {\n",
       "    padding: 5px;\n",
       "  }\n",
       "  th {\n",
       "    text-align: left;\n",
       "  }\n",
       "</style><div class='table-result-container'><table class='table-result'><thead style='background-color: white'><tr><th>Gênero</th><th>Efeito_diff_means (p.p.)</th><th>Efeito_RDD (p.p.)</th></tr></thead><tbody><tr><td>Homens</td><td>25.396825396825395</td><td>-44.04761904761904</td></tr><tr><td>Mulheres</td><td>18.75</td><td>-53.17460317460322</td></tr></tbody></table></div>"
      ]
     },
     "metadata": {
      "application/vnd.databricks.v1+output": {
       "addedWidgets": {},
       "aggData": [],
       "aggError": "",
       "aggOverflow": false,
       "aggSchema": [],
       "aggSeriesLimitReached": false,
       "aggType": "",
       "arguments": {},
       "columnCustomDisplayInfos": {},
       "data": [
        [
         "Homens",
         25.396825396825395,
         -44.04761904761904
        ],
        [
         "Mulheres",
         18.75,
         -53.17460317460322
        ]
       ],
       "datasetInfos": [],
       "dbfsResultPath": null,
       "isJsonSchema": true,
       "metadata": {},
       "overflow": false,
       "plotOptions": {
        "customPlotOptions": {},
        "displayType": "table",
        "pivotAggregation": null,
        "pivotColumns": null,
        "xColumns": null,
        "yColumns": null
       },
       "removedWidgets": [],
       "schema": [
        {
         "metadata": "{}",
         "name": "Gênero",
         "type": "\"string\""
        },
        {
         "metadata": "{}",
         "name": "Efeito_diff_means (p.p.)",
         "type": "\"double\""
        },
        {
         "metadata": "{}",
         "name": "Efeito_RDD (p.p.)",
         "type": "\"double\""
        }
       ],
       "type": "table"
      }
     },
     "output_type": "display_data"
    },
    {
     "output_type": "stream",
     "name": "stdout",
     "output_type": "stream",
     "text": [
      "\nConclusão automática:\n- Grupo com maior impacto local: Homens\n- Diferença absoluta de impacto entre grupos: 6.65 p.p.\n"
     ]
    }
   ],
   "source": [
    "#Importações necessárias para análise \n",
    "import statsmodels.formula.api as smf\n",
    "import statsmodels.api as sm\n",
    "\n",
    "#separação de Colunas obrigatórias: 'nota_enem', 'emprego_na_area', 'sexo'\n",
    "required_cols = ['nota_enem', 'emprego_na_area', 'sexo']\n",
    "missing = [c for c in required_cols if c not in df_rdd.columns]\n",
    "if missing:\n",
    "    raise ValueError(f\"Faltam colunas obrigatórias: {missing}\")\n",
    "\n",
    "# Limpeza de dados\n",
    "df_rdd = df_rdd.dropna(subset=required_cols).copy()\n",
    "df_rdd['nota_enem'] = pd.to_numeric(df_rdd['nota_enem'], errors='coerce')\n",
    "df_rdd['emprego_na_area'] = pd.to_numeric(df_rdd['emprego_na_area'], errors='coerce')\n",
    "\n",
    "# Determinar corte e coluna 'bolsa'\n",
    "if 'bolsa' in df_rdd.columns:\n",
    "    df_rdd['bolsa'] = df_rdd['bolsa'].astype(int)\n",
    "    corte = df_rdd[df_rdd['bolsa']==1]['nota_enem'].min()\n",
    "else:\n",
    "    if 'corte' in globals():\n",
    "        corte = float(globals()['corte'])\n",
    "        df_rdd['bolsa'] = (df_rdd['nota_enem'] >= corte).astype(int)\n",
    "    else:\n",
    "        # fallback heurístico: usar percentil 75\n",
    "        corte = float(np.percentile(df_rdd['nota_enem'], 75))\n",
    "        df_rdd['bolsa'] = (df_rdd['nota_enem'] >= corte).astype(int)\n",
    "\n",
    "print(f\"Corte utilizado: {corte:.2f}\")\n",
    "\n",
    "# Criar variável running e normalizar sexo\n",
    "df_rdd['running'] = df_rdd['nota_enem'] - corte\n",
    "df_rdd['sexo_norm'] = df_rdd['sexo'].astype(str).str.strip().str.upper().str[0].map(lambda x: 'M' if x=='M' else ('F' if x=='F' else 'O'))\n",
    "df_rdd = df_rdd[df_rdd['sexo_norm'].isin(['M','F'])]\n",
    "\n",
    "# Função de efeito local (diferença de médias)\n",
    "\n",
    "def efeito_local_diff_means(df, h=2, sex=None):\n",
    "    sub = df[(df['running'] >= -h) & (df['running'] <= h)]\n",
    "    if sex:\n",
    "        sub = sub[sub['sexo_norm'] == sex]\n",
    "    acima = sub[sub['running'] >= 0]['emprego_na_area']\n",
    "    abaixo = sub[sub['running'] < 0]['emprego_na_area']\n",
    "    if len(acima)==0 or len(abaixo)==0:\n",
    "        return np.nan\n",
    "    return (acima.mean() - abaixo.mean()) * 100  # pontos percentuais\n",
    "\n",
    "# Função de RDD local linear\n",
    "def rdd_local_linear(df, h=2, sex=None):\n",
    "    sub = df[(df['running'] >= -h) & (df['running'] <= h)]\n",
    "    if sex:\n",
    "        sub = sub[sub['sexo_norm'] == sex]\n",
    "    sub = sub.dropna(subset=['emprego_na_area', 'running', 'bolsa'])\n",
    "    if len(sub) < 10:\n",
    "        return np.nan\n",
    "    model = smf.ols('emprego_na_area ~ bolsa + running + I(bolsa*running)', data=sub).fit(cov_type='HC1')\n",
    "    if 'bolsa' in model.params.index:\n",
    "        return model.params['bolsa']*100  # converter para p.p.\n",
    "    return np.nan\n",
    "\n",
    "# Calcular efeitos para homens e mulheres\n",
    "bandwidth = 2  # ±2 pontos do corte\n",
    "resultados = []\n",
    "for sexo_code, sexo_label in [('M','Homens'), ('F','Mulheres')]:\n",
    "    efeito_diff = efeito_local_diff_means(df_rdd, h=bandwidth, sex=sexo_code)\n",
    "    efeito_rdd = rdd_local_linear(df_rdd, h=bandwidth, sex=sexo_code)\n",
    "    resultados.append({\n",
    "        'Gênero': sexo_label,\n",
    "        'Efeito_diff_means (p.p.)': efeito_diff,\n",
    "        'Efeito_RDD (p.p.)': efeito_rdd\n",
    "    })\n",
    "\n",
    "res_df = pd.DataFrame(resultados)\n",
    "print(\"\\nResumo do impacto local do PROUNI por gênero (janela ±2 pontos):\")\n",
    "display(res_df)\n",
    "\n",
    "# Conclusão automática\n",
    "if all(res_df['Efeito_diff_means (p.p.)'].notna()):\n",
    "    ef_h = res_df.loc[res_df['Gênero']=='Homens','Efeito_diff_means (p.p.)'].values[0]\n",
    "    ef_m = res_df.loc[res_df['Gênero']=='Mulheres','Efeito_diff_means (p.p.)'].values[0]\n",
    "    maior = 'Homens' if ef_h > ef_m else 'Mulheres'\n",
    "    diff_pp = abs(ef_h - ef_m)\n",
    "    print(\"\\nConclusão automática:\")\n",
    "    print(f\"- Grupo com maior impacto local: {maior}\")\n",
    "    print(f\"- Diferença absoluta de impacto entre grupos: {diff_pp:.2f} p.p.\")\n",
    "else:\n",
    "    print(\"Não foi possível calcular efeitos locais completos (dados insuficientes).\")"
   ]
  },
  {
   "cell_type": "markdown",
   "metadata": {
    "application/vnd.databricks.v1+cell": {
     "cellMetadata": {},
     "inputWidgets": {},
     "nuid": "61fe0994-aa5b-4eda-a1e2-cc6a0541f8b9",
     "showTitle": false,
     "tableResultSettingsMap": {},
     "title": ""
    }
   },
   "source": [
    "## **Vizualizações Gráficas**"
   ]
  },
  {
   "cell_type": "markdown",
   "metadata": {
    "application/vnd.databricks.v1+cell": {
     "cellMetadata": {},
     "inputWidgets": {},
     "nuid": "9008dd64-4e52-406a-b4b5-a17b5cfd0924",
     "showTitle": false,
     "tableResultSettingsMap": {},
     "title": ""
    }
   },
   "source": [
    "##Gráfico 1 -Código (RDD local por sexo)##"
   ]
  },
  {
   "cell_type": "code",
   "execution_count": 0,
   "metadata": {
    "application/vnd.databricks.v1+cell": {
     "cellMetadata": {
      "byteLimit": 2048000,
      "rowLimit": 10000
     },
     "inputWidgets": {},
     "nuid": "0e643d18-8b0c-4b0c-b34a-47c49445c60d",
     "showTitle": false,
     "tableResultSettingsMap": {},
     "title": ""
    }
   },
   "outputs": [
    {
     "output_type": "stream",
     "name": "stdout",
     "output_type": "stream",
     "text": [
      "Resumo (RDD local por sexo, margem ±2 pontos):\n       sexo  p_emprego_abaxo  p_emprego_acima  ...  efeito_rel_%  n_abaixo  n_acima\n0    Homens             25.0            58.82  ...        135.29         8       17\n1  Mulheres             40.0            47.83  ...         19.57        10       23\n\n[2 rows x 7 columns]\n\nConclusão automática:\n- Homens apresentam MAIOR impacto local da bolsa: 33.82 p.p. (variação relativa: 135.3% ).\n- Diferença de impacto entre grupos: 26.00 p.p.\n"
     ]
    },
    {
     "output_type": "display_data",
     "data": {
      "image/png": "[encoded data removed]",
      "text/plain": [
       "<Figure size 600x500 with 1 Axes>"
      ]
     },
     "metadata": {},
     "output_type": "display_data"
    }
   ],
   "source": [
    "import numpy as np\n",
    "import pandas as pd\n",
    "import matplotlib.pyplot as plt\n",
    "\n",
    "# Preparação: running e tratamento (bolsa)\n",
    "df = df_rdd.copy()\n",
    "\n",
    "# Nota de corte do PROUNI\n",
    "corte = 600\n",
    "\n",
    "# Normaliza sexo para M/F (primeira letra, maiúscula)\n",
    "df['sexo_norm'] = df['sexo'].astype(str).str.strip().str.upper().str[0].replace({'F':'F','M':'M'})\n",
    "# Running variable e indicador de tratamento (recebeu bolsa)\n",
    "df['running'] = df['nota_enem'] - corte\n",
    "df['bolsa']   = (df['running'] >= 0).astype(int)\n",
    "\n",
    "# Escolha do bandwidth (margem) e amostra local \n",
    "h = 2  # você pode testar h=1, 2, 3... e checar robustez\n",
    "amostra = df[(df['running'] >= -h) & (df['running'] <= h)].copy()\n",
    "\n",
    "# Diferença de médias (acima − abaixo) por sexo \n",
    "res = []\n",
    "for s in ['F','M']:\n",
    "    sub = amostra[amostra['sexo_norm'] == s]\n",
    "    acima  = sub[sub['bolsa']==1]['emprego_na_area'].mean()\n",
    "    abaixo = sub[sub['bolsa']==0]['emprego_na_area'].mean()\n",
    "    n_acima  = sub[sub['bolsa']==1].shape[0]\n",
    "    n_abaixo = sub[sub['bolsa']==0].shape[0]\n",
    "    \n",
    "    # efeito em pontos percentuais\n",
    "    efeito_pp = (acima - abaixo) * 100.0\n",
    "    \n",
    "    # variação relativa (% sobre a base abaixo do corte), protegendo divisão por zero\n",
    "    rel = np.nan\n",
    "    if abaixo > 0:\n",
    "        rel = (acima - abaixo) / abaixo * 100.0\n",
    "    \n",
    "    res.append({\n",
    "        'sexo': 'Mulheres' if s=='F' else 'Homens',\n",
    "        'p_emprego_abaxo': abaixo*100,\n",
    "        'p_emprego_acima': acima*100,\n",
    "        'efeito_local_pp': efeito_pp,\n",
    "        'efeito_rel_%': rel,\n",
    "        'n_abaixo': n_abaixo,\n",
    "        'n_acima': n_acima\n",
    "    })\n",
    "\n",
    "resultado = pd.DataFrame(res)\n",
    "\n",
    "# Ordena por efeito (opcional)\n",
    "resultado = resultado.sort_values('efeito_local_pp', ascending=False).reset_index(drop=True)\n",
    "\n",
    "print(\"Resumo (RDD local por sexo, margem ±{} pontos):\".format(h))\n",
    "print(resultado.round(2))\n",
    "\n",
    " # Conclusão automática: quem tem maior impacto \n",
    "if len(resultado) == 2 and resultado['efeito_local_pp'].notna().all():\n",
    "    top = resultado.iloc[0]\n",
    "    segundo = resultado.iloc[1]\n",
    "    ganho = top['efeito_local_pp'] - segundo['efeito_local_pp']\n",
    "    print(\"\\nConclusão automática:\")\n",
    "    print(f\"- {top['sexo']} apresentam MAIOR impacto local da bolsa: \"\n",
    "          f\"{top['efeito_local_pp']:.2f} p.p. \"\n",
    "          f\"(variação relativa: {top['efeito_rel_%']:.1f}% ).\")\n",
    "    print(f\"- Diferença de impacto entre grupos: {ganho:.2f} p.p.\")\n",
    "else:\n",
    "    print(\"\\nConclusão automática: não foi possível comparar ambos os grupos (verifique dados).\")\n",
    "\n",
    "# Visual simples: barras com efeito em p.p. por sexo\n",
    "plt.figure(figsize=(6,5))\n",
    "plt.bar(resultado['sexo'], resultado['efeito_local_pp'])\n",
    "for x, y in zip(resultado['sexo'], resultado['efeito_local_pp']):\n",
    "    plt.text(x, y + np.sign(y)*0.2, f\"{y:.2f} p.p.\", ha='center', va='bottom' if y>=0 else 'top')\n",
    "plt.ylabel('Efeito local da bolsa (pontos percentuais)')\n",
    "plt.title(f'Efeito local do PROUNI por sexo (RDD, margem ±{h})')\n",
    "plt.grid(axis='y', alpha=0.3)\n",
    "plt.show()\n"
   ]
  },
  {
   "cell_type": "markdown",
   "metadata": {
    "application/vnd.databricks.v1+cell": {
     "cellMetadata": {},
     "inputWidgets": {},
     "nuid": "3e82329d-2046-44df-97cb-71f7f6af4a39",
     "showTitle": false,
     "tableResultSettingsMap": {},
     "title": ""
    }
   },
   "source": [
    "## Gráfico 2: Probabilidade de emprego vs nota ENEM ##"
   ]
  },
  {
   "cell_type": "code",
   "execution_count": 0,
   "metadata": {
    "application/vnd.databricks.v1+cell": {
     "cellMetadata": {
      "byteLimit": 2048000,
      "rowLimit": 10000
     },
     "inputWidgets": {},
     "nuid": "2bb4d5b5-d68f-45ad-b85f-85a9b23bbe7a",
     "showTitle": false,
     "tableResultSettingsMap": {},
     "title": ""
    }
   },
   "outputs": [
    {
     "output_type": "stream",
     "name": "stderr",
     "output_type": "stream",
     "text": [
      "/home/spark-06b6abaa-769d-47bf-aef6-ec/.ipykernel/4302/command-5636493020074369-3039236787:17: FutureWarning: \n\nPassing `palette` without assigning `hue` is deprecated and will be removed in v0.14.0. Assign the `x` variable to `hue` and set `legend=False` for the same effect.\n\n  bars = sns.barplot(\nfindfont: Font family 'Sora' not found.\nfindfont: Font family 'Sora' not found.\nfindfont: Font family 'Sora' not found.\nfindfont: Font family 'Sora' not found.\nfindfont: Font family 'Sora' not found.\nfindfont: Font family 'Sora' not found.\nfindfont: Font family 'Sora' not found.\nfindfont: Font family 'Sora' not found.\nfindfont: Font family 'Sora' not found.\nfindfont: Font family 'Sora' not found.\nfindfont: Font family 'Sora' not found.\nfindfont: Font family 'Sora' not found.\nfindfont: Font family 'Sora' not found.\nfindfont: Font family 'Sora' not found.\nfindfont: Font family 'Sora' not found.\nfindfont: Font family 'Sora' not found.\nfindfont: Font family 'Sora' not found.\nfindfont: Font family 'Sora' not found.\nfindfont: Font family 'Sora' not found.\nfindfont: Font family 'Sora' not found.\nfindfont: Font family 'Sora' not found.\nfindfont: Font family 'Sora' not found.\nfindfont: Font family 'Sora' not found.\nfindfont: Font family 'Sora' not found.\nfindfont: Font family 'Sora' not found.\nfindfont: Font family 'Sora' not found.\nfindfont: Font family 'Sora' not found.\nfindfont: Font family 'Sora' not found.\nfindfont: Font family 'Sora' not found.\nfindfont: Font family 'Sora' not found.\nfindfont: Font family 'Sora' not found.\nfindfont: Font family 'Sora' not found.\nfindfont: Font family 'Sora' not found.\nfindfont: Font family 'Sora' not found.\nfindfont: Font family 'Sora' not found.\nfindfont: Font family 'Sora' not found.\nfindfont: Font family 'Sora' not found.\nfindfont: Font family 'Sora' not found.\nfindfont: Font family 'Sora' not found.\nfindfont: Font family 'Sora' not found.\nfindfont: Font family 'Sora' not found.\nfindfont: Font family 'Sora' not found.\nfindfont: Font family 'Sora' not found.\nfindfont: Font family 'Sora' not found.\n"
     ]
    },
    {
     "output_type": "display_data",
     "data": {
      "image/png": "[encoded data removed]",
      "text/plain": [
       "<Figure size 800x600 with 1 Axes>"
      ]
     },
     "metadata": {},
     "output_type": "display_data"
    },
    {
     "output_type": "stream",
     "name": "stdout",
     "output_type": "stream",
     "text": [
      "Quadro explicativo:\n- Probabilidade média de emprego para candidatos logo abaixo do corte: 0.33\n- Probabilidade média de emprego para candidatos logo acima do corte: 0.53\n- Diferença entre as barras evidencia claramente o efeito causal da bolsa do PROUNI.\n"
     ]
    }
   ],
   "source": [
    "\n",
    "# Grupos perto do corte\n",
    "margem = 2 #essa margem define a “janela” em que olhamos o efeito local do PROUNI, equilibrando precisão e robustez estatística#\n",
    "abaixo = df_rdd[(df_rdd['running'] >= -margem) & (df_rdd['running'] < 0)]\n",
    "acima = df_rdd[(df_rdd['running'] >= 0) & (df_rdd['running'] <= margem)]\n",
    "\n",
    "# Probabilidade média de emprego\n",
    "emprego_media = [abaixo['emprego_na_area'].mean(), acima['emprego_na_area'].mean()]\n",
    "\n",
    "# Configuração do gráfico\n",
    "fig, ax = plt.subplots(figsize=(8,6), facecolor='#8FBC8F')  # fundo da figura verde médio\n",
    "ax.set_facecolor('#8FBC8F')  # fundo do painel verde médio\n",
    "for spine in ax.spines.values():  # remover bordas brancas\n",
    "    spine.set_visible(False)\n",
    "\n",
    "# Gráfico de barras \n",
    "colors = ['gray','blue']\n",
    "bars = sns.barplot(\n",
    "    x=['Abaixo do corte', 'Acima do corte'],\n",
    "    y=emprego_media,\n",
    "    palette=colors,\n",
    "    ax=ax,\n",
    "    edgecolor=None  # remove contorno branco\n",
    ")\n",
    "\n",
    "# Adicionando valores sobre as barras\n",
    "for bar, valor in zip(bars.patches, emprego_media):\n",
    "    height = bar.get_height()\n",
    "    ax.text(bar.get_x() + bar.get_width()/2., height + 0.01, f'{valor:.2f}', ha='center', fontsize=12, color='black', weight='bold')\n",
    "\n",
    "# Configurações de título e eixos\n",
    "ax.set_ylabel('Probabilidade média de emprego', fontsize=14, color='royalblue', weight='bold')\n",
    "ax.set_xlabel('')\n",
    "ax.set_title(f'Efeito do PROUNI na probabilidade de emprego (margem ±{margem} pontos)', fontsize=18, color='royalblue', weight='bold')\n",
    "\n",
    "# Grid horizontal\n",
    "ax.grid(axis='y', alpha=0.3)\n",
    "ax.set_axisbelow(True)\n",
    "\n",
    "plt.show()\n",
    "\n",
    "# Quadro explicativo\n",
    "print(\"Quadro explicativo:\")\n",
    "print(f\"- Probabilidade média de emprego para candidatos logo abaixo do corte: {emprego_media[0]:.2f}\")\n",
    "print(f\"- Probabilidade média de emprego para candidatos logo acima do corte: {emprego_media[1]:.2f}\")\n",
    "print(\"- Diferença entre as barras evidencia claramente o efeito causal da bolsa do PROUNI.\")\n"
   ]
  },
  {
   "cell_type": "markdown",
   "metadata": {
    "application/vnd.databricks.v1+cell": {
     "cellMetadata": {},
     "inputWidgets": {},
     "nuid": "02ac2409-ecc9-4586-b8e8-87fffe779a80",
     "showTitle": false,
     "tableResultSettingsMap": {},
     "title": ""
    }
   },
   "source": [
    "## Gráfico 3:Distribuição das notas em relação ao corte##"
   ]
  },
  {
   "cell_type": "code",
   "execution_count": 0,
   "metadata": {
    "application/vnd.databricks.v1+cell": {
     "cellMetadata": {
      "byteLimit": 2048000,
      "rowLimit": 10000
     },
     "inputWidgets": {},
     "nuid": "d5f9103b-98bf-49bb-af97-b94f73366f9f",
     "showTitle": false,
     "tableResultSettingsMap": {},
     "title": ""
    }
   },
   "outputs": [
    {
     "output_type": "display_data",
     "data": {
      "image/png": "[encoded data removed]",
      "text/plain": [
       "<Figure size 1200x600 with 1 Axes>"
      ]
     },
     "metadata": {},
     "output_type": "display_data"
    }
   ],
   "source": [
    "# Gráfico que mostra a Distribuição das notas em relação ao corte # \n",
    "# Preparar bins\n",
    "bins = np.arange(df_rdd['running'].min(), df_rdd['running'].max()+1, 2)\n",
    "counts, bin_edges = np.histogram(df_rdd['running'], bins=bins)\n",
    "\n",
    "# Separar grupos para quadro explicativo\n",
    "abaixo_corte = df_rdd[df_rdd['running'] < 0].shape[0]\n",
    "acima_corte = df_rdd[df_rdd['running'] >= 0].shape[0]\n",
    "total = df_rdd.shape[0]\n",
    "\n",
    "# Configuração do gráfico\n",
    "fig, ax = plt.subplots(figsize=(12,6), facecolor='#8FBC8F')\n",
    "ax.set_facecolor('#8FBC8F')\n",
    "for spine in ax.spines.values():\n",
    "    spine.set_visible(False)\n",
    "\n",
    "# Barras do histograma \n",
    "bar_width = 1.0  # barras mais finas\n",
    "ax.bar(bin_edges[:-1], counts, width=bar_width, color='green', edgecolor='green', alpha=0.7)\n",
    "\n",
    "# Linha do corte\n",
    "ax.axvline(0, color='red', linestyle='--', linewidth=3, label='Corte ENEM')\n",
    "\n",
    "# Números sobre as barras ajustados\n",
    "for x, y in zip(bin_edges[:-1], counts):\n",
    "    if y > 0:\n",
    "        ax.text(x + bar_width/2, y + 0.5, f'{y}', ha='center', fontsize=10, color='black', weight='bold')\n",
    "\n",
    "# Quadro explicativo integrado\n",
    "texto_quadro = (f'Total de candidatos: {total}\\n'\n",
    "                f'Abaixo do corte: {abaixo_corte}\\n'\n",
    "                f'Acima do corte: {acima_corte}')\n",
    "ax.text(0.95, 0.75, texto_quadro, transform=ax.transAxes,\n",
    "        fontsize=12, color='black', weight='bold',\n",
    "        ha='right', va='top',\n",
    "        bbox=dict(facecolor='white', alpha=0.7, edgecolor='black'))\n",
    "\n",
    "# Ajuste do eixo Y \n",
    "ax.set_ylim(0, max(counts)+2)\n",
    "\n",
    "# Títulos e eixos\n",
    "ax.set_xlabel('Diferença da nota em relação ao corte (nota_enem - corte)', fontsize=14, color='royalblue')\n",
    "ax.set_ylabel('Número de candidatos', fontsize=14, color='royalblue')\n",
    "ax.set_title('Distribuição das notas em relação ao corte', fontsize=18, color='royalblue', weight='bold')\n",
    "\n",
    "# Grid\n",
    "ax.grid(axis='y', alpha=0.3)\n",
    "ax.set_axisbelow(True)\n",
    "\n",
    "plt.show()\n"
   ]
  },
  {
   "cell_type": "markdown",
   "metadata": {
    "application/vnd.databricks.v1+cell": {
     "cellMetadata": {},
     "inputWidgets": {},
     "nuid": "c4f5935e-3dc4-4dc9-9431-95c19417d86e",
     "showTitle": false,
     "tableResultSettingsMap": {},
     "title": ""
    }
   },
   "source": [
    "Este gráfico permite identificar quantos candidatos estão próximos ao corte, aqueles que são marginalmente elegíveis ou marginalmente inelegíveis. A concentração de candidatos perto do corte justifica o uso de métodos de avaliação causal como o RDD, já que pequenas diferenças na nota podem determinar o recebimento da bolsa. Mostra a “população alvo” da política, que poderá ajudar a entender quem é mais impactado e onde ajustes na política poderiam ter maior efeito."
   ]
  },
  {
   "cell_type": "markdown",
   "metadata": {
    "application/vnd.databricks.v1+cell": {
     "cellMetadata": {},
     "inputWidgets": {},
     "nuid": "d6da17cb-1878-4add-b80e-bbfe8bb7f486",
     "showTitle": false,
     "tableResultSettingsMap": {},
     "title": ""
    }
   },
   "source": [
    "##Gráfico 4: Diferença Cumulativa ou Efeito Agregado da Política##"
   ]
  },
  {
   "cell_type": "code",
   "execution_count": 0,
   "metadata": {
    "application/vnd.databricks.v1+cell": {
     "cellMetadata": {
      "byteLimit": 2048000,
      "rowLimit": 10000
     },
     "inputWidgets": {},
     "nuid": "7d20b083-103b-45ca-bd8b-2a355d6729be",
     "showTitle": false,
     "tableResultSettingsMap": {},
     "title": ""
    }
   },
   "outputs": [
    {
     "output_type": "stream",
     "name": "stderr",
     "output_type": "stream",
     "text": [
      "findfont: Font family 'Sora' not found.\nfindfont: Font family 'Sora' not found.\nfindfont: Font family 'Sora' not found.\nfindfont: Font family 'Sora' not found.\nfindfont: Font family 'Sora' not found.\nfindfont: Font family 'Sora' not found.\nfindfont: Font family 'Sora' not found.\nfindfont: Font family 'Sora' not found.\nfindfont: Font family 'Sora' not found.\nfindfont: Font family 'Sora' not found.\nfindfont: Font family 'Sora' not found.\nfindfont: Font family 'Sora' not found.\nfindfont: Font family 'Sora' not found.\nfindfont: Font family 'Sora' not found.\nfindfont: Font family 'Sora' not found.\nfindfont: Font family 'Sora' not found.\nfindfont: Font family 'Sora' not found.\nfindfont: Font family 'Sora' not found.\nfindfont: Font family 'Sora' not found.\nfindfont: Font family 'Sora' not found.\nfindfont: Font family 'Sora' not found.\nfindfont: Font family 'Sora' not found.\nfindfont: Font family 'Sora' not found.\nfindfont: Font family 'Sora' not found.\nfindfont: Font family 'Sora' not found.\nfindfont: Font family 'Sora' not found.\nfindfont: Font family 'Sora' not found.\nfindfont: Font family 'Sora' not found.\nfindfont: Font family 'Sora' not found.\nfindfont: Font family 'Sora' not found.\nfindfont: Font family 'Sora' not found.\nfindfont: Font family 'Sora' not found.\nfindfont: Font family 'Sora' not found.\nfindfont: Font family 'Sora' not found.\nfindfont: Font family 'Sora' not found.\nfindfont: Font family 'Sora' not found.\nfindfont: Font family 'Sora' not found.\nfindfont: Font family 'Sora' not found.\nfindfont: Font family 'Sora' not found.\nfindfont: Font family 'Sora' not found.\nfindfont: Font family 'Sora' not found.\nfindfont: Font family 'Sora' not found.\nfindfont: Font family 'Sora' not found.\nfindfont: Font family 'Sora' not found.\nfindfont: Font family 'Sora' not found.\nfindfont: Font family 'Sora' not found.\nfindfont: Font family 'Sora' not found.\nfindfont: Font family 'Sora' not found.\nfindfont: Font family 'Sora' not found.\nfindfont: Font family 'Sora' not found.\nfindfont: Font family 'Sora' not found.\nfindfont: Font family 'Sora' not found.\nfindfont: Font family 'Sora' not found.\nfindfont: Font family 'Sora' not found.\nfindfont: Font family 'Sora' not found.\nfindfont: Font family 'Sora' not found.\nfindfont: Font family 'Sora' not found.\nfindfont: Font family 'Sora' not found.\nfindfont: Font family 'Sora' not found.\nfindfont: Font family 'Sora' not found.\nfindfont: Font family 'Sora' not found.\nfindfont: Font family 'Sora' not found.\nfindfont: Font family 'Sora' not found.\nfindfont: Font family 'Sora' not found.\nfindfont: Font family 'Sora' not found.\nfindfont: Font family 'Sora' not found.\nfindfont: Font family 'Sora' not found.\nfindfont: Font family 'Sora' not found.\nfindfont: Font family 'Sora' not found.\nfindfont: Font family 'Sora' not found.\nfindfont: Font family 'Sora' not found.\nfindfont: Font family 'Sora' not found.\nfindfont: Font family 'Sora' not found.\nfindfont: Font family 'Sora' not found.\nfindfont: Font family 'Sora' not found.\nfindfont: Font family 'Sora' not found.\nfindfont: Font family 'Sora' not found.\nfindfont: Font family 'Sora' not found.\nfindfont: Font family 'Sora' not found.\nfindfont: Font family 'Sora' not found.\nfindfont: Font family 'Sora' not found.\nfindfont: Font family 'Sora' not found.\nfindfont: Font family 'Sora' not found.\nfindfont: Font family 'Sora' not found.\nfindfont: Font family 'Sora' not found.\nfindfont: Font family 'Sora' not found.\nfindfont: Font family 'Sora' not found.\nfindfont: Font family 'Sora' not found.\nfindfont: Font family 'Sora' not found.\nfindfont: Font family 'Sora' not found.\nfindfont: Font family 'Sora' not found.\nfindfont: Font family 'Sora' not found.\nfindfont: Font family 'Sora' not found.\nfindfont: Font family 'Sora' not found.\nfindfont: Font family 'Sora' not found.\nfindfont: Font family 'Sora' not found.\nfindfont: Font family 'Sora' not found.\nfindfont: Font family 'Sora' not found.\nfindfont: Font family 'Sora' not found.\nfindfont: Font family 'Sora' not found.\nfindfont: Font family 'Sora' not found.\nfindfont: Font family 'Sora' not found.\n"
     ]
    },
    {
     "output_type": "display_data",
     "data": {
      "image/png": "[encoded data removed]",
      "text/plain": [
       "<Figure size 1000x600 with 1 Axes>"
      ]
     },
     "metadata": {},
     "output_type": "display_data"
    }
   ],
   "source": [
    "# Gráfico\n",
    "fig, ax = plt.subplots(figsize=(10,6), facecolor='#8FBC8F')\n",
    "ax.set_facecolor('#8FBC8F')\n",
    "for spine in ax.spines.values():\n",
    "    spine.set_visible(False)\n",
    "\n",
    "# Linhas de probabilidade por grupo\n",
    "ax.plot(com_bolsa['bin'].astype(str), com_bolsa['emprego_na_area'], color='blue', marker='o', linewidth=3, label='Com Bolsa')\n",
    "ax.plot(sem_bolsa['bin'].astype(str), sem_bolsa['emprego_na_area'], color='gray', marker='o', linewidth=3, label='Sem Bolsa')\n",
    "\n",
    "# Preencher área entre linhas\n",
    "ax.fill_between(com_bolsa['bin'].astype(str), sem_bolsa['emprego_na_area'], com_bolsa['emprego_na_area'],\n",
    "                color='blue', alpha=0.2)\n",
    "\n",
    "# Títulos e legendas\n",
    "ax.set_xlabel('Faixa de nota ENEM', fontsize=14, color='royalblue')\n",
    "ax.set_ylabel('Probabilidade média de emprego', fontsize=14, color='royalblue')\n",
    "ax.set_title('Impacto agregado do PROUNI sobre emprego', fontsize=18, color='royalblue', weight='bold')\n",
    "ax.legend(fontsize=12)\n",
    "ax.grid(axis='y', alpha=0.3)\n",
    "ax.set_axisbelow(True)\n",
    "\n",
    "# Reduzir número de ticks no eixo X e rotacionar\n",
    "ticks_pos = com_bolsa['bin'].astype(str).iloc[::2]  # mostra apenas a cada 2 bins\n",
    "ax.set_xticks(range(0, len(com_bolsa['bin']), 2))\n",
    "ax.set_xticklabels(ticks_pos, rotation=45, ha='right')\n",
    "\n",
    "# Quadro explicativo integrado\n",
    "texto_quadro = (\n",
    "    f'Total de candidatos: {df_rdd.shape[0]}\\n'\n",
    "    f'Com bolsa: {df_rdd[df_rdd[\"bolsa\"]==1].shape[0]}\\n'\n",
    "    f'Sem bolsa: {df_rdd[df_rdd[\"bolsa\"]==0].shape[0]}\\n'\n",
    "    f'Diferença média de emprego: '\n",
    "    f'{com_bolsa[\"emprego_na_area\"].mean() - sem_bolsa[\"emprego_na_area\"].mean():.2f}'\n",
    ")\n",
    "ax.text(0.95, 0.75, texto_quadro, transform=ax.transAxes, fontsize=12, color='black', weight='bold',\n",
    "        ha='right', va='top', bbox=dict(facecolor='white', alpha=0.7, edgecolor='black'))\n",
    "\n",
    "plt.show()\n"
   ]
  },
  {
   "cell_type": "markdown",
   "metadata": {
    "application/vnd.databricks.v1+cell": {
     "cellMetadata": {},
     "inputWidgets": {},
     "nuid": "02c92e10-4626-4d9f-b565-5af33549c841",
     "showTitle": false,
     "tableResultSettingsMap": {},
     "title": ""
    }
   },
   "source": [
    "Este gráfico mostra de forma clara como a política pública altera o resultado de emprego ao longo da distribuição de notas, não apenas no ponto de corte. Permite identificar quais faixas de estudantes se beneficiam mais da política, ajudando gestores a compreender a amplitude e a intensidade do efeito do PROUNI. É uma ferramenta poderosa para justificar políticas públicas, pois visualiza a diferença efetiva entre elegíveis e não elegíveis, reforçando a necessidade de intervenção."
   ]
  },
  {
   "cell_type": "markdown",
   "metadata": {
    "application/vnd.databricks.v1+cell": {
     "cellMetadata": {},
     "inputWidgets": {},
     "nuid": "ade8882d-8ace-45b6-b943-f7dbaa2ce61e",
     "showTitle": false,
     "tableResultSettingsMap": {},
     "title": ""
    }
   },
   "source": [
    "## Gráfico corporativo comparando homens e mulheres no impacto local do PROUNI.##"
   ]
  },
  {
   "cell_type": "code",
   "execution_count": 0,
   "metadata": {
    "application/vnd.databricks.v1+cell": {
     "cellMetadata": {},
     "inputWidgets": {},
     "nuid": "b69b04f7-ae9e-46ff-8746-0ef5ef0527c8",
     "showTitle": false,
     "tableResultSettingsMap": {},
     "title": ""
    }
   },
   "outputs": [],
   "source": [
    "# Análise do Impacto do PROUNI por Gênero no Emprego Formal\n",
    "\n",
    "# Configurações globais\n",
    "sns.set(style=\"whitegrid\")\n",
    "plt.rcParams[\"axes.edgecolor\"] = \"black\"\n",
    "plt.rcParams[\"axes.linewidth\"] = 1.2\n",
    "plt.rcParams[\"font.family\"] = \"Sora\"  \n",
    "plt.rcParams[\"figure.dpi\"] = 120\n",
    "\n",
    "\n"
   ]
  },
  {
   "cell_type": "markdown",
   "metadata": {
    "application/vnd.databricks.v1+cell": {
     "cellMetadata": {},
     "inputWidgets": {},
     "nuid": "d46f408f-0414-41da-a6ad-524beb5e0d22",
     "showTitle": false,
     "tableResultSettingsMap": {},
     "title": ""
    }
   },
   "source": [
    "Neste notebook, aplicamos o método de Regression Discontinuity Design (RDD) para avaliar o impacto causal das bolsas do PROUNI sobre a probabilidade de trabalhar na área de formação.\n",
    "\n",
    "Principais resultados:\n",
    "\n",
    "Efeito local da bolsa: Candidatos logo acima do corte do ENEM apresentam probabilidade média de emprego superior aos candidatos logo abaixo do corte. A diferença entre os grupos evidencia o impacto direto da política, controlando por características observáveis e não observáveis dos estudantes próximos à margem.\n",
    "\n",
    "Homens apresentam maior impacto local da bolsa: 33,82 p.p. (variação relativa: 135,3%). Diferença de impacto entre grupos: 26,00 p.p. Isso revela que a política pública não impacta de forma homogênea. Embora beneficie ambos os grupos, o ganho é muito maior para os homens, evidenciando que políticas afirmativas podem corrigir desigualdades específicas de inserção no mercado.\n",
    "\n",
    "Distribuição das notas: O histograma evidencia que a maioria dos candidatos está concentrada em torno do corte, reforçando a relevância da análise local. A linha de corte claramente separa os candidatos elegíveis daqueles não elegíveis, validando a aplicação do RDD.\n",
    "\n",
    "Probabilidade de emprego por faixa de nota: O gráfico de dispersão suavizado mostra o comportamento da probabilidade de emprego ao longo das notas do ENEM, destacando o salto no ponto de corte. Isso confirma a eficácia da bolsa como instrumento de incentivo à inserção no mercado de trabalho na área de formação.\n",
    "\n",
    "Considerações finais: O método RDD se mostrou adequado para avaliar políticas públicas com regras claras de elegibilidade, como o PROUNI. Os resultados indicam benefícios concretos da bolsa para estudantes marginalmente elegíveis, contribuindo para decisões informadas sobre política educacional."
   ]
  },
  {
   "cell_type": "markdown",
   "metadata": {
    "application/vnd.databricks.v1+cell": {
     "cellMetadata": {},
     "inputWidgets": {},
     "nuid": "67ed1d64-5918-4329-81c5-2d00ec676820",
     "showTitle": false,
     "tableResultSettingsMap": {},
     "title": ""
    }
   },
   "source": []
  },
  {
   "cell_type": "markdown",
   "metadata": {
    "application/vnd.databricks.v1+cell": {
     "cellMetadata": {},
     "inputWidgets": {},
     "nuid": "38737ff5-f732-4ef8-9d7a-197e94307ed4",
     "showTitle": false,
     "tableResultSettingsMap": {},
     "title": ""
    }
   },
   "source": []
  }
 ],
 "metadata": {
  "application/vnd.databricks.v1+notebook": {
   "computePreferences": null,
   "dashboards": [],
   "environmentMetadata": {
    "base_environment": "",
    "environment_version": "3"
   },
   "inputWidgetPreferences": null,
   "language": "python",
   "notebookMetadata": {
    "pythonIndentUnit": 4
   },
   "notebookName": "Análise dos dados para Propor o método de avaliação de impacto. 2025-08-27 19:59:22",
   "widgets": {}
  },
  "language_info": {
   "name": "python"
  }
 },
 "nbformat": 4,
 "nbformat_minor": 0
}