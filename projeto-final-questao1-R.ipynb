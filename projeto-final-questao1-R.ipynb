{
 "cells": [
  {
   "cell_type": "markdown",
   "metadata": {
    "id": "TzwB_lpSIddc"
   },
   "source": [
    "## Análise de Vulnerabilidades e Oportunidades da Juventude de Recife: Subsídios para Políticas Públicas de Capacitação Profissional\n",
    "\n",
    "Objetivo:\n",
    "Este notebook tem como finalidade realizar a importação, inspeção e pré-processamento dos dados em linguagem R no Google Colab, garantindo a qualidade, integridade e consistência das informações. As etapas contemplam tratamento de valores ausentes, ajustes de tipos de variáveis, transformação e manipulação de dados para permitir análises precisas e visualizações gráficas eficientes, com resultados confiáveis e reprodutíveis.\n",
    "\n",
    "Fonte dos Dados:\n",
    "Os microdados utilizados são da PNAD Contínua (IBGE), originalmente disponibilizados pelo IBGE.\n",
    "\n",
    "[Acesse aqui os microdados da PNAD Contínua - IBGE](https://ftp.ibge.gov.br/Trabalho_e_Rendimento/Pesquisa_Nacional_por_Amostra_de_Domicilios_continua/Trimestral/Microdados/)"
   ]
  },
  {
   "cell_type": "markdown",
   "metadata": {
    "id": "GbWidXO4KbAI"
   },
   "source": [
    "Pacotes necessários"
   ]
  },
  {
   "cell_type": "code",
   "execution_count": 4,
   "metadata": {
    "colab": {
     "base_uri": "https://localhost:8080/"
    },
    "executionInfo": {
     "elapsed": 212376,
     "status": "ok",
     "timestamp": 1756627308966,
     "user": {
      "displayName": "Giseli Vieira",
      "userId": "13265107955551841154"
     },
     "user_tz": 180
    },
    "id": "OKY1Cc1RKioc",
    "outputId": "3f94cdf3-f604-4210-e2eb-db0f561d50d9",
    "vscode": {
     "languageId": "r"
    }
   },
   "outputs": [
    {
     "name": "stderr",
     "output_type": "stream",
     "text": [
      "Installing package into ‘/usr/local/lib/R/site-library’\n",
      "(as ‘lib’ is unspecified)\n",
      "\n",
      "Installing package into ‘/usr/local/lib/R/site-library’\n",
      "(as ‘lib’ is unspecified)\n",
      "\n",
      "Installing package into ‘/usr/local/lib/R/site-library’\n",
      "(as ‘lib’ is unspecified)\n",
      "\n",
      "Installing package into ‘/usr/local/lib/R/site-library’\n",
      "(as ‘lib’ is unspecified)\n",
      "\n",
      "Installing package into ‘/usr/local/lib/R/site-library’\n",
      "(as ‘lib’ is unspecified)\n",
      "\n",
      "Installing package into ‘/usr/local/lib/R/site-library’\n",
      "(as ‘lib’ is unspecified)\n",
      "\n",
      "Installing package into ‘/usr/local/lib/R/site-library’\n",
      "(as ‘lib’ is unspecified)\n",
      "\n",
      "Installing package into ‘/usr/local/lib/R/site-library’\n",
      "(as ‘lib’ is unspecified)\n",
      "\n",
      "Installing package into ‘/usr/local/lib/R/site-library’\n",
      "(as ‘lib’ is unspecified)\n",
      "\n",
      "Installing package into ‘/usr/local/lib/R/site-library’\n",
      "(as ‘lib’ is unspecified)\n",
      "\n",
      "Installing package into ‘/usr/local/lib/R/site-library’\n",
      "(as ‘lib’ is unspecified)\n",
      "\n"
     ]
    }
   ],
   "source": [
    "# Manipulação e limpeza de dados\n",
    "install.packages(\"tidyverse\")\n",
    "install.packages(\"dplyr\")\n",
    "install.packages(\"readr\")\n",
    "install.packages(\"stringr\")\n",
    "\n",
    "# Acesso e tratamento da PNADc\n",
    "install.packages(\"PNADcIBGE\")\n",
    "\n",
    "# Estatística amostral\n",
    "install.packages(\"survey\")\n",
    "install.packages(\"convey\")\n",
    "install.packages(\"srvyr\")\n",
    "\n",
    "# Visualização e comunicação\n",
    "install.packages(\"ggplot2\")\n",
    "install.packages(\"scales\")\n",
    "\n",
    "# Extra (importação de planilhas auxiliares)\n",
    "install.packages(\"readxl\")"
   ]
  },
  {
   "cell_type": "markdown",
   "metadata": {
    "id": "BIMLG3ByMs8_"
   },
   "source": [
    "Carregar pacotes"
   ]
  },
  {
   "cell_type": "code",
   "execution_count": 5,
   "metadata": {
    "colab": {
     "base_uri": "https://localhost:8080/"
    },
    "collapsed": true,
    "executionInfo": {
     "elapsed": 1912,
     "status": "ok",
     "timestamp": 1756627328905,
     "user": {
      "displayName": "Giseli Vieira",
      "userId": "13265107955551841154"
     },
     "user_tz": 180
    },
    "id": "d-aFrm1DMuPe",
    "outputId": "ad2679a5-db2d-436d-d514-06a39535cffd",
    "vscode": {
     "languageId": "r"
    }
   },
   "outputs": [
    {
     "name": "stderr",
     "output_type": "stream",
     "text": [
      "Loading required package: grid\n",
      "\n",
      "Loading required package: Matrix\n",
      "\n",
      "\n",
      "Attaching package: ‘Matrix’\n",
      "\n",
      "\n",
      "The following objects are masked from ‘package:tidyr’:\n",
      "\n",
      "    expand, pack, unpack\n",
      "\n",
      "\n",
      "Loading required package: survival\n",
      "\n",
      "\n",
      "Attaching package: ‘survey’\n",
      "\n",
      "\n",
      "The following object is masked from ‘package:graphics’:\n",
      "\n",
      "    dotchart\n",
      "\n",
      "\n",
      "\n",
      "Attaching package: ‘srvyr’\n",
      "\n",
      "\n",
      "The following object is masked from ‘package:stats’:\n",
      "\n",
      "    filter\n",
      "\n",
      "\n",
      "\n",
      "Attaching package: ‘scales’\n",
      "\n",
      "\n",
      "The following object is masked from ‘package:purrr’:\n",
      "\n",
      "    discard\n",
      "\n",
      "\n",
      "The following object is masked from ‘package:readr’:\n",
      "\n",
      "    col_factor\n",
      "\n",
      "\n"
     ]
    }
   ],
   "source": [
    "library(tidyverse)\n",
    "library(PNADcIBGE)\n",
    "library(survey)\n",
    "library(convey)\n",
    "library(srvyr)\n",
    "library(dplyr)\n",
    "library(ggplot2)\n",
    "library(scales)\n",
    "library(readxl)"
   ]
  },
  {
   "cell_type": "markdown",
   "metadata": {
    "id": "5eoa1rxfNZdh"
   },
   "source": [
    "##Importação dos Dados\n",
    "\n",
    "\n",
    "Durante a importação dos microdados da PNAD Contínua no Google Colab, os dados foram baixados online diretamente do repositório do IBGE via get_pnadc, garantindo atualização e eliminando a necessidade de armazenamento local.\n",
    "\n",
    "Selecionaram-se variáveis-chave do perfil socioeconômico, educacional e ocupacional dos jovens de Recife, permitindo inspeção inicial de padrões, lacunas e áreas de intervenção.\n",
    "\n",
    "A preparação dos dados incluiu tratamento de inconsistências, identificação de valores ausentes, transformação de variáveis, recodificação de categorias e criação de subsets por idade e sexo. Essa etapa é essencial para análises confiáveis e fornece base sólida para diagnósticos precisos e políticas públicas de capacitação profissional."
   ]
  },
  {
   "cell_type": "markdown",
   "metadata": {
    "id": "bAO0usYVWmH5"
   },
   "source": [
    "Baixando os microdados da PNAD Contínua para 2024 (4º trimestre) e 2025 (1º e 2º trimestres)"
   ]
  },
  {
   "cell_type": "code",
   "execution_count": 6,
   "metadata": {
    "executionInfo": {
     "elapsed": 54,
     "status": "ok",
     "timestamp": 1756627382204,
     "user": {
      "displayName": "Giseli Vieira",
      "userId": "13265107955551841154"
     },
     "user_tz": 180
    },
    "id": "CCE2CCXyIs30",
    "vscode": {
     "languageId": "r"
    }
   },
   "outputs": [],
   "source": [
    "# Variáveis de interesse\n",
    "vars_interesse <- c(\"UF\", \"Capital\", \"V2007\", \"V2009\", \"V2010\",\n",
    "                    \"VD3005\", \"VD4020\", \"VD4035\", \"VD4001\", \"VD4002\")\n",
    "\n",
    "# Função para baixar e filtrar Recife corretamente\n",
    "baixar_filtrar_recife <- function(ano, trimestre) {\n",
    "  df <- get_pnadc(year = ano, quarter = trimestre,\n",
    "                  vars = vars_interesse,\n",
    "                  design = FALSE,  # retorna como data.frame\n",
    "                  labels = TRUE,\n",
    "                  deflator = TRUE)\n",
    "  df %>% filter(UF == \"Pernambuco\", Capital == \"Município de Recife (PE)\")\n",
    "}"
   ]
  },
  {
   "cell_type": "code",
   "execution_count": 7,
   "metadata": {
    "colab": {
     "base_uri": "https://localhost:8080/",
     "height": 297
    },
    "executionInfo": {
     "elapsed": 107662,
     "status": "ok",
     "timestamp": 1756627492260,
     "user": {
      "displayName": "Giseli Vieira",
      "userId": "13265107955551841154"
     },
     "user_tz": 180
    },
    "id": "A8HHa9TDHiFZ",
    "outputId": "983397b6-a764-420b-e6ae-0f56af7030b5",
    "vscode": {
     "languageId": "r"
    }
   },
   "outputs": [
    {
     "data": {
      "text/html": [
       "<style>\n",
       ".list-inline {list-style: none; margin:0; padding: 0}\n",
       ".list-inline>li {display: inline-block}\n",
       ".list-inline>li:not(:last-child)::after {content: \"\\00b7\"; padding: 0 .5ex}\n",
       "</style>\n",
       "<ol class=list-inline><li>Rondônia</li><li>Acre</li><li>Amazonas</li><li>Roraima</li><li>Pará</li><li>Amapá</li><li>Tocantins</li><li>Maranhão</li><li>Piauí</li><li>Ceará</li><li>Rio Grande do Norte</li><li>Paraíba</li><li>Pernambuco</li><li>Alagoas</li><li>Sergipe</li><li>Bahia</li><li>Minas Gerais</li><li>Espírito Santo</li><li>Rio de Janeiro</li><li>São Paulo</li><li>Paraná</li><li>Santa Catarina</li><li>Rio Grande do Sul</li><li>Mato Grosso do Sul</li><li>Mato Grosso</li><li>Goiás</li><li>Distrito Federal</li></ol>\n",
       "\n",
       "<details>\n",
       "\t<summary style=display:list-item;cursor:pointer>\n",
       "\t\t<strong>Levels</strong>:\n",
       "\t</summary>\n",
       "\t<style>\n",
       "\t.list-inline {list-style: none; margin:0; padding: 0}\n",
       "\t.list-inline>li {display: inline-block}\n",
       "\t.list-inline>li:not(:last-child)::after {content: \"\\00b7\"; padding: 0 .5ex}\n",
       "\t</style>\n",
       "\t<ol class=list-inline><li>'Rondônia'</li><li>'Acre'</li><li>'Amazonas'</li><li>'Roraima'</li><li>'Pará'</li><li>'Amapá'</li><li>'Tocantins'</li><li>'Maranhão'</li><li>'Piauí'</li><li>'Ceará'</li><li>'Rio Grande do Norte'</li><li>'Paraíba'</li><li>'Pernambuco'</li><li>'Alagoas'</li><li>'Sergipe'</li><li>'Bahia'</li><li>'Minas Gerais'</li><li>'Espírito Santo'</li><li>'Rio de Janeiro'</li><li>'São Paulo'</li><li>'Paraná'</li><li>'Santa Catarina'</li><li>'Rio Grande do Sul'</li><li>'Mato Grosso do Sul'</li><li>'Mato Grosso'</li><li>'Goiás'</li><li>'Distrito Federal'</li></ol>\n",
       "</details>"
      ],
      "text/latex": [
       "\\begin{enumerate*}\n",
       "\\item Rondônia\n",
       "\\item Acre\n",
       "\\item Amazonas\n",
       "\\item Roraima\n",
       "\\item Pará\n",
       "\\item Amapá\n",
       "\\item Tocantins\n",
       "\\item Maranhão\n",
       "\\item Piauí\n",
       "\\item Ceará\n",
       "\\item Rio Grande do Norte\n",
       "\\item Paraíba\n",
       "\\item Pernambuco\n",
       "\\item Alagoas\n",
       "\\item Sergipe\n",
       "\\item Bahia\n",
       "\\item Minas Gerais\n",
       "\\item Espírito Santo\n",
       "\\item Rio de Janeiro\n",
       "\\item São Paulo\n",
       "\\item Paraná\n",
       "\\item Santa Catarina\n",
       "\\item Rio Grande do Sul\n",
       "\\item Mato Grosso do Sul\n",
       "\\item Mato Grosso\n",
       "\\item Goiás\n",
       "\\item Distrito Federal\n",
       "\\end{enumerate*}\n",
       "\n",
       "\\emph{Levels}: \\begin{enumerate*}\n",
       "\\item 'Rondônia'\n",
       "\\item 'Acre'\n",
       "\\item 'Amazonas'\n",
       "\\item 'Roraima'\n",
       "\\item 'Pará'\n",
       "\\item 'Amapá'\n",
       "\\item 'Tocantins'\n",
       "\\item 'Maranhão'\n",
       "\\item 'Piauí'\n",
       "\\item 'Ceará'\n",
       "\\item 'Rio Grande do Norte'\n",
       "\\item 'Paraíba'\n",
       "\\item 'Pernambuco'\n",
       "\\item 'Alagoas'\n",
       "\\item 'Sergipe'\n",
       "\\item 'Bahia'\n",
       "\\item 'Minas Gerais'\n",
       "\\item 'Espírito Santo'\n",
       "\\item 'Rio de Janeiro'\n",
       "\\item 'São Paulo'\n",
       "\\item 'Paraná'\n",
       "\\item 'Santa Catarina'\n",
       "\\item 'Rio Grande do Sul'\n",
       "\\item 'Mato Grosso do Sul'\n",
       "\\item 'Mato Grosso'\n",
       "\\item 'Goiás'\n",
       "\\item 'Distrito Federal'\n",
       "\\end{enumerate*}\n"
      ],
      "text/markdown": [
       "1. Rondônia\n",
       "2. Acre\n",
       "3. Amazonas\n",
       "4. Roraima\n",
       "5. Pará\n",
       "6. Amapá\n",
       "7. Tocantins\n",
       "8. Maranhão\n",
       "9. Piauí\n",
       "10. Ceará\n",
       "11. Rio Grande do Norte\n",
       "12. Paraíba\n",
       "13. Pernambuco\n",
       "14. Alagoas\n",
       "15. Sergipe\n",
       "16. Bahia\n",
       "17. Minas Gerais\n",
       "18. Espírito Santo\n",
       "19. Rio de Janeiro\n",
       "20. São Paulo\n",
       "21. Paraná\n",
       "22. Santa Catarina\n",
       "23. Rio Grande do Sul\n",
       "24. Mato Grosso do Sul\n",
       "25. Mato Grosso\n",
       "26. Goiás\n",
       "27. Distrito Federal\n",
       "\n",
       "\n",
       "\n",
       "**Levels**: 1. 'Rondônia'\n",
       "2. 'Acre'\n",
       "3. 'Amazonas'\n",
       "4. 'Roraima'\n",
       "5. 'Pará'\n",
       "6. 'Amapá'\n",
       "7. 'Tocantins'\n",
       "8. 'Maranhão'\n",
       "9. 'Piauí'\n",
       "10. 'Ceará'\n",
       "11. 'Rio Grande do Norte'\n",
       "12. 'Paraíba'\n",
       "13. 'Pernambuco'\n",
       "14. 'Alagoas'\n",
       "15. 'Sergipe'\n",
       "16. 'Bahia'\n",
       "17. 'Minas Gerais'\n",
       "18. 'Espírito Santo'\n",
       "19. 'Rio de Janeiro'\n",
       "20. 'São Paulo'\n",
       "21. 'Paraná'\n",
       "22. 'Santa Catarina'\n",
       "23. 'Rio Grande do Sul'\n",
       "24. 'Mato Grosso do Sul'\n",
       "25. 'Mato Grosso'\n",
       "26. 'Goiás'\n",
       "27. 'Distrito Federal'\n",
       "\n",
       "\n"
      ],
      "text/plain": [
       " [1] Rondônia            Acre                Amazonas           \n",
       " [4] Roraima             Pará                Amapá              \n",
       " [7] Tocantins           Maranhão            Piauí              \n",
       "[10] Ceará               Rio Grande do Norte Paraíba            \n",
       "[13] Pernambuco          Alagoas             Sergipe            \n",
       "[16] Bahia               Minas Gerais        Espírito Santo     \n",
       "[19] Rio de Janeiro      São Paulo           Paraná             \n",
       "[22] Santa Catarina      Rio Grande do Sul   Mato Grosso do Sul \n",
       "[25] Mato Grosso         Goiás               Distrito Federal   \n",
       "27 Levels: Rondônia Acre Amazonas Roraima Pará Amapá Tocantins ... Distrito Federal"
      ]
     },
     "metadata": {},
     "output_type": "display_data"
    },
    {
     "data": {
      "text/html": [
       "<style>\n",
       ".list-inline {list-style: none; margin:0; padding: 0}\n",
       ".list-inline>li {display: inline-block}\n",
       ".list-inline>li:not(:last-child)::after {content: \"\\00b7\"; padding: 0 .5ex}\n",
       "</style>\n",
       "<ol class=list-inline><li>Município de Porto Velho (RO)</li><li>&lt;NA&gt;</li><li>Município de Rio Branco (AC)</li><li>Município de Manaus (AM)</li><li>Município de Boa Vista (RR)</li><li>Município de Belém (PA)</li><li>Município de Macapá (AP)</li><li>Município de Palmas (TO)</li><li>Município de São Luís (MA)</li><li>Município de Teresina (PI)</li><li>Município de Fortaleza (CE)</li><li>Município de Natal (RN)</li><li>Município de João Pessoa (PB)</li><li>Município de Recife (PE)</li><li>Município de Maceió (AL)</li><li>Município de Aracaju (SE)</li><li>Município de Salvador (BA)</li><li>Município de Belo Horizonte (MG)</li><li>Município de Vitória (ES)</li><li>Município de Rio de Janeiro (RJ)</li><li>Município de São Paulo (SP)</li><li>Município de Curitiba (PR)</li><li>Município de Florianópolis (SC)</li><li>Município de Porto Alegre (RS)</li><li>Município de Campo Grande (MS)</li><li>Município de Cuiabá (MT)</li><li>Município de Goiânia (GO)</li><li>Município de Brasília (DF)</li></ol>\n",
       "\n",
       "<details>\n",
       "\t<summary style=display:list-item;cursor:pointer>\n",
       "\t\t<strong>Levels</strong>:\n",
       "\t</summary>\n",
       "\t<style>\n",
       "\t.list-inline {list-style: none; margin:0; padding: 0}\n",
       "\t.list-inline>li {display: inline-block}\n",
       "\t.list-inline>li:not(:last-child)::after {content: \"\\00b7\"; padding: 0 .5ex}\n",
       "\t</style>\n",
       "\t<ol class=list-inline><li>'Município de Porto Velho (RO)'</li><li>'Município de Rio Branco (AC)'</li><li>'Município de Manaus (AM)'</li><li>'Município de Boa Vista (RR)'</li><li>'Município de Belém (PA)'</li><li>'Município de Macapá (AP)'</li><li>'Município de Palmas (TO)'</li><li>'Município de São Luís (MA)'</li><li>'Município de Teresina (PI)'</li><li>'Município de Fortaleza (CE)'</li><li>'Município de Natal (RN)'</li><li>'Município de João Pessoa (PB)'</li><li>'Município de Recife (PE)'</li><li>'Município de Maceió (AL)'</li><li>'Município de Aracaju (SE)'</li><li>'Município de Salvador (BA)'</li><li>'Município de Belo Horizonte (MG)'</li><li>'Município de Vitória (ES)'</li><li>'Município de Rio de Janeiro (RJ)'</li><li>'Município de São Paulo (SP)'</li><li>'Município de Curitiba (PR)'</li><li>'Município de Florianópolis (SC)'</li><li>'Município de Porto Alegre (RS)'</li><li>'Município de Campo Grande (MS)'</li><li>'Município de Cuiabá (MT)'</li><li>'Município de Goiânia (GO)'</li><li>'Município de Brasília (DF)'</li></ol>\n",
       "</details>"
      ],
      "text/latex": [
       "\\begin{enumerate*}\n",
       "\\item Município de Porto Velho (RO)\n",
       "\\item <NA>\n",
       "\\item Município de Rio Branco (AC)\n",
       "\\item Município de Manaus (AM)\n",
       "\\item Município de Boa Vista (RR)\n",
       "\\item Município de Belém (PA)\n",
       "\\item Município de Macapá (AP)\n",
       "\\item Município de Palmas (TO)\n",
       "\\item Município de São Luís (MA)\n",
       "\\item Município de Teresina (PI)\n",
       "\\item Município de Fortaleza (CE)\n",
       "\\item Município de Natal (RN)\n",
       "\\item Município de João Pessoa (PB)\n",
       "\\item Município de Recife (PE)\n",
       "\\item Município de Maceió (AL)\n",
       "\\item Município de Aracaju (SE)\n",
       "\\item Município de Salvador (BA)\n",
       "\\item Município de Belo Horizonte (MG)\n",
       "\\item Município de Vitória (ES)\n",
       "\\item Município de Rio de Janeiro (RJ)\n",
       "\\item Município de São Paulo (SP)\n",
       "\\item Município de Curitiba (PR)\n",
       "\\item Município de Florianópolis (SC)\n",
       "\\item Município de Porto Alegre (RS)\n",
       "\\item Município de Campo Grande (MS)\n",
       "\\item Município de Cuiabá (MT)\n",
       "\\item Município de Goiânia (GO)\n",
       "\\item Município de Brasília (DF)\n",
       "\\end{enumerate*}\n",
       "\n",
       "\\emph{Levels}: \\begin{enumerate*}\n",
       "\\item 'Município de Porto Velho (RO)'\n",
       "\\item 'Município de Rio Branco (AC)'\n",
       "\\item 'Município de Manaus (AM)'\n",
       "\\item 'Município de Boa Vista (RR)'\n",
       "\\item 'Município de Belém (PA)'\n",
       "\\item 'Município de Macapá (AP)'\n",
       "\\item 'Município de Palmas (TO)'\n",
       "\\item 'Município de São Luís (MA)'\n",
       "\\item 'Município de Teresina (PI)'\n",
       "\\item 'Município de Fortaleza (CE)'\n",
       "\\item 'Município de Natal (RN)'\n",
       "\\item 'Município de João Pessoa (PB)'\n",
       "\\item 'Município de Recife (PE)'\n",
       "\\item 'Município de Maceió (AL)'\n",
       "\\item 'Município de Aracaju (SE)'\n",
       "\\item 'Município de Salvador (BA)'\n",
       "\\item 'Município de Belo Horizonte (MG)'\n",
       "\\item 'Município de Vitória (ES)'\n",
       "\\item 'Município de Rio de Janeiro (RJ)'\n",
       "\\item 'Município de São Paulo (SP)'\n",
       "\\item 'Município de Curitiba (PR)'\n",
       "\\item 'Município de Florianópolis (SC)'\n",
       "\\item 'Município de Porto Alegre (RS)'\n",
       "\\item 'Município de Campo Grande (MS)'\n",
       "\\item 'Município de Cuiabá (MT)'\n",
       "\\item 'Município de Goiânia (GO)'\n",
       "\\item 'Município de Brasília (DF)'\n",
       "\\end{enumerate*}\n"
      ],
      "text/markdown": [
       "1. Município de Porto Velho (RO)\n",
       "2. &lt;NA&gt;\n",
       "3. Município de Rio Branco (AC)\n",
       "4. Município de Manaus (AM)\n",
       "5. Município de Boa Vista (RR)\n",
       "6. Município de Belém (PA)\n",
       "7. Município de Macapá (AP)\n",
       "8. Município de Palmas (TO)\n",
       "9. Município de São Luís (MA)\n",
       "10. Município de Teresina (PI)\n",
       "11. Município de Fortaleza (CE)\n",
       "12. Município de Natal (RN)\n",
       "13. Município de João Pessoa (PB)\n",
       "14. Município de Recife (PE)\n",
       "15. Município de Maceió (AL)\n",
       "16. Município de Aracaju (SE)\n",
       "17. Município de Salvador (BA)\n",
       "18. Município de Belo Horizonte (MG)\n",
       "19. Município de Vitória (ES)\n",
       "20. Município de Rio de Janeiro (RJ)\n",
       "21. Município de São Paulo (SP)\n",
       "22. Município de Curitiba (PR)\n",
       "23. Município de Florianópolis (SC)\n",
       "24. Município de Porto Alegre (RS)\n",
       "25. Município de Campo Grande (MS)\n",
       "26. Município de Cuiabá (MT)\n",
       "27. Município de Goiânia (GO)\n",
       "28. Município de Brasília (DF)\n",
       "\n",
       "\n",
       "\n",
       "**Levels**: 1. 'Município de Porto Velho (RO)'\n",
       "2. 'Município de Rio Branco (AC)'\n",
       "3. 'Município de Manaus (AM)'\n",
       "4. 'Município de Boa Vista (RR)'\n",
       "5. 'Município de Belém (PA)'\n",
       "6. 'Município de Macapá (AP)'\n",
       "7. 'Município de Palmas (TO)'\n",
       "8. 'Município de São Luís (MA)'\n",
       "9. 'Município de Teresina (PI)'\n",
       "10. 'Município de Fortaleza (CE)'\n",
       "11. 'Município de Natal (RN)'\n",
       "12. 'Município de João Pessoa (PB)'\n",
       "13. 'Município de Recife (PE)'\n",
       "14. 'Município de Maceió (AL)'\n",
       "15. 'Município de Aracaju (SE)'\n",
       "16. 'Município de Salvador (BA)'\n",
       "17. 'Município de Belo Horizonte (MG)'\n",
       "18. 'Município de Vitória (ES)'\n",
       "19. 'Município de Rio de Janeiro (RJ)'\n",
       "20. 'Município de São Paulo (SP)'\n",
       "21. 'Município de Curitiba (PR)'\n",
       "22. 'Município de Florianópolis (SC)'\n",
       "23. 'Município de Porto Alegre (RS)'\n",
       "24. 'Município de Campo Grande (MS)'\n",
       "25. 'Município de Cuiabá (MT)'\n",
       "26. 'Município de Goiânia (GO)'\n",
       "27. 'Município de Brasília (DF)'\n",
       "\n",
       "\n"
      ],
      "text/plain": [
       " [1] Município de Porto Velho (RO)    <NA>                            \n",
       " [3] Município de Rio Branco (AC)     Município de Manaus (AM)        \n",
       " [5] Município de Boa Vista (RR)      Município de Belém (PA)         \n",
       " [7] Município de Macapá (AP)         Município de Palmas (TO)        \n",
       " [9] Município de São Luís (MA)       Município de Teresina (PI)      \n",
       "[11] Município de Fortaleza (CE)      Município de Natal (RN)         \n",
       "[13] Município de João Pessoa (PB)    Município de Recife (PE)        \n",
       "[15] Município de Maceió (AL)         Município de Aracaju (SE)       \n",
       "[17] Município de Salvador (BA)       Município de Belo Horizonte (MG)\n",
       "[19] Município de Vitória (ES)        Município de Rio de Janeiro (RJ)\n",
       "[21] Município de São Paulo (SP)      Município de Curitiba (PR)      \n",
       "[23] Município de Florianópolis (SC)  Município de Porto Alegre (RS)  \n",
       "[25] Município de Campo Grande (MS)   Município de Cuiabá (MT)        \n",
       "[27] Município de Goiânia (GO)        Município de Brasília (DF)      \n",
       "27 Levels: Município de Porto Velho (RO) ... Município de Brasília (DF)"
      ]
     },
     "metadata": {},
     "output_type": "display_data"
    }
   ],
   "source": [
    "# Baixar data.frame\n",
    "pnadc_2024_q4 <- get_pnadc(year = 2024, quarter = 4,\n",
    "                           vars = vars_interesse,\n",
    "                           design = FALSE, labels = TRUE, deflator = TRUE)\n",
    "\n",
    "# Verificar os níveis das colunas\n",
    "unique(pnadc_2024_q4$UF)\n",
    "unique(pnadc_2024_q4$Capital)\n",
    "\n",
    "# Filtrar Pernambuco e Recife\n",
    "pnadc_2024_q4_recife <- pnadc_2024_q4 %>%\n",
    "  filter(UF == \"PE\", Capital == \"Recife\")  # Ajuste UF se necessário"
   ]
  },
  {
   "cell_type": "code",
   "execution_count": 9,
   "metadata": {
    "executionInfo": {
     "elapsed": 111737,
     "status": "ok",
     "timestamp": 1756627640812,
     "user": {
      "displayName": "Giseli Vieira",
      "userId": "13265107955551841154"
     },
     "user_tz": 180
    },
    "id": "bBs17Q8dIzHz",
    "vscode": {
     "languageId": "r"
    }
   },
   "outputs": [],
   "source": [
    "# Baixar e filtrar cada trimestre 2004,4\n",
    "pnadc_2024_q4_recife <- baixar_filtrar_recife(2024, 4)"
   ]
  },
  {
   "cell_type": "code",
   "execution_count": 10,
   "metadata": {
    "executionInfo": {
     "elapsed": 97365,
     "status": "ok",
     "timestamp": 1756627742709,
     "user": {
      "displayName": "Giseli Vieira",
      "userId": "13265107955551841154"
     },
     "user_tz": 180
    },
    "id": "_dOHTGWHKTaC",
    "vscode": {
     "languageId": "r"
    }
   },
   "outputs": [],
   "source": [
    "#Baixar e filtrar cada trimestre 2025,1\n",
    "pnadc_2025_q1_recife <- baixar_filtrar_recife(2025, 1)"
   ]
  },
  {
   "cell_type": "code",
   "execution_count": 11,
   "metadata": {
    "executionInfo": {
     "elapsed": 112086,
     "status": "ok",
     "timestamp": 1756627875526,
     "user": {
      "displayName": "Giseli Vieira",
      "userId": "13265107955551841154"
     },
     "user_tz": 180
    },
    "id": "O2-uMw3wL-Tb",
    "vscode": {
     "languageId": "r"
    }
   },
   "outputs": [],
   "source": [
    "#Baixar e filtrar cada trimestre 2025,2\n",
    "pnadc_2025_q2_recife <- baixar_filtrar_recife(2025, 2)"
   ]
  },
  {
   "cell_type": "code",
   "execution_count": 12,
   "metadata": {
    "colab": {
     "base_uri": "https://localhost:8080/"
    },
    "executionInfo": {
     "elapsed": 708,
     "status": "ok",
     "timestamp": 1756627918216,
     "user": {
      "displayName": "Giseli Vieira",
      "userId": "13265107955551841154"
     },
     "user_tz": 180
    },
    "id": "WpJhHD8ZNHqi",
    "outputId": "47c13d65-47c4-486b-b53c-e0e6abb3b519",
    "vscode": {
     "languageId": "r"
    }
   },
   "outputs": [
    {
     "name": "stdout",
     "output_type": "stream",
     "text": [
      "Trimestre: 2024 Q4 \n",
      "Número de linhas: 3094 \n",
      "\u001b[90m# A tibble: 6 × 226\u001b[39m\n",
      "  Ano   Trimestre UF        Capital UPA   Estrato V1008 V1014 V1027 V1028  V1029\n",
      "  \u001b[3m\u001b[90m<chr>\u001b[39m\u001b[23m \u001b[3m\u001b[90m<chr>\u001b[39m\u001b[23m     \u001b[3m\u001b[90m<fct>\u001b[39m\u001b[23m     \u001b[3m\u001b[90m<fct>\u001b[39m\u001b[23m   \u001b[3m\u001b[90m<chr>\u001b[39m\u001b[23m \u001b[3m\u001b[90m<chr>\u001b[39m\u001b[23m   \u001b[3m\u001b[90m<chr>\u001b[39m\u001b[23m \u001b[3m\u001b[90m<chr>\u001b[39m\u001b[23m \u001b[3m\u001b[90m<dbl>\u001b[39m\u001b[23m \u001b[3m\u001b[90m<dbl>\u001b[39m\u001b[23m  \u001b[3m\u001b[90m<dbl>\u001b[39m\u001b[23m\n",
      "\u001b[90m1\u001b[39m 2024  4         Pernambu… Municí… 2600… 2610011 01    11     312.  373. 1.59\u001b[90me\u001b[39m6\n",
      "\u001b[90m2\u001b[39m 2024  4         Pernambu… Municí… 2600… 2610011 01    11     312.  373. 1.59\u001b[90me\u001b[39m6\n",
      "\u001b[90m3\u001b[39m 2024  4         Pernambu… Municí… 2600… 2610011 02    11     312.  494. 1.59\u001b[90me\u001b[39m6\n",
      "\u001b[90m4\u001b[39m 2024  4         Pernambu… Municí… 2600… 2610011 02    11     312.  494. 1.59\u001b[90me\u001b[39m6\n",
      "\u001b[90m5\u001b[39m 2024  4         Pernambu… Municí… 2600… 2610011 04    11     312.  401. 1.59\u001b[90me\u001b[39m6\n",
      "\u001b[90m6\u001b[39m 2024  4         Pernambu… Municí… 2600… 2610011 04    11     312.  401. 1.59\u001b[90me\u001b[39m6\n",
      "\u001b[90m# ℹ 215 more variables: V1033 <dbl>, posest <chr>, posest_sxi <chr>,\u001b[39m\n",
      "\u001b[90m#   V2003 <chr>, V2007 <fct>, V2009 <dbl>, V2010 <fct>, VD3005 <fct>,\u001b[39m\n",
      "\u001b[90m#   VD4001 <fct>, VD4002 <fct>, VD4020 <dbl>, VD4035 <dbl>, V1028001 <dbl>,\u001b[39m\n",
      "\u001b[90m#   V1028002 <dbl>, V1028003 <dbl>, V1028004 <dbl>, V1028005 <dbl>,\u001b[39m\n",
      "\u001b[90m#   V1028006 <dbl>, V1028007 <dbl>, V1028008 <dbl>, V1028009 <dbl>,\u001b[39m\n",
      "\u001b[90m#   V1028010 <dbl>, V1028011 <dbl>, V1028012 <dbl>, V1028013 <dbl>,\u001b[39m\n",
      "\u001b[90m#   V1028014 <dbl>, V1028015 <dbl>, V1028016 <dbl>, V1028017 <dbl>, …\u001b[39m\n",
      "\n",
      "-----------------------------\n",
      "Trimestre: 2025 Q1 \n",
      "Número de linhas: 3010 \n",
      "\u001b[90m# A tibble: 6 × 226\u001b[39m\n",
      "  Ano   Trimestre UF        Capital UPA   Estrato V1008 V1014 V1027 V1028  V1029\n",
      "  \u001b[3m\u001b[90m<chr>\u001b[39m\u001b[23m \u001b[3m\u001b[90m<chr>\u001b[39m\u001b[23m     \u001b[3m\u001b[90m<fct>\u001b[39m\u001b[23m     \u001b[3m\u001b[90m<fct>\u001b[39m\u001b[23m   \u001b[3m\u001b[90m<chr>\u001b[39m\u001b[23m \u001b[3m\u001b[90m<chr>\u001b[39m\u001b[23m   \u001b[3m\u001b[90m<chr>\u001b[39m\u001b[23m \u001b[3m\u001b[90m<chr>\u001b[39m\u001b[23m \u001b[3m\u001b[90m<dbl>\u001b[39m\u001b[23m \u001b[3m\u001b[90m<dbl>\u001b[39m\u001b[23m  \u001b[3m\u001b[90m<dbl>\u001b[39m\u001b[23m\n",
      "\u001b[90m1\u001b[39m 2025  1         Pernambu… Municí… 2600… 2610011 01    11     312.  366. 1.59\u001b[90me\u001b[39m6\n",
      "\u001b[90m2\u001b[39m 2025  1         Pernambu… Municí… 2600… 2610011 01    11     312.  366. 1.59\u001b[90me\u001b[39m6\n",
      "\u001b[90m3\u001b[39m 2025  1         Pernambu… Municí… 2600… 2610011 03    11     312.  340. 1.59\u001b[90me\u001b[39m6\n",
      "\u001b[90m4\u001b[39m 2025  1         Pernambu… Municí… 2600… 2610011 03    11     312.  340. 1.59\u001b[90me\u001b[39m6\n",
      "\u001b[90m5\u001b[39m 2025  1         Pernambu… Municí… 2600… 2610011 04    11     312.  371. 1.59\u001b[90me\u001b[39m6\n",
      "\u001b[90m6\u001b[39m 2025  1         Pernambu… Municí… 2600… 2610011 04    11     312.  371. 1.59\u001b[90me\u001b[39m6\n",
      "\u001b[90m# ℹ 215 more variables: V1033 <dbl>, posest <chr>, posest_sxi <chr>,\u001b[39m\n",
      "\u001b[90m#   V2003 <chr>, V2007 <fct>, V2009 <dbl>, V2010 <fct>, VD3005 <fct>,\u001b[39m\n",
      "\u001b[90m#   VD4001 <fct>, VD4002 <fct>, VD4020 <dbl>, VD4035 <dbl>, V1028001 <dbl>,\u001b[39m\n",
      "\u001b[90m#   V1028002 <dbl>, V1028003 <dbl>, V1028004 <dbl>, V1028005 <dbl>,\u001b[39m\n",
      "\u001b[90m#   V1028006 <dbl>, V1028007 <dbl>, V1028008 <dbl>, V1028009 <dbl>,\u001b[39m\n",
      "\u001b[90m#   V1028010 <dbl>, V1028011 <dbl>, V1028012 <dbl>, V1028013 <dbl>,\u001b[39m\n",
      "\u001b[90m#   V1028014 <dbl>, V1028015 <dbl>, V1028016 <dbl>, V1028017 <dbl>, …\u001b[39m\n",
      "\n",
      "-----------------------------\n",
      "Trimestre: 2025 Q2 \n",
      "Número de linhas: 2927 \n",
      "\u001b[90m# A tibble: 6 × 226\u001b[39m\n",
      "  Ano   Trimestre UF        Capital UPA   Estrato V1008 V1014 V1027 V1028  V1029\n",
      "  \u001b[3m\u001b[90m<chr>\u001b[39m\u001b[23m \u001b[3m\u001b[90m<chr>\u001b[39m\u001b[23m     \u001b[3m\u001b[90m<fct>\u001b[39m\u001b[23m     \u001b[3m\u001b[90m<fct>\u001b[39m\u001b[23m   \u001b[3m\u001b[90m<chr>\u001b[39m\u001b[23m \u001b[3m\u001b[90m<chr>\u001b[39m\u001b[23m   \u001b[3m\u001b[90m<chr>\u001b[39m\u001b[23m \u001b[3m\u001b[90m<chr>\u001b[39m\u001b[23m \u001b[3m\u001b[90m<dbl>\u001b[39m\u001b[23m \u001b[3m\u001b[90m<dbl>\u001b[39m\u001b[23m  \u001b[3m\u001b[90m<dbl>\u001b[39m\u001b[23m\n",
      "\u001b[90m1\u001b[39m 2025  2         Pernambu… Municí… 2600… 2610011 01    12     378.  569. 1.59\u001b[90me\u001b[39m6\n",
      "\u001b[90m2\u001b[39m 2025  2         Pernambu… Municí… 2600… 2610011 01    12     378.  569. 1.59\u001b[90me\u001b[39m6\n",
      "\u001b[90m3\u001b[39m 2025  2         Pernambu… Municí… 2600… 2610011 02    12     378.  446. 1.59\u001b[90me\u001b[39m6\n",
      "\u001b[90m4\u001b[39m 2025  2         Pernambu… Municí… 2600… 2610011 03    12     378.  347. 1.59\u001b[90me\u001b[39m6\n",
      "\u001b[90m5\u001b[39m 2025  2         Pernambu… Municí… 2600… 2610011 04    12     378.  424. 1.59\u001b[90me\u001b[39m6\n",
      "\u001b[90m6\u001b[39m 2025  2         Pernambu… Municí… 2600… 2610011 04    12     378.  424. 1.59\u001b[90me\u001b[39m6\n",
      "\u001b[90m# ℹ 215 more variables: V1033 <dbl>, posest <chr>, posest_sxi <chr>,\u001b[39m\n",
      "\u001b[90m#   V2003 <chr>, V2007 <fct>, V2009 <dbl>, V2010 <fct>, VD3005 <fct>,\u001b[39m\n",
      "\u001b[90m#   VD4001 <fct>, VD4002 <fct>, VD4020 <dbl>, VD4035 <dbl>, V1028001 <dbl>,\u001b[39m\n",
      "\u001b[90m#   V1028002 <dbl>, V1028003 <dbl>, V1028004 <dbl>, V1028005 <dbl>,\u001b[39m\n",
      "\u001b[90m#   V1028006 <dbl>, V1028007 <dbl>, V1028008 <dbl>, V1028009 <dbl>,\u001b[39m\n",
      "\u001b[90m#   V1028010 <dbl>, V1028011 <dbl>, V1028012 <dbl>, V1028013 <dbl>,\u001b[39m\n",
      "\u001b[90m#   V1028014 <dbl>, V1028015 <dbl>, V1028016 <dbl>, V1028017 <dbl>, …\u001b[39m\n",
      "\n",
      "-----------------------------\n"
     ]
    }
   ],
   "source": [
    "# Verificação\n",
    "lista_pnad <- list(\n",
    "  \"2024 Q4\" = pnadc_2024_q4_recife,\n",
    "  \"2025 Q1\" = pnadc_2025_q1_recife,\n",
    "  \"2025 Q2\" = pnadc_2025_q2_recife\n",
    ")\n",
    "\n",
    "for (nome in names(lista_pnad)) {\n",
    "  cat(\"Trimestre:\", nome, \"\\n\")\n",
    "  cat(\"Número de linhas:\", nrow(lista_pnad[[nome]]), \"\\n\")\n",
    "  print(head(lista_pnad[[nome]]))\n",
    "  cat(\"\\n-----------------------------\\n\")\n",
    "}"
   ]
  },
  {
   "cell_type": "code",
   "execution_count": 13,
   "metadata": {
    "colab": {
     "base_uri": "https://localhost:8080/",
     "height": 210
    },
    "executionInfo": {
     "elapsed": 80,
     "status": "ok",
     "timestamp": 1756627939232,
     "user": {
      "displayName": "Giseli Vieira",
      "userId": "13265107955551841154"
     },
     "user_tz": 180
    },
    "id": "AfC07wHLOKBk",
    "outputId": "0425a5a5-08fc-4a2e-8aa8-dc87f406f472",
    "vscode": {
     "languageId": "r"
    }
   },
   "outputs": [
    {
     "name": "stdout",
     "output_type": "stream",
     "text": [
      "Total de registros: 9031 \n"
     ]
    },
    {
     "data": {
      "text/html": [
       "<table class=\"dataframe\">\n",
       "<caption>A tibble: 3 × 2</caption>\n",
       "<thead>\n",
       "\t<tr><th scope=col>periodo</th><th scope=col>n</th></tr>\n",
       "\t<tr><th scope=col>&lt;chr&gt;</th><th scope=col>&lt;int&gt;</th></tr>\n",
       "</thead>\n",
       "<tbody>\n",
       "\t<tr><td>2024 Q4</td><td>3094</td></tr>\n",
       "\t<tr><td>2025 Q1</td><td>3010</td></tr>\n",
       "\t<tr><td>2025 Q2</td><td>2927</td></tr>\n",
       "</tbody>\n",
       "</table>\n"
      ],
      "text/latex": [
       "A tibble: 3 × 2\n",
       "\\begin{tabular}{ll}\n",
       " periodo & n\\\\\n",
       " <chr> & <int>\\\\\n",
       "\\hline\n",
       "\t 2024 Q4 & 3094\\\\\n",
       "\t 2025 Q1 & 3010\\\\\n",
       "\t 2025 Q2 & 2927\\\\\n",
       "\\end{tabular}\n"
      ],
      "text/markdown": [
       "\n",
       "A tibble: 3 × 2\n",
       "\n",
       "| periodo &lt;chr&gt; | n &lt;int&gt; |\n",
       "|---|---|\n",
       "| 2024 Q4 | 3094 |\n",
       "| 2025 Q1 | 3010 |\n",
       "| 2025 Q2 | 2927 |\n",
       "\n"
      ],
      "text/plain": [
       "  periodo n   \n",
       "1 2024 Q4 3094\n",
       "2 2025 Q1 3010\n",
       "3 2025 Q2 2927"
      ]
     },
     "metadata": {},
     "output_type": "display_data"
    }
   ],
   "source": [
    "# Unir os 3 dataframes em um só\n",
    "pnadc_recife <- dplyr::bind_rows(\n",
    "  pnadc_2024_q4_recife %>% mutate(periodo = \"2024 Q4\"),\n",
    "  pnadc_2025_q1_recife %>% mutate(periodo = \"2025 Q1\"),\n",
    "  pnadc_2025_q2_recife %>% mutate(periodo = \"2025 Q2\")\n",
    ")\n",
    "\n",
    "# Verificar\n",
    "cat(\"Total de registros:\", nrow(pnadc_recife), \"\\n\")\n",
    "dplyr::count(pnadc_recife, periodo)\n"
   ]
  },
  {
   "cell_type": "code",
   "execution_count": 14,
   "metadata": {
    "colab": {
     "base_uri": "https://localhost:8080/",
     "height": 1000
    },
    "executionInfo": {
     "elapsed": 584,
     "status": "ok",
     "timestamp": 1756627943764,
     "user": {
      "displayName": "Giseli Vieira",
      "userId": "13265107955551841154"
     },
     "user_tz": 180
    },
    "id": "y6ynIqG1Rqc0",
    "outputId": "03b10be4-f7fa-463f-ef71-a4844ef2c011",
    "vscode": {
     "languageId": "r"
    }
   },
   "outputs": [
    {
     "name": "stdout",
     "output_type": "stream",
     "text": [
      "Rows: 9,031\n",
      "Columns: 227\n",
      "$ Ano          \u001b[3m\u001b[90m<chr>\u001b[39m\u001b[23m \"2024\"\u001b[90m, \u001b[39m\"2024\"\u001b[90m, \u001b[39m\"2024\"\u001b[90m, \u001b[39m\"2024\"\u001b[90m, \u001b[39m\"2024\"\u001b[90m, \u001b[39m\"2024\"\u001b[90m, \u001b[39m\"2024\"\u001b[90m, \u001b[39m\"…\n",
      "$ Trimestre    \u001b[3m\u001b[90m<chr>\u001b[39m\u001b[23m \"4\"\u001b[90m, \u001b[39m\"4\"\u001b[90m, \u001b[39m\"4\"\u001b[90m, \u001b[39m\"4\"\u001b[90m, \u001b[39m\"4\"\u001b[90m, \u001b[39m\"4\"\u001b[90m, \u001b[39m\"4\"\u001b[90m, \u001b[39m\"4\"\u001b[90m, \u001b[39m\"4\"\u001b[90m, \u001b[39m\"4\"\u001b[90m, \u001b[39m\"4\"\u001b[90m, \u001b[39m\"4…\n",
      "$ UF           \u001b[3m\u001b[90m<fct>\u001b[39m\u001b[23m Pernambuco\u001b[90m, \u001b[39mPernambuco\u001b[90m, \u001b[39mPernambuco\u001b[90m, \u001b[39mPernambuco\u001b[90m, \u001b[39mPernambuc…\n",
      "$ Capital      \u001b[3m\u001b[90m<fct>\u001b[39m\u001b[23m Município de Recife (PE)\u001b[90m, \u001b[39mMunicípio de Recife (PE)\u001b[90m, \u001b[39mMunic…\n",
      "$ UPA          \u001b[3m\u001b[90m<chr>\u001b[39m\u001b[23m \"260003477\"\u001b[90m, \u001b[39m\"260003477\"\u001b[90m, \u001b[39m\"260003477\"\u001b[90m, \u001b[39m\"260003477\"\u001b[90m, \u001b[39m\"2600…\n",
      "$ Estrato      \u001b[3m\u001b[90m<chr>\u001b[39m\u001b[23m \"2610011\"\u001b[90m, \u001b[39m\"2610011\"\u001b[90m, \u001b[39m\"2610011\"\u001b[90m, \u001b[39m\"2610011\"\u001b[90m, \u001b[39m\"2610011\"\u001b[90m, \u001b[39m\"2…\n",
      "$ V1008        \u001b[3m\u001b[90m<chr>\u001b[39m\u001b[23m \"01\"\u001b[90m, \u001b[39m\"01\"\u001b[90m, \u001b[39m\"02\"\u001b[90m, \u001b[39m\"02\"\u001b[90m, \u001b[39m\"04\"\u001b[90m, \u001b[39m\"04\"\u001b[90m, \u001b[39m\"04\"\u001b[90m, \u001b[39m\"05\"\u001b[90m, \u001b[39m\"06\"\u001b[90m, \u001b[39m\"06…\n",
      "$ V1014        \u001b[3m\u001b[90m<chr>\u001b[39m\u001b[23m \"11\"\u001b[90m, \u001b[39m\"11\"\u001b[90m, \u001b[39m\"11\"\u001b[90m, \u001b[39m\"11\"\u001b[90m, \u001b[39m\"11\"\u001b[90m, \u001b[39m\"11\"\u001b[90m, \u001b[39m\"11\"\u001b[90m, \u001b[39m\"11\"\u001b[90m, \u001b[39m\"11\"\u001b[90m, \u001b[39m\"11…\n",
      "$ V1027        \u001b[3m\u001b[90m<dbl>\u001b[39m\u001b[23m 312.3977\u001b[90m, \u001b[39m312.3977\u001b[90m, \u001b[39m312.3977\u001b[90m, \u001b[39m312.3977\u001b[90m, \u001b[39m312.3977\u001b[90m, \u001b[39m312.397…\n",
      "$ V1028        \u001b[3m\u001b[90m<dbl>\u001b[39m\u001b[23m 372.6862\u001b[90m, \u001b[39m372.6862\u001b[90m, \u001b[39m494.4253\u001b[90m, \u001b[39m494.4253\u001b[90m, \u001b[39m401.0024\u001b[90m, \u001b[39m401.002…\n",
      "$ V1029        \u001b[3m\u001b[90m<dbl>\u001b[39m\u001b[23m 1588125\u001b[90m, \u001b[39m1588125\u001b[90m, \u001b[39m1588125\u001b[90m, \u001b[39m1588125\u001b[90m, \u001b[39m1588125\u001b[90m, \u001b[39m1588125\u001b[90m, \u001b[39m158…\n",
      "$ V1033        \u001b[3m\u001b[90m<dbl>\u001b[39m\u001b[23m 8359519\u001b[90m, \u001b[39m5670528\u001b[90m, \u001b[39m8179542\u001b[90m, \u001b[39m7979067\u001b[90m, \u001b[39m8159115\u001b[90m, \u001b[39m8159115\u001b[90m, \u001b[39m817…\n",
      "$ posest       \u001b[3m\u001b[90m<chr>\u001b[39m\u001b[23m \"261\"\u001b[90m, \u001b[39m\"261\"\u001b[90m, \u001b[39m\"261\"\u001b[90m, \u001b[39m\"261\"\u001b[90m, \u001b[39m\"261\"\u001b[90m, \u001b[39m\"261\"\u001b[90m, \u001b[39m\"261\"\u001b[90m, \u001b[39m\"261\"\u001b[90m, \u001b[39m\"…\n",
      "$ posest_sxi   \u001b[3m\u001b[90m<chr>\u001b[39m\u001b[23m \"208\"\u001b[90m, \u001b[39m\"203\"\u001b[90m, \u001b[39m\"206\"\u001b[90m, \u001b[39m\"105\"\u001b[90m, \u001b[39m\"207\"\u001b[90m, \u001b[39m\"207\"\u001b[90m, \u001b[39m\"206\"\u001b[90m, \u001b[39m\"115\"\u001b[90m, \u001b[39m\"…\n",
      "$ V2003        \u001b[3m\u001b[90m<chr>\u001b[39m\u001b[23m \"01\"\u001b[90m, \u001b[39m\"02\"\u001b[90m, \u001b[39m\"01\"\u001b[90m, \u001b[39m\"02\"\u001b[90m, \u001b[39m\"01\"\u001b[90m, \u001b[39m\"02\"\u001b[90m, \u001b[39m\"03\"\u001b[90m, \u001b[39m\"01\"\u001b[90m, \u001b[39m\"01\"\u001b[90m, \u001b[39m\"02…\n",
      "$ V2007        \u001b[3m\u001b[90m<fct>\u001b[39m\u001b[23m Mulher\u001b[90m, \u001b[39mMulher\u001b[90m, \u001b[39mMulher\u001b[90m, \u001b[39mHomem\u001b[90m, \u001b[39mMulher\u001b[90m, \u001b[39mMulher\u001b[90m, \u001b[39mMulher\u001b[90m, \u001b[39mHo…\n",
      "$ V2009        \u001b[3m\u001b[90m<dbl>\u001b[39m\u001b[23m 38\u001b[90m, \u001b[39m13\u001b[90m, \u001b[39m28\u001b[90m, \u001b[39m24\u001b[90m, \u001b[39m32\u001b[90m, \u001b[39m34\u001b[90m, \u001b[39m27\u001b[90m, \u001b[39m74\u001b[90m, \u001b[39m36\u001b[90m, \u001b[39m36\u001b[90m, \u001b[39m46\u001b[90m, \u001b[39m71\u001b[90m, \u001b[39m19\u001b[90m, \u001b[39m34\u001b[90m, \u001b[39m2…\n",
      "$ V2010        \u001b[3m\u001b[90m<fct>\u001b[39m\u001b[23m Parda\u001b[90m, \u001b[39mBranca\u001b[90m, \u001b[39mPreta\u001b[90m, \u001b[39mPreta\u001b[90m, \u001b[39mPreta\u001b[90m, \u001b[39mParda\u001b[90m, \u001b[39mParda\u001b[90m, \u001b[39mPreta\u001b[90m, \u001b[39m…\n",
      "$ VD3005       \u001b[3m\u001b[90m<fct>\u001b[39m\u001b[23m 16 anos ou mais de estudo\u001b[90m, \u001b[39m6 anos de estudo\u001b[90m, \u001b[39m16 anos ou m…\n",
      "$ VD4001       \u001b[3m\u001b[90m<fct>\u001b[39m\u001b[23m Pessoas na força de trabalho\u001b[90m, \u001b[39m\u001b[31mNA\u001b[39m\u001b[90m, \u001b[39mPessoas na força de tra…\n",
      "$ VD4002       \u001b[3m\u001b[90m<fct>\u001b[39m\u001b[23m Pessoas ocupadas\u001b[90m, \u001b[39m\u001b[31mNA\u001b[39m\u001b[90m, \u001b[39mPessoas ocupadas\u001b[90m, \u001b[39m\u001b[31mNA\u001b[39m\u001b[90m, \u001b[39mPessoas ocupa…\n",
      "$ VD4020       \u001b[3m\u001b[90m<dbl>\u001b[39m\u001b[23m 10000\u001b[90m, \u001b[39m\u001b[31mNA\u001b[39m\u001b[90m, \u001b[39m3500\u001b[90m, \u001b[39m\u001b[31mNA\u001b[39m\u001b[90m, \u001b[39m6500\u001b[90m, \u001b[39m1100\u001b[90m, \u001b[39m2100\u001b[90m, \u001b[39m2800\u001b[90m, \u001b[39m4600\u001b[90m, \u001b[39m2300\u001b[90m, \u001b[39m…\n",
      "$ VD4035       \u001b[3m\u001b[90m<dbl>\u001b[39m\u001b[23m 50\u001b[90m, \u001b[39m\u001b[31mNA\u001b[39m\u001b[90m, \u001b[39m40\u001b[90m, \u001b[39m\u001b[31mNA\u001b[39m\u001b[90m, \u001b[39m60\u001b[90m, \u001b[39m20\u001b[90m, \u001b[39m20\u001b[90m, \u001b[39m30\u001b[90m, \u001b[39m64\u001b[90m, \u001b[39m44\u001b[90m, \u001b[39m60\u001b[90m, \u001b[39m\u001b[31mNA\u001b[39m\u001b[90m, \u001b[39m\u001b[31mNA\u001b[39m\u001b[90m, \u001b[39m26\u001b[90m, \u001b[39m4…\n",
      "$ V1028001     \u001b[3m\u001b[90m<dbl>\u001b[39m\u001b[23m 383.8341\u001b[90m, \u001b[39m383.8341\u001b[90m, \u001b[39m532.7787\u001b[90m, \u001b[39m532.7787\u001b[90m, \u001b[39m410.8512\u001b[90m, \u001b[39m410.851…\n",
      "$ V1028002     \u001b[3m\u001b[90m<dbl>\u001b[39m\u001b[23m 0\u001b[90m, \u001b[39m0\u001b[90m, \u001b[39m0\u001b[90m, \u001b[39m0\u001b[90m, \u001b[39m0\u001b[90m, \u001b[39m0\u001b[90m, \u001b[39m0\u001b[90m, \u001b[39m0\u001b[90m, \u001b[39m0\u001b[90m, \u001b[39m0\u001b[90m, \u001b[39m0\u001b[90m, \u001b[39m0\u001b[90m, \u001b[39m0\u001b[90m, \u001b[39m0\u001b[90m, \u001b[39m0\u001b[90m, \u001b[39m0\u001b[90m, \u001b[39m0\u001b[90m, \u001b[39m0\u001b[90m, \u001b[39m0\u001b[90m, \u001b[39m…\n",
      "$ V1028003     \u001b[3m\u001b[90m<dbl>\u001b[39m\u001b[23m 0\u001b[90m, \u001b[39m0\u001b[90m, \u001b[39m0\u001b[90m, \u001b[39m0\u001b[90m, \u001b[39m0\u001b[90m, \u001b[39m0\u001b[90m, \u001b[39m0\u001b[90m, \u001b[39m0\u001b[90m, \u001b[39m0\u001b[90m, \u001b[39m0\u001b[90m, \u001b[39m0\u001b[90m, \u001b[39m0\u001b[90m, \u001b[39m0\u001b[90m, \u001b[39m0\u001b[90m, \u001b[39m0\u001b[90m, \u001b[39m0\u001b[90m, \u001b[39m0\u001b[90m, \u001b[39m0\u001b[90m, \u001b[39m0\u001b[90m, \u001b[39m…\n",
      "$ V1028004     \u001b[3m\u001b[90m<dbl>\u001b[39m\u001b[23m 388.8674\u001b[90m, \u001b[39m388.8674\u001b[90m, \u001b[39m480.1194\u001b[90m, \u001b[39m480.1194\u001b[90m, \u001b[39m377.7826\u001b[90m, \u001b[39m377.782…\n",
      "$ V1028005     \u001b[3m\u001b[90m<dbl>\u001b[39m\u001b[23m 368.1316\u001b[90m, \u001b[39m368.1316\u001b[90m, \u001b[39m513.6156\u001b[90m, \u001b[39m513.6156\u001b[90m, \u001b[39m398.4086\u001b[90m, \u001b[39m398.408…\n",
      "$ V1028006     \u001b[3m\u001b[90m<dbl>\u001b[39m\u001b[23m 0\u001b[90m, \u001b[39m0\u001b[90m, \u001b[39m0\u001b[90m, \u001b[39m0\u001b[90m, \u001b[39m0\u001b[90m, \u001b[39m0\u001b[90m, \u001b[39m0\u001b[90m, \u001b[39m0\u001b[90m, \u001b[39m0\u001b[90m, \u001b[39m0\u001b[90m, \u001b[39m0\u001b[90m, \u001b[39m0\u001b[90m, \u001b[39m0\u001b[90m, \u001b[39m0\u001b[90m, \u001b[39m0\u001b[90m, \u001b[39m0\u001b[90m, \u001b[39m0\u001b[90m, \u001b[39m0\u001b[90m, \u001b[39m0\u001b[90m, \u001b[39m…\n",
      "$ V1028007     \u001b[3m\u001b[90m<dbl>\u001b[39m\u001b[23m 366.5764\u001b[90m, \u001b[39m366.5764\u001b[90m, \u001b[39m510.6529\u001b[90m, \u001b[39m510.6529\u001b[90m, \u001b[39m412.5979\u001b[90m, \u001b[39m412.597…\n",
      "$ V1028008     \u001b[3m\u001b[90m<dbl>\u001b[39m\u001b[23m 0\u001b[90m, \u001b[39m0\u001b[90m, \u001b[39m0\u001b[90m, \u001b[39m0\u001b[90m, \u001b[39m0\u001b[90m, \u001b[39m0\u001b[90m, \u001b[39m0\u001b[90m, \u001b[39m0\u001b[90m, \u001b[39m0\u001b[90m, \u001b[39m0\u001b[90m, \u001b[39m0\u001b[90m, \u001b[39m0\u001b[90m, \u001b[39m0\u001b[90m, \u001b[39m0\u001b[90m, \u001b[39m0\u001b[90m, \u001b[39m0\u001b[90m, \u001b[39m0\u001b[90m, \u001b[39m0\u001b[90m, \u001b[39m0\u001b[90m, \u001b[39m…\n",
      "$ V1028009     \u001b[3m\u001b[90m<dbl>\u001b[39m\u001b[23m 0\u001b[90m, \u001b[39m0\u001b[90m, \u001b[39m0\u001b[90m, \u001b[39m0\u001b[90m, \u001b[39m0\u001b[90m, \u001b[39m0\u001b[90m, \u001b[39m0\u001b[90m, \u001b[39m0\u001b[90m, \u001b[39m0\u001b[90m, \u001b[39m0\u001b[90m, \u001b[39m0\u001b[90m, \u001b[39m0\u001b[90m, \u001b[39m0\u001b[90m, \u001b[39m0\u001b[90m, \u001b[39m0\u001b[90m, \u001b[39m0\u001b[90m, \u001b[39m0\u001b[90m, \u001b[39m0\u001b[90m, \u001b[39m0\u001b[90m, \u001b[39m…\n",
      "$ V1028010     \u001b[3m\u001b[90m<dbl>\u001b[39m\u001b[23m 790.5261\u001b[90m, \u001b[39m790.5261\u001b[90m, \u001b[39m1037.9650\u001b[90m, \u001b[39m1037.9650\u001b[90m, \u001b[39m823.3532\u001b[90m, \u001b[39m823.3…\n",
      "$ V1028011     \u001b[3m\u001b[90m<dbl>\u001b[39m\u001b[23m 390.9177\u001b[90m, \u001b[39m390.9177\u001b[90m, \u001b[39m498.3407\u001b[90m, \u001b[39m498.3407\u001b[90m, \u001b[39m406.8860\u001b[90m, \u001b[39m406.886…\n",
      "$ V1028012     \u001b[3m\u001b[90m<dbl>\u001b[39m\u001b[23m 0\u001b[90m, \u001b[39m0\u001b[90m, \u001b[39m0\u001b[90m, \u001b[39m0\u001b[90m, \u001b[39m0\u001b[90m, \u001b[39m0\u001b[90m, \u001b[39m0\u001b[90m, \u001b[39m0\u001b[90m, \u001b[39m0\u001b[90m, \u001b[39m0\u001b[90m, \u001b[39m0\u001b[90m, \u001b[39m0\u001b[90m, \u001b[39m0\u001b[90m, \u001b[39m0\u001b[90m, \u001b[39m0\u001b[90m, \u001b[39m0\u001b[90m, \u001b[39m0\u001b[90m, \u001b[39m0\u001b[90m, \u001b[39m0\u001b[90m, \u001b[39m…\n",
      "$ V1028013     \u001b[3m\u001b[90m<dbl>\u001b[39m\u001b[23m 404.0185\u001b[90m, \u001b[39m404.0185\u001b[90m, \u001b[39m540.3484\u001b[90m, \u001b[39m540.3484\u001b[90m, \u001b[39m427.5182\u001b[90m, \u001b[39m427.518…\n",
      "$ V1028014     \u001b[3m\u001b[90m<dbl>\u001b[39m\u001b[23m 416.9781\u001b[90m, \u001b[39m416.9781\u001b[90m, \u001b[39m517.6095\u001b[90m, \u001b[39m517.6095\u001b[90m, \u001b[39m430.6324\u001b[90m, \u001b[39m430.632…\n",
      "$ V1028015     \u001b[3m\u001b[90m<dbl>\u001b[39m\u001b[23m 384.7362\u001b[90m, \u001b[39m384.7362\u001b[90m, \u001b[39m481.6875\u001b[90m, \u001b[39m481.6875\u001b[90m, \u001b[39m394.6455\u001b[90m, \u001b[39m394.645…\n",
      "$ V1028016     \u001b[3m\u001b[90m<dbl>\u001b[39m\u001b[23m 0\u001b[90m, \u001b[39m0\u001b[90m, \u001b[39m0\u001b[90m, \u001b[39m0\u001b[90m, \u001b[39m0\u001b[90m, \u001b[39m0\u001b[90m, \u001b[39m0\u001b[90m, \u001b[39m0\u001b[90m, \u001b[39m0\u001b[90m, \u001b[39m0\u001b[90m, \u001b[39m0\u001b[90m, \u001b[39m0\u001b[90m, \u001b[39m0\u001b[90m, \u001b[39m0\u001b[90m, \u001b[39m0\u001b[90m, \u001b[39m0\u001b[90m, \u001b[39m0\u001b[90m, \u001b[39m0\u001b[90m, \u001b[39m0\u001b[90m, \u001b[39m…\n",
      "$ V1028017     \u001b[3m\u001b[90m<dbl>\u001b[39m\u001b[23m 747.1537\u001b[90m, \u001b[39m747.1537\u001b[90m, \u001b[39m976.8716\u001b[90m, \u001b[39m976.8716\u001b[90m, \u001b[39m792.6542\u001b[90m, \u001b[39m792.654…\n",
      "$ V1028018     \u001b[3m\u001b[90m<dbl>\u001b[39m\u001b[23m 369.3162\u001b[90m, \u001b[39m369.3162\u001b[90m, \u001b[39m472.3712\u001b[90m, \u001b[39m472.3712\u001b[90m, \u001b[39m384.3698\u001b[90m, \u001b[39m384.369…\n",
      "$ V1028019     \u001b[3m\u001b[90m<dbl>\u001b[39m\u001b[23m 0\u001b[90m, \u001b[39m0\u001b[90m, \u001b[39m0\u001b[90m, \u001b[39m0\u001b[90m, \u001b[39m0\u001b[90m, \u001b[39m0\u001b[90m, \u001b[39m0\u001b[90m, \u001b[39m0\u001b[90m, \u001b[39m0\u001b[90m, \u001b[39m0\u001b[90m, \u001b[39m0\u001b[90m, \u001b[39m0\u001b[90m, \u001b[39m0\u001b[90m, \u001b[39m0\u001b[90m, \u001b[39m0\u001b[90m, \u001b[39m0\u001b[90m, \u001b[39m0\u001b[90m, \u001b[39m0\u001b[90m, \u001b[39m0\u001b[90m, \u001b[39m…\n",
      "$ V1028020     \u001b[3m\u001b[90m<dbl>\u001b[39m\u001b[23m 776.9705\u001b[90m, \u001b[39m776.9705\u001b[90m, \u001b[39m1041.5654\u001b[90m, \u001b[39m1041.5654\u001b[90m, \u001b[39m836.3607\u001b[90m, \u001b[39m836.3…\n",
      "$ V1028021     \u001b[3m\u001b[90m<dbl>\u001b[39m\u001b[23m 372.5495\u001b[90m, \u001b[39m372.5495\u001b[90m, \u001b[39m493.5282\u001b[90m, \u001b[39m493.5282\u001b[90m, \u001b[39m409.4017\u001b[90m, \u001b[39m409.401…\n",
      "$ V1028022     \u001b[3m\u001b[90m<dbl>\u001b[39m\u001b[23m 0\u001b[90m, \u001b[39m0\u001b[90m, \u001b[39m0\u001b[90m, \u001b[39m0\u001b[90m, \u001b[39m0\u001b[90m, \u001b[39m0\u001b[90m, \u001b[39m0\u001b[90m, \u001b[39m0\u001b[90m, \u001b[39m0\u001b[90m, \u001b[39m0\u001b[90m, \u001b[39m0\u001b[90m, \u001b[39m0\u001b[90m, \u001b[39m0\u001b[90m, \u001b[39m0\u001b[90m, \u001b[39m0\u001b[90m, \u001b[39m0\u001b[90m, \u001b[39m0\u001b[90m, \u001b[39m0\u001b[90m, \u001b[39m0\u001b[90m, \u001b[39m…\n",
      "$ V1028023     \u001b[3m\u001b[90m<dbl>\u001b[39m\u001b[23m 365.3063\u001b[90m, \u001b[39m365.3063\u001b[90m, \u001b[39m471.0011\u001b[90m, \u001b[39m471.0011\u001b[90m, \u001b[39m384.3976\u001b[90m, \u001b[39m384.397…\n",
      "$ V1028024     \u001b[3m\u001b[90m<dbl>\u001b[39m\u001b[23m 374.1653\u001b[90m, \u001b[39m374.1653\u001b[90m, \u001b[39m475.8222\u001b[90m, \u001b[39m475.8222\u001b[90m, \u001b[39m384.9365\u001b[90m, \u001b[39m384.936…\n",
      "$ V1028025     \u001b[3m\u001b[90m<dbl>\u001b[39m\u001b[23m 383.2805\u001b[90m, \u001b[39m383.2805\u001b[90m, \u001b[39m493.4043\u001b[90m, \u001b[39m493.4043\u001b[90m, \u001b[39m381.5112\u001b[90m, \u001b[39m381.511…\n",
      "$ V1028026     \u001b[3m\u001b[90m<dbl>\u001b[39m\u001b[23m 0\u001b[90m, \u001b[39m0\u001b[90m, \u001b[39m0\u001b[90m, \u001b[39m0\u001b[90m, \u001b[39m0\u001b[90m, \u001b[39m0\u001b[90m, \u001b[39m0\u001b[90m, \u001b[39m0\u001b[90m, \u001b[39m0\u001b[90m, \u001b[39m0\u001b[90m, \u001b[39m0\u001b[90m, \u001b[39m0\u001b[90m, \u001b[39m0\u001b[90m, \u001b[39m0\u001b[90m, \u001b[39m0\u001b[90m, \u001b[39m0\u001b[90m, \u001b[39m0\u001b[90m, \u001b[39m0\u001b[90m, \u001b[39m0\u001b[90m, \u001b[39m…\n",
      "$ V1028027     \u001b[3m\u001b[90m<dbl>\u001b[39m\u001b[23m 393.0282\u001b[90m, \u001b[39m393.0282\u001b[90m, \u001b[39m530.7139\u001b[90m, \u001b[39m530.7139\u001b[90m, \u001b[39m433.1284\u001b[90m, \u001b[39m433.128…\n",
      "$ V1028028     \u001b[3m\u001b[90m<dbl>\u001b[39m\u001b[23m 369.1585\u001b[90m, \u001b[39m369.1585\u001b[90m, \u001b[39m490.0952\u001b[90m, \u001b[39m490.0952\u001b[90m, \u001b[39m381.9821\u001b[90m, \u001b[39m381.982…\n",
      "$ V1028029     \u001b[3m\u001b[90m<dbl>\u001b[39m\u001b[23m 382.2815\u001b[90m, \u001b[39m382.2815\u001b[90m, \u001b[39m493.2890\u001b[90m, \u001b[39m493.2890\u001b[90m, \u001b[39m423.9616\u001b[90m, \u001b[39m423.961…\n",
      "$ V1028030     \u001b[3m\u001b[90m<dbl>\u001b[39m\u001b[23m 371.1242\u001b[90m, \u001b[39m371.1242\u001b[90m, \u001b[39m483.5490\u001b[90m, \u001b[39m483.5490\u001b[90m, \u001b[39m387.0906\u001b[90m, \u001b[39m387.090…\n",
      "$ V1028031     \u001b[3m\u001b[90m<dbl>\u001b[39m\u001b[23m 0\u001b[90m, \u001b[39m0\u001b[90m, \u001b[39m0\u001b[90m, \u001b[39m0\u001b[90m, \u001b[39m0\u001b[90m, \u001b[39m0\u001b[90m, \u001b[39m0\u001b[90m, \u001b[39m0\u001b[90m, \u001b[39m0\u001b[90m, \u001b[39m0\u001b[90m, \u001b[39m0\u001b[90m, \u001b[39m0\u001b[90m, \u001b[39m0\u001b[90m, \u001b[39m0\u001b[90m, \u001b[39m0\u001b[90m, \u001b[39m0\u001b[90m, \u001b[39m0\u001b[90m, \u001b[39m0\u001b[90m, \u001b[39m0\u001b[90m, \u001b[39m…\n",
      "$ V1028032     \u001b[3m\u001b[90m<dbl>\u001b[39m\u001b[23m 0\u001b[90m, \u001b[39m0\u001b[90m, \u001b[39m0\u001b[90m, \u001b[39m0\u001b[90m, \u001b[39m0\u001b[90m, \u001b[39m0\u001b[90m, \u001b[39m0\u001b[90m, \u001b[39m0\u001b[90m, \u001b[39m0\u001b[90m, \u001b[39m0\u001b[90m, \u001b[39m0\u001b[90m, \u001b[39m0\u001b[90m, \u001b[39m0\u001b[90m, \u001b[39m0\u001b[90m, \u001b[39m0\u001b[90m, \u001b[39m0\u001b[90m, \u001b[39m0\u001b[90m, \u001b[39m0\u001b[90m, \u001b[39m0\u001b[90m, \u001b[39m…\n",
      "$ V1028033     \u001b[3m\u001b[90m<dbl>\u001b[39m\u001b[23m 384.6582\u001b[90m, \u001b[39m384.6582\u001b[90m, \u001b[39m490.6754\u001b[90m, \u001b[39m490.6754\u001b[90m, \u001b[39m399.6221\u001b[90m, \u001b[39m399.622…\n",
      "$ V1028034     \u001b[3m\u001b[90m<dbl>\u001b[39m\u001b[23m 385.2648\u001b[90m, \u001b[39m385.2648\u001b[90m, \u001b[39m519.3276\u001b[90m, \u001b[39m519.3276\u001b[90m, \u001b[39m418.1271\u001b[90m, \u001b[39m418.127…\n",
      "$ V1028035     \u001b[3m\u001b[90m<dbl>\u001b[39m\u001b[23m 0\u001b[90m, \u001b[39m0\u001b[90m, \u001b[39m0\u001b[90m, \u001b[39m0\u001b[90m, \u001b[39m0\u001b[90m, \u001b[39m0\u001b[90m, \u001b[39m0\u001b[90m, \u001b[39m0\u001b[90m, \u001b[39m0\u001b[90m, \u001b[39m0\u001b[90m, \u001b[39m0\u001b[90m, \u001b[39m0\u001b[90m, \u001b[39m0\u001b[90m, \u001b[39m0\u001b[90m, \u001b[39m0\u001b[90m, \u001b[39m0\u001b[90m, \u001b[39m0\u001b[90m, \u001b[39m0\u001b[90m, \u001b[39m0\u001b[90m, \u001b[39m…\n",
      "$ V1028036     \u001b[3m\u001b[90m<dbl>\u001b[39m\u001b[23m 0\u001b[90m, \u001b[39m0\u001b[90m, \u001b[39m0\u001b[90m, \u001b[39m0\u001b[90m, \u001b[39m0\u001b[90m, \u001b[39m0\u001b[90m, \u001b[39m0\u001b[90m, \u001b[39m0\u001b[90m, \u001b[39m0\u001b[90m, \u001b[39m0\u001b[90m, \u001b[39m0\u001b[90m, \u001b[39m0\u001b[90m, \u001b[39m0\u001b[90m, \u001b[39m0\u001b[90m, \u001b[39m0\u001b[90m, \u001b[39m0\u001b[90m, \u001b[39m0\u001b[90m, \u001b[39m0\u001b[90m, \u001b[39m0\u001b[90m, \u001b[39m…\n",
      "$ V1028037     \u001b[3m\u001b[90m<dbl>\u001b[39m\u001b[23m 0\u001b[90m, \u001b[39m0\u001b[90m, \u001b[39m0\u001b[90m, \u001b[39m0\u001b[90m, \u001b[39m0\u001b[90m, \u001b[39m0\u001b[90m, \u001b[39m0\u001b[90m, \u001b[39m0\u001b[90m, \u001b[39m0\u001b[90m, \u001b[39m0\u001b[90m, \u001b[39m0\u001b[90m, \u001b[39m0\u001b[90m, \u001b[39m0\u001b[90m, \u001b[39m0\u001b[90m, \u001b[39m0\u001b[90m, \u001b[39m0\u001b[90m, \u001b[39m0\u001b[90m, \u001b[39m0\u001b[90m, \u001b[39m0\u001b[90m, \u001b[39m…\n",
      "$ V1028038     \u001b[3m\u001b[90m<dbl>\u001b[39m\u001b[23m 373.1297\u001b[90m, \u001b[39m373.1297\u001b[90m, \u001b[39m481.0118\u001b[90m, \u001b[39m481.0118\u001b[90m, \u001b[39m391.9656\u001b[90m, \u001b[39m391.965…\n",
      "$ V1028039     \u001b[3m\u001b[90m<dbl>\u001b[39m\u001b[23m 0\u001b[90m, \u001b[39m0\u001b[90m, \u001b[39m0\u001b[90m, \u001b[39m0\u001b[90m, \u001b[39m0\u001b[90m, \u001b[39m0\u001b[90m, \u001b[39m0\u001b[90m, \u001b[39m0\u001b[90m, \u001b[39m0\u001b[90m, \u001b[39m0\u001b[90m, \u001b[39m0\u001b[90m, \u001b[39m0\u001b[90m, \u001b[39m0\u001b[90m, \u001b[39m0\u001b[90m, \u001b[39m0\u001b[90m, \u001b[39m0\u001b[90m, \u001b[39m0\u001b[90m, \u001b[39m0\u001b[90m, \u001b[39m0\u001b[90m, \u001b[39m…\n",
      "$ V1028040     \u001b[3m\u001b[90m<dbl>\u001b[39m\u001b[23m 386.1863\u001b[90m, \u001b[39m386.1863\u001b[90m, \u001b[39m519.0648\u001b[90m, \u001b[39m519.0648\u001b[90m, \u001b[39m419.9012\u001b[90m, \u001b[39m419.901…\n",
      "$ V1028041     \u001b[3m\u001b[90m<dbl>\u001b[39m\u001b[23m 775.3815\u001b[90m, \u001b[39m775.3815\u001b[90m, \u001b[39m987.1095\u001b[90m, \u001b[39m987.1095\u001b[90m, \u001b[39m789.1020\u001b[90m, \u001b[39m789.102…\n",
      "$ V1028042     \u001b[3m\u001b[90m<dbl>\u001b[39m\u001b[23m 379.5648\u001b[90m, \u001b[39m379.5648\u001b[90m, \u001b[39m550.1121\u001b[90m, \u001b[39m550.1121\u001b[90m, \u001b[39m431.5881\u001b[90m, \u001b[39m431.588…\n",
      "$ V1028043     \u001b[3m\u001b[90m<dbl>\u001b[39m\u001b[23m 700.5354\u001b[90m, \u001b[39m700.5354\u001b[90m, \u001b[39m901.0451\u001b[90m, \u001b[39m901.0451\u001b[90m, \u001b[39m742.4159\u001b[90m, \u001b[39m742.415…\n",
      "$ V1028044     \u001b[3m\u001b[90m<dbl>\u001b[39m\u001b[23m 792.9934\u001b[90m, \u001b[39m792.9934\u001b[90m, \u001b[39m1045.8136\u001b[90m, \u001b[39m1045.8136\u001b[90m, \u001b[39m862.8240\u001b[90m, \u001b[39m862.8…\n",
      "$ V1028045     \u001b[3m\u001b[90m<dbl>\u001b[39m\u001b[23m 0\u001b[90m, \u001b[39m0\u001b[90m, \u001b[39m0\u001b[90m, \u001b[39m0\u001b[90m, \u001b[39m0\u001b[90m, \u001b[39m0\u001b[90m, \u001b[39m0\u001b[90m, \u001b[39m0\u001b[90m, \u001b[39m0\u001b[90m, \u001b[39m0\u001b[90m, \u001b[39m0\u001b[90m, \u001b[39m0\u001b[90m, \u001b[39m0\u001b[90m, \u001b[39m0\u001b[90m, \u001b[39m0\u001b[90m, \u001b[39m0\u001b[90m, \u001b[39m0\u001b[90m, \u001b[39m0\u001b[90m, \u001b[39m0\u001b[90m, \u001b[39m…\n",
      "$ V1028046     \u001b[3m\u001b[90m<dbl>\u001b[39m\u001b[23m 354.5723\u001b[90m, \u001b[39m354.5723\u001b[90m, \u001b[39m483.2828\u001b[90m, \u001b[39m483.2828\u001b[90m, \u001b[39m379.4937\u001b[90m, \u001b[39m379.493…\n",
      "$ V1028047     \u001b[3m\u001b[90m<dbl>\u001b[39m\u001b[23m 1705.933\u001b[90m, \u001b[39m1705.933\u001b[90m, \u001b[39m2246.965\u001b[90m, \u001b[39m2246.965\u001b[90m, \u001b[39m1905.352\u001b[90m, \u001b[39m1905.35…\n",
      "$ V1028048     \u001b[3m\u001b[90m<dbl>\u001b[39m\u001b[23m 0\u001b[90m, \u001b[39m0\u001b[90m, \u001b[39m0\u001b[90m, \u001b[39m0\u001b[90m, \u001b[39m0\u001b[90m, \u001b[39m0\u001b[90m, \u001b[39m0\u001b[90m, \u001b[39m0\u001b[90m, \u001b[39m0\u001b[90m, \u001b[39m0\u001b[90m, \u001b[39m0\u001b[90m, \u001b[39m0\u001b[90m, \u001b[39m0\u001b[90m, \u001b[39m0\u001b[90m, \u001b[39m0\u001b[90m, \u001b[39m0\u001b[90m, \u001b[39m0\u001b[90m, \u001b[39m0\u001b[90m, \u001b[39m0\u001b[90m, \u001b[39m…\n",
      "$ V1028049     \u001b[3m\u001b[90m<dbl>\u001b[39m\u001b[23m 786.0122\u001b[90m, \u001b[39m786.0122\u001b[90m, \u001b[39m1020.7975\u001b[90m, \u001b[39m1020.7975\u001b[90m, \u001b[39m817.4538\u001b[90m, \u001b[39m817.4…\n",
      "$ V1028050     \u001b[3m\u001b[90m<dbl>\u001b[39m\u001b[23m 0\u001b[90m, \u001b[39m0\u001b[90m, \u001b[39m0\u001b[90m, \u001b[39m0\u001b[90m, \u001b[39m0\u001b[90m, \u001b[39m0\u001b[90m, \u001b[39m0\u001b[90m, \u001b[39m0\u001b[90m, \u001b[39m0\u001b[90m, \u001b[39m0\u001b[90m, \u001b[39m0\u001b[90m, \u001b[39m0\u001b[90m, \u001b[39m0\u001b[90m, \u001b[39m0\u001b[90m, \u001b[39m0\u001b[90m, \u001b[39m0\u001b[90m, \u001b[39m0\u001b[90m, \u001b[39m0\u001b[90m, \u001b[39m0\u001b[90m, \u001b[39m…\n",
      "$ V1028051     \u001b[3m\u001b[90m<dbl>\u001b[39m\u001b[23m 401.0801\u001b[90m, \u001b[39m401.0801\u001b[90m, \u001b[39m518.9226\u001b[90m, \u001b[39m518.9226\u001b[90m, \u001b[39m405.2223\u001b[90m, \u001b[39m405.222…\n",
      "$ V1028052     \u001b[3m\u001b[90m<dbl>\u001b[39m\u001b[23m 0\u001b[90m, \u001b[39m0\u001b[90m, \u001b[39m0\u001b[90m, \u001b[39m0\u001b[90m, \u001b[39m0\u001b[90m, \u001b[39m0\u001b[90m, \u001b[39m0\u001b[90m, \u001b[39m0\u001b[90m, \u001b[39m0\u001b[90m, \u001b[39m0\u001b[90m, \u001b[39m0\u001b[90m, \u001b[39m0\u001b[90m, \u001b[39m0\u001b[90m, \u001b[39m0\u001b[90m, \u001b[39m0\u001b[90m, \u001b[39m0\u001b[90m, \u001b[39m0\u001b[90m, \u001b[39m0\u001b[90m, \u001b[39m0\u001b[90m, \u001b[39m…\n",
      "$ V1028053     \u001b[3m\u001b[90m<dbl>\u001b[39m\u001b[23m 377.5505\u001b[90m, \u001b[39m377.5505\u001b[90m, \u001b[39m518.8874\u001b[90m, \u001b[39m518.8874\u001b[90m, \u001b[39m419.7721\u001b[90m, \u001b[39m419.772…\n",
      "$ V1028054     \u001b[3m\u001b[90m<dbl>\u001b[39m\u001b[23m 779.6394\u001b[90m, \u001b[39m779.6394\u001b[90m, \u001b[39m953.2990\u001b[90m, \u001b[39m953.2990\u001b[90m, \u001b[39m788.4040\u001b[90m, \u001b[39m788.404…\n",
      "$ V1028055     \u001b[3m\u001b[90m<dbl>\u001b[39m\u001b[23m 357.3906\u001b[90m, \u001b[39m357.3906\u001b[90m, \u001b[39m494.0961\u001b[90m, \u001b[39m494.0961\u001b[90m, \u001b[39m400.0861\u001b[90m, \u001b[39m400.086…\n",
      "$ V1028056     \u001b[3m\u001b[90m<dbl>\u001b[39m\u001b[23m 398.8456\u001b[90m, \u001b[39m398.8456\u001b[90m, \u001b[39m522.3586\u001b[90m, \u001b[39m522.3586\u001b[90m, \u001b[39m439.1057\u001b[90m, \u001b[39m439.105…\n",
      "$ V1028057     \u001b[3m\u001b[90m<dbl>\u001b[39m\u001b[23m 1179.8657\u001b[90m, \u001b[39m1179.8657\u001b[90m, \u001b[39m1574.9604\u001b[90m, \u001b[39m1574.9604\u001b[90m, \u001b[39m1262.7456\u001b[90m, \u001b[39m12…\n",
      "$ V1028058     \u001b[3m\u001b[90m<dbl>\u001b[39m\u001b[23m 361.6597\u001b[90m, \u001b[39m361.6597\u001b[90m, \u001b[39m488.1591\u001b[90m, \u001b[39m488.1591\u001b[90m, \u001b[39m404.1491\u001b[90m, \u001b[39m404.149…\n",
      "$ V1028059     \u001b[3m\u001b[90m<dbl>\u001b[39m\u001b[23m 743.5956\u001b[90m, \u001b[39m743.5956\u001b[90m, \u001b[39m1017.9628\u001b[90m, \u001b[39m1017.9628\u001b[90m, \u001b[39m803.7478\u001b[90m, \u001b[39m803.7…\n",
      "$ V1028060     \u001b[3m\u001b[90m<dbl>\u001b[39m\u001b[23m 0\u001b[90m, \u001b[39m0\u001b[90m, \u001b[39m0\u001b[90m, \u001b[39m0\u001b[90m, \u001b[39m0\u001b[90m, \u001b[39m0\u001b[90m, \u001b[39m0\u001b[90m, \u001b[39m0\u001b[90m, \u001b[39m0\u001b[90m, \u001b[39m0\u001b[90m, \u001b[39m0\u001b[90m, \u001b[39m0\u001b[90m, \u001b[39m0\u001b[90m, \u001b[39m0\u001b[90m, \u001b[39m0\u001b[90m, \u001b[39m0\u001b[90m, \u001b[39m0\u001b[90m, \u001b[39m0\u001b[90m, \u001b[39m0\u001b[90m, \u001b[39m…\n",
      "$ V1028061     \u001b[3m\u001b[90m<dbl>\u001b[39m\u001b[23m 378.8556\u001b[90m, \u001b[39m378.8556\u001b[90m, \u001b[39m484.2142\u001b[90m, \u001b[39m484.2142\u001b[90m, \u001b[39m393.1350\u001b[90m, \u001b[39m393.135…\n",
      "$ V1028062     \u001b[3m\u001b[90m<dbl>\u001b[39m\u001b[23m 377.4579\u001b[90m, \u001b[39m377.4579\u001b[90m, \u001b[39m509.3590\u001b[90m, \u001b[39m509.3590\u001b[90m, \u001b[39m404.9400\u001b[90m, \u001b[39m404.940…\n",
      "$ V1028063     \u001b[3m\u001b[90m<dbl>\u001b[39m\u001b[23m 437.5453\u001b[90m, \u001b[39m437.5453\u001b[90m, \u001b[39m573.1978\u001b[90m, \u001b[39m573.1978\u001b[90m, \u001b[39m476.3452\u001b[90m, \u001b[39m476.345…\n",
      "$ V1028064     \u001b[3m\u001b[90m<dbl>\u001b[39m\u001b[23m 396.7517\u001b[90m, \u001b[39m396.7517\u001b[90m, \u001b[39m537.5489\u001b[90m, \u001b[39m537.5489\u001b[90m, \u001b[39m446.3174\u001b[90m, \u001b[39m446.317…\n",
      "$ V1028065     \u001b[3m\u001b[90m<dbl>\u001b[39m\u001b[23m 357.9509\u001b[90m, \u001b[39m357.9509\u001b[90m, \u001b[39m506.7595\u001b[90m, \u001b[39m506.7595\u001b[90m, \u001b[39m404.5662\u001b[90m, \u001b[39m404.566…\n",
      "$ V1028066     \u001b[3m\u001b[90m<dbl>\u001b[39m\u001b[23m 0\u001b[90m, \u001b[39m0\u001b[90m, \u001b[39m0\u001b[90m, \u001b[39m0\u001b[90m, \u001b[39m0\u001b[90m, \u001b[39m0\u001b[90m, \u001b[39m0\u001b[90m, \u001b[39m0\u001b[90m, \u001b[39m0\u001b[90m, \u001b[39m0\u001b[90m, \u001b[39m0\u001b[90m, \u001b[39m0\u001b[90m, \u001b[39m0\u001b[90m, \u001b[39m0\u001b[90m, \u001b[39m0\u001b[90m, \u001b[39m0\u001b[90m, \u001b[39m0\u001b[90m, \u001b[39m0\u001b[90m, \u001b[39m0\u001b[90m, \u001b[39m…\n",
      "$ V1028067     \u001b[3m\u001b[90m<dbl>\u001b[39m\u001b[23m 378.9089\u001b[90m, \u001b[39m378.9089\u001b[90m, \u001b[39m494.8704\u001b[90m, \u001b[39m494.8704\u001b[90m, \u001b[39m398.4898\u001b[90m, \u001b[39m398.489…\n",
      "$ V1028068     \u001b[3m\u001b[90m<dbl>\u001b[39m\u001b[23m 379.8527\u001b[90m, \u001b[39m379.8527\u001b[90m, \u001b[39m510.8050\u001b[90m, \u001b[39m510.8050\u001b[90m, \u001b[39m422.5348\u001b[90m, \u001b[39m422.534…\n",
      "$ V1028069     \u001b[3m\u001b[90m<dbl>\u001b[39m\u001b[23m 377.4228\u001b[90m, \u001b[39m377.4228\u001b[90m, \u001b[39m510.9025\u001b[90m, \u001b[39m510.9025\u001b[90m, \u001b[39m424.0879\u001b[90m, \u001b[39m424.087…\n",
      "$ V1028070     \u001b[3m\u001b[90m<dbl>\u001b[39m\u001b[23m 828.9389\u001b[90m, \u001b[39m828.9389\u001b[90m, \u001b[39m1073.0874\u001b[90m, \u001b[39m1073.0874\u001b[90m, \u001b[39m884.9235\u001b[90m, \u001b[39m884.9…\n",
      "$ V1028071     \u001b[3m\u001b[90m<dbl>\u001b[39m\u001b[23m 0\u001b[90m, \u001b[39m0\u001b[90m, \u001b[39m0\u001b[90m, \u001b[39m0\u001b[90m, \u001b[39m0\u001b[90m, \u001b[39m0\u001b[90m, \u001b[39m0\u001b[90m, \u001b[39m0\u001b[90m, \u001b[39m0\u001b[90m, \u001b[39m0\u001b[90m, \u001b[39m0\u001b[90m, \u001b[39m0\u001b[90m, \u001b[39m0\u001b[90m, \u001b[39m0\u001b[90m, \u001b[39m0\u001b[90m, \u001b[39m0\u001b[90m, \u001b[39m0\u001b[90m, \u001b[39m0\u001b[90m, \u001b[39m0\u001b[90m, \u001b[39m…\n",
      "$ V1028072     \u001b[3m\u001b[90m<dbl>\u001b[39m\u001b[23m 394.4384\u001b[90m, \u001b[39m394.4384\u001b[90m, \u001b[39m538.7107\u001b[90m, \u001b[39m538.7107\u001b[90m, \u001b[39m441.4479\u001b[90m, \u001b[39m441.447…\n",
      "$ V1028073     \u001b[3m\u001b[90m<dbl>\u001b[39m\u001b[23m 0\u001b[90m, \u001b[39m0\u001b[90m, \u001b[39m0\u001b[90m, \u001b[39m0\u001b[90m, \u001b[39m0\u001b[90m, \u001b[39m0\u001b[90m, \u001b[39m0\u001b[90m, \u001b[39m0\u001b[90m, \u001b[39m0\u001b[90m, \u001b[39m0\u001b[90m, \u001b[39m0\u001b[90m, \u001b[39m0\u001b[90m, \u001b[39m0\u001b[90m, \u001b[39m0\u001b[90m, \u001b[39m0\u001b[90m, \u001b[39m0\u001b[90m, \u001b[39m0\u001b[90m, \u001b[39m0\u001b[90m, \u001b[39m0\u001b[90m, \u001b[39m…\n",
      "$ V1028074     \u001b[3m\u001b[90m<dbl>\u001b[39m\u001b[23m 0\u001b[90m, \u001b[39m0\u001b[90m, \u001b[39m0\u001b[90m, \u001b[39m0\u001b[90m, \u001b[39m0\u001b[90m, \u001b[39m0\u001b[90m, \u001b[39m0\u001b[90m, \u001b[39m0\u001b[90m, \u001b[39m0\u001b[90m, \u001b[39m0\u001b[90m, \u001b[39m0\u001b[90m, \u001b[39m0\u001b[90m, \u001b[39m0\u001b[90m, \u001b[39m0\u001b[90m, \u001b[39m0\u001b[90m, \u001b[39m0\u001b[90m, \u001b[39m0\u001b[90m, \u001b[39m0\u001b[90m, \u001b[39m0\u001b[90m, \u001b[39m…\n",
      "$ V1028075     \u001b[3m\u001b[90m<dbl>\u001b[39m\u001b[23m 803.1595\u001b[90m, \u001b[39m803.1595\u001b[90m, \u001b[39m1054.4256\u001b[90m, \u001b[39m1054.4256\u001b[90m, \u001b[39m917.5336\u001b[90m, \u001b[39m917.5…\n",
      "$ V1028076     \u001b[3m\u001b[90m<dbl>\u001b[39m\u001b[23m 754.0075\u001b[90m, \u001b[39m754.0075\u001b[90m, \u001b[39m984.2529\u001b[90m, \u001b[39m984.2529\u001b[90m, \u001b[39m808.3847\u001b[90m, \u001b[39m808.384…\n",
      "$ V1028077     \u001b[3m\u001b[90m<dbl>\u001b[39m\u001b[23m 734.6304\u001b[90m, \u001b[39m734.6304\u001b[90m, \u001b[39m974.6675\u001b[90m, \u001b[39m974.6675\u001b[90m, \u001b[39m819.4847\u001b[90m, \u001b[39m819.484…\n",
      "$ V1028078     \u001b[3m\u001b[90m<dbl>\u001b[39m\u001b[23m 0\u001b[90m, \u001b[39m0\u001b[90m, \u001b[39m0\u001b[90m, \u001b[39m0\u001b[90m, \u001b[39m0\u001b[90m, \u001b[39m0\u001b[90m, \u001b[39m0\u001b[90m, \u001b[39m0\u001b[90m, \u001b[39m0\u001b[90m, \u001b[39m0\u001b[90m, \u001b[39m0\u001b[90m, \u001b[39m0\u001b[90m, \u001b[39m0\u001b[90m, \u001b[39m0\u001b[90m, \u001b[39m0\u001b[90m, \u001b[39m0\u001b[90m, \u001b[39m0\u001b[90m, \u001b[39m0\u001b[90m, \u001b[39m0\u001b[90m, \u001b[39m…\n",
      "$ V1028079     \u001b[3m\u001b[90m<dbl>\u001b[39m\u001b[23m 1129.8773\u001b[90m, \u001b[39m1129.8773\u001b[90m, \u001b[39m1512.1836\u001b[90m, \u001b[39m1512.1836\u001b[90m, \u001b[39m1263.2505\u001b[90m, \u001b[39m12…\n",
      "$ V1028080     \u001b[3m\u001b[90m<dbl>\u001b[39m\u001b[23m 756.7015\u001b[90m, \u001b[39m756.7015\u001b[90m, \u001b[39m1009.4965\u001b[90m, \u001b[39m1009.4965\u001b[90m, \u001b[39m847.6026\u001b[90m, \u001b[39m847.6…\n",
      "$ V1028081     \u001b[3m\u001b[90m<dbl>\u001b[39m\u001b[23m 0\u001b[90m, \u001b[39m0\u001b[90m, \u001b[39m0\u001b[90m, \u001b[39m0\u001b[90m, \u001b[39m0\u001b[90m, \u001b[39m0\u001b[90m, \u001b[39m0\u001b[90m, \u001b[39m0\u001b[90m, \u001b[39m0\u001b[90m, \u001b[39m0\u001b[90m, \u001b[39m0\u001b[90m, \u001b[39m0\u001b[90m, \u001b[39m0\u001b[90m, \u001b[39m0\u001b[90m, \u001b[39m0\u001b[90m, \u001b[39m0\u001b[90m, \u001b[39m0\u001b[90m, \u001b[39m0\u001b[90m, \u001b[39m0\u001b[90m, \u001b[39m…\n",
      "$ V1028082     \u001b[3m\u001b[90m<dbl>\u001b[39m\u001b[23m 1072.2473\u001b[90m, \u001b[39m1072.2473\u001b[90m, \u001b[39m1378.7324\u001b[90m, \u001b[39m1378.7324\u001b[90m, \u001b[39m1151.3862\u001b[90m, \u001b[39m11…\n",
      "$ V1028083     \u001b[3m\u001b[90m<dbl>\u001b[39m\u001b[23m 371.8358\u001b[90m, \u001b[39m371.8358\u001b[90m, \u001b[39m490.9303\u001b[90m, \u001b[39m490.9303\u001b[90m, \u001b[39m396.5049\u001b[90m, \u001b[39m396.504…\n",
      "$ V1028084     \u001b[3m\u001b[90m<dbl>\u001b[39m\u001b[23m 0\u001b[90m, \u001b[39m0\u001b[90m, \u001b[39m0\u001b[90m, \u001b[39m0\u001b[90m, \u001b[39m0\u001b[90m, \u001b[39m0\u001b[90m, \u001b[39m0\u001b[90m, \u001b[39m0\u001b[90m, \u001b[39m0\u001b[90m, \u001b[39m0\u001b[90m, \u001b[39m0\u001b[90m, \u001b[39m0\u001b[90m, \u001b[39m0\u001b[90m, \u001b[39m0\u001b[90m, \u001b[39m0\u001b[90m, \u001b[39m0\u001b[90m, \u001b[39m0\u001b[90m, \u001b[39m0\u001b[90m, \u001b[39m0\u001b[90m, \u001b[39m…\n",
      "$ V1028085     \u001b[3m\u001b[90m<dbl>\u001b[39m\u001b[23m 0\u001b[90m, \u001b[39m0\u001b[90m, \u001b[39m0\u001b[90m, \u001b[39m0\u001b[90m, \u001b[39m0\u001b[90m, \u001b[39m0\u001b[90m, \u001b[39m0\u001b[90m, \u001b[39m0\u001b[90m, \u001b[39m0\u001b[90m, \u001b[39m0\u001b[90m, \u001b[39m0\u001b[90m, \u001b[39m0\u001b[90m, \u001b[39m0\u001b[90m, \u001b[39m0\u001b[90m, \u001b[39m0\u001b[90m, \u001b[39m0\u001b[90m, \u001b[39m0\u001b[90m, \u001b[39m0\u001b[90m, \u001b[39m0\u001b[90m, \u001b[39m…\n",
      "$ V1028086     \u001b[3m\u001b[90m<dbl>\u001b[39m\u001b[23m 838.4354\u001b[90m, \u001b[39m838.4354\u001b[90m, \u001b[39m1073.2873\u001b[90m, \u001b[39m1073.2873\u001b[90m, \u001b[39m919.6657\u001b[90m, \u001b[39m919.6…\n",
      "$ V1028087     \u001b[3m\u001b[90m<dbl>\u001b[39m\u001b[23m 1206.420\u001b[90m, \u001b[39m1206.420\u001b[90m, \u001b[39m1514.783\u001b[90m, \u001b[39m1514.783\u001b[90m, \u001b[39m1223.899\u001b[90m, \u001b[39m1223.89…\n",
      "$ V1028088     \u001b[3m\u001b[90m<dbl>\u001b[39m\u001b[23m 829.2430\u001b[90m, \u001b[39m829.2430\u001b[90m, \u001b[39m1038.0329\u001b[90m, \u001b[39m1038.0329\u001b[90m, \u001b[39m856.3826\u001b[90m, \u001b[39m856.3…\n",
      "$ V1028089     \u001b[3m\u001b[90m<dbl>\u001b[39m\u001b[23m 361.3945\u001b[90m, \u001b[39m361.3945\u001b[90m, \u001b[39m503.7864\u001b[90m, \u001b[39m503.7864\u001b[90m, \u001b[39m414.3019\u001b[90m, \u001b[39m414.301…\n",
      "$ V1028090     \u001b[3m\u001b[90m<dbl>\u001b[39m\u001b[23m 0\u001b[90m, \u001b[39m0\u001b[90m, \u001b[39m0\u001b[90m, \u001b[39m0\u001b[90m, \u001b[39m0\u001b[90m, \u001b[39m0\u001b[90m, \u001b[39m0\u001b[90m, \u001b[39m0\u001b[90m, \u001b[39m0\u001b[90m, \u001b[39m0\u001b[90m, \u001b[39m0\u001b[90m, \u001b[39m0\u001b[90m, \u001b[39m0\u001b[90m, \u001b[39m0\u001b[90m, \u001b[39m0\u001b[90m, \u001b[39m0\u001b[90m, \u001b[39m0\u001b[90m, \u001b[39m0\u001b[90m, \u001b[39m0\u001b[90m, \u001b[39m…\n",
      "$ V1028091     \u001b[3m\u001b[90m<dbl>\u001b[39m\u001b[23m 372.9458\u001b[90m, \u001b[39m372.9458\u001b[90m, \u001b[39m518.1445\u001b[90m, \u001b[39m518.1445\u001b[90m, \u001b[39m401.1898\u001b[90m, \u001b[39m401.189…\n",
      "$ V1028092     \u001b[3m\u001b[90m<dbl>\u001b[39m\u001b[23m 752.8560\u001b[90m, \u001b[39m752.8560\u001b[90m, \u001b[39m958.6328\u001b[90m, \u001b[39m958.6328\u001b[90m, \u001b[39m819.8970\u001b[90m, \u001b[39m819.897…\n",
      "$ V1028093     \u001b[3m\u001b[90m<dbl>\u001b[39m\u001b[23m 356.3768\u001b[90m, \u001b[39m356.3768\u001b[90m, \u001b[39m469.2125\u001b[90m, \u001b[39m469.2125\u001b[90m, \u001b[39m381.0267\u001b[90m, \u001b[39m381.026…\n",
      "$ V1028094     \u001b[3m\u001b[90m<dbl>\u001b[39m\u001b[23m 0\u001b[90m, \u001b[39m0\u001b[90m, \u001b[39m0\u001b[90m, \u001b[39m0\u001b[90m, \u001b[39m0\u001b[90m, \u001b[39m0\u001b[90m, \u001b[39m0\u001b[90m, \u001b[39m0\u001b[90m, \u001b[39m0\u001b[90m, \u001b[39m0\u001b[90m, \u001b[39m0\u001b[90m, \u001b[39m0\u001b[90m, \u001b[39m0\u001b[90m, \u001b[39m0\u001b[90m, \u001b[39m0\u001b[90m, \u001b[39m0\u001b[90m, \u001b[39m0\u001b[90m, \u001b[39m0\u001b[90m, \u001b[39m0\u001b[90m, \u001b[39m…\n",
      "$ V1028095     \u001b[3m\u001b[90m<dbl>\u001b[39m\u001b[23m 385.9195\u001b[90m, \u001b[39m385.9195\u001b[90m, \u001b[39m513.0449\u001b[90m, \u001b[39m513.0449\u001b[90m, \u001b[39m413.2124\u001b[90m, \u001b[39m413.212…\n",
      "$ V1028096     \u001b[3m\u001b[90m<dbl>\u001b[39m\u001b[23m 376.0259\u001b[90m, \u001b[39m376.0259\u001b[90m, \u001b[39m485.9763\u001b[90m, \u001b[39m485.9763\u001b[90m, \u001b[39m396.7245\u001b[90m, \u001b[39m396.724…\n",
      "$ V1028097     \u001b[3m\u001b[90m<dbl>\u001b[39m\u001b[23m 0\u001b[90m, \u001b[39m0\u001b[90m, \u001b[39m0\u001b[90m, \u001b[39m0\u001b[90m, \u001b[39m0\u001b[90m, \u001b[39m0\u001b[90m, \u001b[39m0\u001b[90m, \u001b[39m0\u001b[90m, \u001b[39m0\u001b[90m, \u001b[39m0\u001b[90m, \u001b[39m0\u001b[90m, \u001b[39m0\u001b[90m, \u001b[39m0\u001b[90m, \u001b[39m0\u001b[90m, \u001b[39m0\u001b[90m, \u001b[39m0\u001b[90m, \u001b[39m0\u001b[90m, \u001b[39m0\u001b[90m, \u001b[39m0\u001b[90m, \u001b[39m…\n",
      "$ V1028098     \u001b[3m\u001b[90m<dbl>\u001b[39m\u001b[23m 365.7101\u001b[90m, \u001b[39m365.7101\u001b[90m, \u001b[39m480.8874\u001b[90m, \u001b[39m480.8874\u001b[90m, \u001b[39m384.6543\u001b[90m, \u001b[39m384.654…\n",
      "$ V1028099     \u001b[3m\u001b[90m<dbl>\u001b[39m\u001b[23m 377.0065\u001b[90m, \u001b[39m377.0065\u001b[90m, \u001b[39m486.9729\u001b[90m, \u001b[39m486.9729\u001b[90m, \u001b[39m383.9423\u001b[90m, \u001b[39m383.942…\n",
      "$ V1028100     \u001b[3m\u001b[90m<dbl>\u001b[39m\u001b[23m 686.1876\u001b[90m, \u001b[39m686.1876\u001b[90m, \u001b[39m943.9670\u001b[90m, \u001b[39m943.9670\u001b[90m, \u001b[39m794.4978\u001b[90m, \u001b[39m794.497…\n",
      "$ V1028101     \u001b[3m\u001b[90m<dbl>\u001b[39m\u001b[23m 0\u001b[90m, \u001b[39m0\u001b[90m, \u001b[39m0\u001b[90m, \u001b[39m0\u001b[90m, \u001b[39m0\u001b[90m, \u001b[39m0\u001b[90m, \u001b[39m0\u001b[90m, \u001b[39m0\u001b[90m, \u001b[39m0\u001b[90m, \u001b[39m0\u001b[90m, \u001b[39m0\u001b[90m, \u001b[39m0\u001b[90m, \u001b[39m0\u001b[90m, \u001b[39m0\u001b[90m, \u001b[39m0\u001b[90m, \u001b[39m0\u001b[90m, \u001b[39m0\u001b[90m, \u001b[39m0\u001b[90m, \u001b[39m0\u001b[90m, \u001b[39m…\n",
      "$ V1028102     \u001b[3m\u001b[90m<dbl>\u001b[39m\u001b[23m 0\u001b[90m, \u001b[39m0\u001b[90m, \u001b[39m0\u001b[90m, \u001b[39m0\u001b[90m, \u001b[39m0\u001b[90m, \u001b[39m0\u001b[90m, \u001b[39m0\u001b[90m, \u001b[39m0\u001b[90m, \u001b[39m0\u001b[90m, \u001b[39m0\u001b[90m, \u001b[39m0\u001b[90m, \u001b[39m0\u001b[90m, \u001b[39m0\u001b[90m, \u001b[39m0\u001b[90m, \u001b[39m0\u001b[90m, \u001b[39m0\u001b[90m, \u001b[39m0\u001b[90m, \u001b[39m0\u001b[90m, \u001b[39m0\u001b[90m, \u001b[39m…\n",
      "$ V1028103     \u001b[3m\u001b[90m<dbl>\u001b[39m\u001b[23m 0\u001b[90m, \u001b[39m0\u001b[90m, \u001b[39m0\u001b[90m, \u001b[39m0\u001b[90m, \u001b[39m0\u001b[90m, \u001b[39m0\u001b[90m, \u001b[39m0\u001b[90m, \u001b[39m0\u001b[90m, \u001b[39m0\u001b[90m, \u001b[39m0\u001b[90m, \u001b[39m0\u001b[90m, \u001b[39m0\u001b[90m, \u001b[39m0\u001b[90m, \u001b[39m0\u001b[90m, \u001b[39m0\u001b[90m, \u001b[39m0\u001b[90m, \u001b[39m0\u001b[90m, \u001b[39m0\u001b[90m, \u001b[39m0\u001b[90m, \u001b[39m…\n",
      "$ V1028104     \u001b[3m\u001b[90m<dbl>\u001b[39m\u001b[23m 396.3129\u001b[90m, \u001b[39m396.3129\u001b[90m, \u001b[39m553.9960\u001b[90m, \u001b[39m553.9960\u001b[90m, \u001b[39m448.7675\u001b[90m, \u001b[39m448.767…\n",
      "$ V1028105     \u001b[3m\u001b[90m<dbl>\u001b[39m\u001b[23m 0\u001b[90m, \u001b[39m0\u001b[90m, \u001b[39m0\u001b[90m, \u001b[39m0\u001b[90m, \u001b[39m0\u001b[90m, \u001b[39m0\u001b[90m, \u001b[39m0\u001b[90m, \u001b[39m0\u001b[90m, \u001b[39m0\u001b[90m, \u001b[39m0\u001b[90m, \u001b[39m0\u001b[90m, \u001b[39m0\u001b[90m, \u001b[39m0\u001b[90m, \u001b[39m0\u001b[90m, \u001b[39m0\u001b[90m, \u001b[39m0\u001b[90m, \u001b[39m0\u001b[90m, \u001b[39m0\u001b[90m, \u001b[39m0\u001b[90m, \u001b[39m…\n",
      "$ V1028106     \u001b[3m\u001b[90m<dbl>\u001b[39m\u001b[23m 380.2396\u001b[90m, \u001b[39m380.2396\u001b[90m, \u001b[39m516.6286\u001b[90m, \u001b[39m516.6286\u001b[90m, \u001b[39m405.0310\u001b[90m, \u001b[39m405.031…\n",
      "$ V1028107     \u001b[3m\u001b[90m<dbl>\u001b[39m\u001b[23m 0\u001b[90m, \u001b[39m0\u001b[90m, \u001b[39m0\u001b[90m, \u001b[39m0\u001b[90m, \u001b[39m0\u001b[90m, \u001b[39m0\u001b[90m, \u001b[39m0\u001b[90m, \u001b[39m0\u001b[90m, \u001b[39m0\u001b[90m, \u001b[39m0\u001b[90m, \u001b[39m0\u001b[90m, \u001b[39m0\u001b[90m, \u001b[39m0\u001b[90m, \u001b[39m0\u001b[90m, \u001b[39m0\u001b[90m, \u001b[39m0\u001b[90m, \u001b[39m0\u001b[90m, \u001b[39m0\u001b[90m, \u001b[39m0\u001b[90m, \u001b[39m…\n",
      "$ V1028108     \u001b[3m\u001b[90m<dbl>\u001b[39m\u001b[23m 0\u001b[90m, \u001b[39m0\u001b[90m, \u001b[39m0\u001b[90m, \u001b[39m0\u001b[90m, \u001b[39m0\u001b[90m, \u001b[39m0\u001b[90m, \u001b[39m0\u001b[90m, \u001b[39m0\u001b[90m, \u001b[39m0\u001b[90m, \u001b[39m0\u001b[90m, \u001b[39m0\u001b[90m, \u001b[39m0\u001b[90m, \u001b[39m0\u001b[90m, \u001b[39m0\u001b[90m, \u001b[39m0\u001b[90m, \u001b[39m0\u001b[90m, \u001b[39m0\u001b[90m, \u001b[39m0\u001b[90m, \u001b[39m0\u001b[90m, \u001b[39m…\n",
      "$ V1028109     \u001b[3m\u001b[90m<dbl>\u001b[39m\u001b[23m 374.9739\u001b[90m, \u001b[39m374.9739\u001b[90m, \u001b[39m493.5514\u001b[90m, \u001b[39m493.5514\u001b[90m, \u001b[39m413.9731\u001b[90m, \u001b[39m413.973…\n",
      "$ V1028110     \u001b[3m\u001b[90m<dbl>\u001b[39m\u001b[23m 707.6722\u001b[90m, \u001b[39m707.6722\u001b[90m, \u001b[39m980.5352\u001b[90m, \u001b[39m980.5352\u001b[90m, \u001b[39m777.4888\u001b[90m, \u001b[39m777.488…\n",
      "$ V1028111     \u001b[3m\u001b[90m<dbl>\u001b[39m\u001b[23m 372.7610\u001b[90m, \u001b[39m372.7610\u001b[90m, \u001b[39m500.5210\u001b[90m, \u001b[39m500.5210\u001b[90m, \u001b[39m403.1620\u001b[90m, \u001b[39m403.162…\n",
      "$ V1028112     \u001b[3m\u001b[90m<dbl>\u001b[39m\u001b[23m 843.0504\u001b[90m, \u001b[39m843.0504\u001b[90m, \u001b[39m1020.4501\u001b[90m, \u001b[39m1020.4501\u001b[90m, \u001b[39m844.7776\u001b[90m, \u001b[39m844.7…\n",
      "$ V1028113     \u001b[3m\u001b[90m<dbl>\u001b[39m\u001b[23m 704.4636\u001b[90m, \u001b[39m704.4636\u001b[90m, \u001b[39m966.6635\u001b[90m, \u001b[39m966.6635\u001b[90m, \u001b[39m795.1925\u001b[90m, \u001b[39m795.192…\n",
      "$ V1028114     \u001b[3m\u001b[90m<dbl>\u001b[39m\u001b[23m 0\u001b[90m, \u001b[39m0\u001b[90m, \u001b[39m0\u001b[90m, \u001b[39m0\u001b[90m, \u001b[39m0\u001b[90m, \u001b[39m0\u001b[90m, \u001b[39m0\u001b[90m, \u001b[39m0\u001b[90m, \u001b[39m0\u001b[90m, \u001b[39m0\u001b[90m, \u001b[39m0\u001b[90m, \u001b[39m0\u001b[90m, \u001b[39m0\u001b[90m, \u001b[39m0\u001b[90m, \u001b[39m0\u001b[90m, \u001b[39m0\u001b[90m, \u001b[39m0\u001b[90m, \u001b[39m0\u001b[90m, \u001b[39m0\u001b[90m, \u001b[39m…\n",
      "$ V1028115     \u001b[3m\u001b[90m<dbl>\u001b[39m\u001b[23m 0\u001b[90m, \u001b[39m0\u001b[90m, \u001b[39m0\u001b[90m, \u001b[39m0\u001b[90m, \u001b[39m0\u001b[90m, \u001b[39m0\u001b[90m, \u001b[39m0\u001b[90m, \u001b[39m0\u001b[90m, \u001b[39m0\u001b[90m, \u001b[39m0\u001b[90m, \u001b[39m0\u001b[90m, \u001b[39m0\u001b[90m, \u001b[39m0\u001b[90m, \u001b[39m0\u001b[90m, \u001b[39m0\u001b[90m, \u001b[39m0\u001b[90m, \u001b[39m0\u001b[90m, \u001b[39m0\u001b[90m, \u001b[39m0\u001b[90m, \u001b[39m…\n",
      "$ V1028116     \u001b[3m\u001b[90m<dbl>\u001b[39m\u001b[23m 0\u001b[90m, \u001b[39m0\u001b[90m, \u001b[39m0\u001b[90m, \u001b[39m0\u001b[90m, \u001b[39m0\u001b[90m, \u001b[39m0\u001b[90m, \u001b[39m0\u001b[90m, \u001b[39m0\u001b[90m, \u001b[39m0\u001b[90m, \u001b[39m0\u001b[90m, \u001b[39m0\u001b[90m, \u001b[39m0\u001b[90m, \u001b[39m0\u001b[90m, \u001b[39m0\u001b[90m, \u001b[39m0\u001b[90m, \u001b[39m0\u001b[90m, \u001b[39m0\u001b[90m, \u001b[39m0\u001b[90m, \u001b[39m0\u001b[90m, \u001b[39m…\n",
      "$ V1028117     \u001b[3m\u001b[90m<dbl>\u001b[39m\u001b[23m 712.1482\u001b[90m, \u001b[39m712.1482\u001b[90m, \u001b[39m962.9483\u001b[90m, \u001b[39m962.9483\u001b[90m, \u001b[39m787.5945\u001b[90m, \u001b[39m787.594…\n",
      "$ V1028118     \u001b[3m\u001b[90m<dbl>\u001b[39m\u001b[23m 761.0056\u001b[90m, \u001b[39m761.0056\u001b[90m, \u001b[39m1014.0440\u001b[90m, \u001b[39m1014.0440\u001b[90m, \u001b[39m819.4125\u001b[90m, \u001b[39m819.4…\n",
      "$ V1028119     \u001b[3m\u001b[90m<dbl>\u001b[39m\u001b[23m 699.1367\u001b[90m, \u001b[39m699.1367\u001b[90m, \u001b[39m1025.5705\u001b[90m, \u001b[39m1025.5705\u001b[90m, \u001b[39m791.3848\u001b[90m, \u001b[39m791.3…\n",
      "$ V1028120     \u001b[3m\u001b[90m<dbl>\u001b[39m\u001b[23m 349.7591\u001b[90m, \u001b[39m349.7591\u001b[90m, \u001b[39m472.0235\u001b[90m, \u001b[39m472.0235\u001b[90m, \u001b[39m391.2946\u001b[90m, \u001b[39m391.294…\n",
      "$ V1028121     \u001b[3m\u001b[90m<dbl>\u001b[39m\u001b[23m 364.1669\u001b[90m, \u001b[39m364.1669\u001b[90m, \u001b[39m486.0332\u001b[90m, \u001b[39m486.0332\u001b[90m, \u001b[39m411.3197\u001b[90m, \u001b[39m411.319…\n",
      "$ V1028122     \u001b[3m\u001b[90m<dbl>\u001b[39m\u001b[23m 0\u001b[90m, \u001b[39m0\u001b[90m, \u001b[39m0\u001b[90m, \u001b[39m0\u001b[90m, \u001b[39m0\u001b[90m, \u001b[39m0\u001b[90m, \u001b[39m0\u001b[90m, \u001b[39m0\u001b[90m, \u001b[39m0\u001b[90m, \u001b[39m0\u001b[90m, \u001b[39m0\u001b[90m, \u001b[39m0\u001b[90m, \u001b[39m0\u001b[90m, \u001b[39m0\u001b[90m, \u001b[39m0\u001b[90m, \u001b[39m0\u001b[90m, \u001b[39m0\u001b[90m, \u001b[39m0\u001b[90m, \u001b[39m0\u001b[90m, \u001b[39m…\n",
      "$ V1028123     \u001b[3m\u001b[90m<dbl>\u001b[39m\u001b[23m 387.4701\u001b[90m, \u001b[39m387.4701\u001b[90m, \u001b[39m520.4776\u001b[90m, \u001b[39m520.4776\u001b[90m, \u001b[39m410.9334\u001b[90m, \u001b[39m410.933…\n",
      "$ V1028124     \u001b[3m\u001b[90m<dbl>\u001b[39m\u001b[23m 765.2640\u001b[90m, \u001b[39m765.2640\u001b[90m, \u001b[39m1000.0944\u001b[90m, \u001b[39m1000.0944\u001b[90m, \u001b[39m833.6167\u001b[90m, \u001b[39m833.6…\n",
      "$ V1028125     \u001b[3m\u001b[90m<dbl>\u001b[39m\u001b[23m 372.8865\u001b[90m, \u001b[39m372.8865\u001b[90m, \u001b[39m468.3656\u001b[90m, \u001b[39m468.3656\u001b[90m, \u001b[39m378.6313\u001b[90m, \u001b[39m378.631…\n",
      "$ V1028126     \u001b[3m\u001b[90m<dbl>\u001b[39m\u001b[23m 383.5232\u001b[90m, \u001b[39m383.5232\u001b[90m, \u001b[39m504.4041\u001b[90m, \u001b[39m504.4041\u001b[90m, \u001b[39m414.6917\u001b[90m, \u001b[39m414.691…\n",
      "$ V1028127     \u001b[3m\u001b[90m<dbl>\u001b[39m\u001b[23m 0\u001b[90m, \u001b[39m0\u001b[90m, \u001b[39m0\u001b[90m, \u001b[39m0\u001b[90m, \u001b[39m0\u001b[90m, \u001b[39m0\u001b[90m, \u001b[39m0\u001b[90m, \u001b[39m0\u001b[90m, \u001b[39m0\u001b[90m, \u001b[39m0\u001b[90m, \u001b[39m0\u001b[90m, \u001b[39m0\u001b[90m, \u001b[39m0\u001b[90m, \u001b[39m0\u001b[90m, \u001b[39m0\u001b[90m, \u001b[39m0\u001b[90m, \u001b[39m0\u001b[90m, \u001b[39m0\u001b[90m, \u001b[39m0\u001b[90m, \u001b[39m…\n",
      "$ V1028128     \u001b[3m\u001b[90m<dbl>\u001b[39m\u001b[23m 0\u001b[90m, \u001b[39m0\u001b[90m, \u001b[39m0\u001b[90m, \u001b[39m0\u001b[90m, \u001b[39m0\u001b[90m, \u001b[39m0\u001b[90m, \u001b[39m0\u001b[90m, \u001b[39m0\u001b[90m, \u001b[39m0\u001b[90m, \u001b[39m0\u001b[90m, \u001b[39m0\u001b[90m, \u001b[39m0\u001b[90m, \u001b[39m0\u001b[90m, \u001b[39m0\u001b[90m, \u001b[39m0\u001b[90m, \u001b[39m0\u001b[90m, \u001b[39m0\u001b[90m, \u001b[39m0\u001b[90m, \u001b[39m0\u001b[90m, \u001b[39m…\n",
      "$ V1028129     \u001b[3m\u001b[90m<dbl>\u001b[39m\u001b[23m 353.5476\u001b[90m, \u001b[39m353.5476\u001b[90m, \u001b[39m491.9619\u001b[90m, \u001b[39m491.9619\u001b[90m, \u001b[39m403.0773\u001b[90m, \u001b[39m403.077…\n",
      "$ V1028130     \u001b[3m\u001b[90m<dbl>\u001b[39m\u001b[23m 1138.9364\u001b[90m, \u001b[39m1138.9364\u001b[90m, \u001b[39m1442.9260\u001b[90m, \u001b[39m1442.9260\u001b[90m, \u001b[39m1187.7514\u001b[90m, \u001b[39m11…\n",
      "$ V1028131     \u001b[3m\u001b[90m<dbl>\u001b[39m\u001b[23m 385.7218\u001b[90m, \u001b[39m385.7218\u001b[90m, \u001b[39m535.6782\u001b[90m, \u001b[39m535.6782\u001b[90m, \u001b[39m418.9402\u001b[90m, \u001b[39m418.940…\n",
      "$ V1028132     \u001b[3m\u001b[90m<dbl>\u001b[39m\u001b[23m 0\u001b[90m, \u001b[39m0\u001b[90m, \u001b[39m0\u001b[90m, \u001b[39m0\u001b[90m, \u001b[39m0\u001b[90m, \u001b[39m0\u001b[90m, \u001b[39m0\u001b[90m, \u001b[39m0\u001b[90m, \u001b[39m0\u001b[90m, \u001b[39m0\u001b[90m, \u001b[39m0\u001b[90m, \u001b[39m0\u001b[90m, \u001b[39m0\u001b[90m, \u001b[39m0\u001b[90m, \u001b[39m0\u001b[90m, \u001b[39m0\u001b[90m, \u001b[39m0\u001b[90m, \u001b[39m0\u001b[90m, \u001b[39m0\u001b[90m, \u001b[39m…\n",
      "$ V1028133     \u001b[3m\u001b[90m<dbl>\u001b[39m\u001b[23m 742.1962\u001b[90m, \u001b[39m742.1962\u001b[90m, \u001b[39m961.8756\u001b[90m, \u001b[39m961.8756\u001b[90m, \u001b[39m803.0475\u001b[90m, \u001b[39m803.047…\n",
      "$ V1028134     \u001b[3m\u001b[90m<dbl>\u001b[39m\u001b[23m 760.7352\u001b[90m, \u001b[39m760.7352\u001b[90m, \u001b[39m1014.9339\u001b[90m, \u001b[39m1014.9339\u001b[90m, \u001b[39m858.2495\u001b[90m, \u001b[39m858.2…\n",
      "$ V1028135     \u001b[3m\u001b[90m<dbl>\u001b[39m\u001b[23m 1179.179\u001b[90m, \u001b[39m1179.179\u001b[90m, \u001b[39m1528.594\u001b[90m, \u001b[39m1528.594\u001b[90m, \u001b[39m1277.090\u001b[90m, \u001b[39m1277.09…\n",
      "$ V1028136     \u001b[3m\u001b[90m<dbl>\u001b[39m\u001b[23m 380.0751\u001b[90m, \u001b[39m380.0751\u001b[90m, \u001b[39m502.8703\u001b[90m, \u001b[39m502.8703\u001b[90m, \u001b[39m399.8235\u001b[90m, \u001b[39m399.823…\n",
      "$ V1028137     \u001b[3m\u001b[90m<dbl>\u001b[39m\u001b[23m 777.1266\u001b[90m, \u001b[39m777.1266\u001b[90m, \u001b[39m997.3728\u001b[90m, \u001b[39m997.3728\u001b[90m, \u001b[39m850.1201\u001b[90m, \u001b[39m850.120…\n",
      "$ V1028138     \u001b[3m\u001b[90m<dbl>\u001b[39m\u001b[23m 1546.299\u001b[90m, \u001b[39m1546.299\u001b[90m, \u001b[39m1958.270\u001b[90m, \u001b[39m1958.270\u001b[90m, \u001b[39m1667.146\u001b[90m, \u001b[39m1667.14…\n",
      "$ V1028139     \u001b[3m\u001b[90m<dbl>\u001b[39m\u001b[23m 734.7362\u001b[90m, \u001b[39m734.7362\u001b[90m, \u001b[39m1031.9528\u001b[90m, \u001b[39m1031.9528\u001b[90m, \u001b[39m832.0010\u001b[90m, \u001b[39m832.0…\n",
      "$ V1028140     \u001b[3m\u001b[90m<dbl>\u001b[39m\u001b[23m 0\u001b[90m, \u001b[39m0\u001b[90m, \u001b[39m0\u001b[90m, \u001b[39m0\u001b[90m, \u001b[39m0\u001b[90m, \u001b[39m0\u001b[90m, \u001b[39m0\u001b[90m, \u001b[39m0\u001b[90m, \u001b[39m0\u001b[90m, \u001b[39m0\u001b[90m, \u001b[39m0\u001b[90m, \u001b[39m0\u001b[90m, \u001b[39m0\u001b[90m, \u001b[39m0\u001b[90m, \u001b[39m0\u001b[90m, \u001b[39m0\u001b[90m, \u001b[39m0\u001b[90m, \u001b[39m0\u001b[90m, \u001b[39m0\u001b[90m, \u001b[39m…\n",
      "$ V1028141     \u001b[3m\u001b[90m<dbl>\u001b[39m\u001b[23m 347.3267\u001b[90m, \u001b[39m347.3267\u001b[90m, \u001b[39m477.8418\u001b[90m, \u001b[39m477.8418\u001b[90m, \u001b[39m392.1723\u001b[90m, \u001b[39m392.172…\n",
      "$ V1028142     \u001b[3m\u001b[90m<dbl>\u001b[39m\u001b[23m 817.9197\u001b[90m, \u001b[39m817.9197\u001b[90m, \u001b[39m1019.8260\u001b[90m, \u001b[39m1019.8260\u001b[90m, \u001b[39m810.0550\u001b[90m, \u001b[39m810.0…\n",
      "$ V1028143     \u001b[3m\u001b[90m<dbl>\u001b[39m\u001b[23m 365.3689\u001b[90m, \u001b[39m365.3689\u001b[90m, \u001b[39m481.8420\u001b[90m, \u001b[39m481.8420\u001b[90m, \u001b[39m383.6036\u001b[90m, \u001b[39m383.603…\n",
      "$ V1028144     \u001b[3m\u001b[90m<dbl>\u001b[39m\u001b[23m 749.6047\u001b[90m, \u001b[39m749.6047\u001b[90m, \u001b[39m992.0747\u001b[90m, \u001b[39m992.0747\u001b[90m, \u001b[39m841.5691\u001b[90m, \u001b[39m841.569…\n",
      "$ V1028145     \u001b[3m\u001b[90m<dbl>\u001b[39m\u001b[23m 0\u001b[90m, \u001b[39m0\u001b[90m, \u001b[39m0\u001b[90m, \u001b[39m0\u001b[90m, \u001b[39m0\u001b[90m, \u001b[39m0\u001b[90m, \u001b[39m0\u001b[90m, \u001b[39m0\u001b[90m, \u001b[39m0\u001b[90m, \u001b[39m0\u001b[90m, \u001b[39m0\u001b[90m, \u001b[39m0\u001b[90m, \u001b[39m0\u001b[90m, \u001b[39m0\u001b[90m, \u001b[39m0\u001b[90m, \u001b[39m0\u001b[90m, \u001b[39m0\u001b[90m, \u001b[39m0\u001b[90m, \u001b[39m0\u001b[90m, \u001b[39m…\n",
      "$ V1028146     \u001b[3m\u001b[90m<dbl>\u001b[39m\u001b[23m 0\u001b[90m, \u001b[39m0\u001b[90m, \u001b[39m0\u001b[90m, \u001b[39m0\u001b[90m, \u001b[39m0\u001b[90m, \u001b[39m0\u001b[90m, \u001b[39m0\u001b[90m, \u001b[39m0\u001b[90m, \u001b[39m0\u001b[90m, \u001b[39m0\u001b[90m, \u001b[39m0\u001b[90m, \u001b[39m0\u001b[90m, \u001b[39m0\u001b[90m, \u001b[39m0\u001b[90m, \u001b[39m0\u001b[90m, \u001b[39m0\u001b[90m, \u001b[39m0\u001b[90m, \u001b[39m0\u001b[90m, \u001b[39m0\u001b[90m, \u001b[39m…\n",
      "$ V1028147     \u001b[3m\u001b[90m<dbl>\u001b[39m\u001b[23m 373.1397\u001b[90m, \u001b[39m373.1397\u001b[90m, \u001b[39m495.8575\u001b[90m, \u001b[39m495.8575\u001b[90m, \u001b[39m402.8931\u001b[90m, \u001b[39m402.893…\n",
      "$ V1028148     \u001b[3m\u001b[90m<dbl>\u001b[39m\u001b[23m 0\u001b[90m, \u001b[39m0\u001b[90m, \u001b[39m0\u001b[90m, \u001b[39m0\u001b[90m, \u001b[39m0\u001b[90m, \u001b[39m0\u001b[90m, \u001b[39m0\u001b[90m, \u001b[39m0\u001b[90m, \u001b[39m0\u001b[90m, \u001b[39m0\u001b[90m, \u001b[39m0\u001b[90m, \u001b[39m0\u001b[90m, \u001b[39m0\u001b[90m, \u001b[39m0\u001b[90m, \u001b[39m0\u001b[90m, \u001b[39m0\u001b[90m, \u001b[39m0\u001b[90m, \u001b[39m0\u001b[90m, \u001b[39m0\u001b[90m, \u001b[39m…\n",
      "$ V1028149     \u001b[3m\u001b[90m<dbl>\u001b[39m\u001b[23m 0\u001b[90m, \u001b[39m0\u001b[90m, \u001b[39m0\u001b[90m, \u001b[39m0\u001b[90m, \u001b[39m0\u001b[90m, \u001b[39m0\u001b[90m, \u001b[39m0\u001b[90m, \u001b[39m0\u001b[90m, \u001b[39m0\u001b[90m, \u001b[39m0\u001b[90m, \u001b[39m0\u001b[90m, \u001b[39m0\u001b[90m, \u001b[39m0\u001b[90m, \u001b[39m0\u001b[90m, \u001b[39m0\u001b[90m, \u001b[39m0\u001b[90m, \u001b[39m0\u001b[90m, \u001b[39m0\u001b[90m, \u001b[39m0\u001b[90m, \u001b[39m…\n",
      "$ V1028150     \u001b[3m\u001b[90m<dbl>\u001b[39m\u001b[23m 377.3675\u001b[90m, \u001b[39m377.3675\u001b[90m, \u001b[39m504.5511\u001b[90m, \u001b[39m504.5511\u001b[90m, \u001b[39m416.0368\u001b[90m, \u001b[39m416.036…\n",
      "$ V1028151     \u001b[3m\u001b[90m<dbl>\u001b[39m\u001b[23m 393.7294\u001b[90m, \u001b[39m393.7294\u001b[90m, \u001b[39m509.3441\u001b[90m, \u001b[39m509.3441\u001b[90m, \u001b[39m415.2147\u001b[90m, \u001b[39m415.214…\n",
      "$ V1028152     \u001b[3m\u001b[90m<dbl>\u001b[39m\u001b[23m 1061.2875\u001b[90m, \u001b[39m1061.2875\u001b[90m, \u001b[39m1411.1204\u001b[90m, \u001b[39m1411.1204\u001b[90m, \u001b[39m1159.9349\u001b[90m, \u001b[39m11…\n",
      "$ V1028153     \u001b[3m\u001b[90m<dbl>\u001b[39m\u001b[23m 0\u001b[90m, \u001b[39m0\u001b[90m, \u001b[39m0\u001b[90m, \u001b[39m0\u001b[90m, \u001b[39m0\u001b[90m, \u001b[39m0\u001b[90m, \u001b[39m0\u001b[90m, \u001b[39m0\u001b[90m, \u001b[39m0\u001b[90m, \u001b[39m0\u001b[90m, \u001b[39m0\u001b[90m, \u001b[39m0\u001b[90m, \u001b[39m0\u001b[90m, \u001b[39m0\u001b[90m, \u001b[39m0\u001b[90m, \u001b[39m0\u001b[90m, \u001b[39m0\u001b[90m, \u001b[39m0\u001b[90m, \u001b[39m0\u001b[90m, \u001b[39m…\n",
      "$ V1028154     \u001b[3m\u001b[90m<dbl>\u001b[39m\u001b[23m 0\u001b[90m, \u001b[39m0\u001b[90m, \u001b[39m0\u001b[90m, \u001b[39m0\u001b[90m, \u001b[39m0\u001b[90m, \u001b[39m0\u001b[90m, \u001b[39m0\u001b[90m, \u001b[39m0\u001b[90m, \u001b[39m0\u001b[90m, \u001b[39m0\u001b[90m, \u001b[39m0\u001b[90m, \u001b[39m0\u001b[90m, \u001b[39m0\u001b[90m, \u001b[39m0\u001b[90m, \u001b[39m0\u001b[90m, \u001b[39m0\u001b[90m, \u001b[39m0\u001b[90m, \u001b[39m0\u001b[90m, \u001b[39m0\u001b[90m, \u001b[39m…\n",
      "$ V1028155     \u001b[3m\u001b[90m<dbl>\u001b[39m\u001b[23m 392.8293\u001b[90m, \u001b[39m392.8293\u001b[90m, \u001b[39m516.9310\u001b[90m, \u001b[39m516.9310\u001b[90m, \u001b[39m408.6449\u001b[90m, \u001b[39m408.644…\n",
      "$ V1028156     \u001b[3m\u001b[90m<dbl>\u001b[39m\u001b[23m 0\u001b[90m, \u001b[39m0\u001b[90m, \u001b[39m0\u001b[90m, \u001b[39m0\u001b[90m, \u001b[39m0\u001b[90m, \u001b[39m0\u001b[90m, \u001b[39m0\u001b[90m, \u001b[39m0\u001b[90m, \u001b[39m0\u001b[90m, \u001b[39m0\u001b[90m, \u001b[39m0\u001b[90m, \u001b[39m0\u001b[90m, \u001b[39m0\u001b[90m, \u001b[39m0\u001b[90m, \u001b[39m0\u001b[90m, \u001b[39m0\u001b[90m, \u001b[39m0\u001b[90m, \u001b[39m0\u001b[90m, \u001b[39m0\u001b[90m, \u001b[39m…\n",
      "$ V1028157     \u001b[3m\u001b[90m<dbl>\u001b[39m\u001b[23m 0\u001b[90m, \u001b[39m0\u001b[90m, \u001b[39m0\u001b[90m, \u001b[39m0\u001b[90m, \u001b[39m0\u001b[90m, \u001b[39m0\u001b[90m, \u001b[39m0\u001b[90m, \u001b[39m0\u001b[90m, \u001b[39m0\u001b[90m, \u001b[39m0\u001b[90m, \u001b[39m0\u001b[90m, \u001b[39m0\u001b[90m, \u001b[39m0\u001b[90m, \u001b[39m0\u001b[90m, \u001b[39m0\u001b[90m, \u001b[39m0\u001b[90m, \u001b[39m0\u001b[90m, \u001b[39m0\u001b[90m, \u001b[39m0\u001b[90m, \u001b[39m…\n",
      "$ V1028158     \u001b[3m\u001b[90m<dbl>\u001b[39m\u001b[23m 0\u001b[90m, \u001b[39m0\u001b[90m, \u001b[39m0\u001b[90m, \u001b[39m0\u001b[90m, \u001b[39m0\u001b[90m, \u001b[39m0\u001b[90m, \u001b[39m0\u001b[90m, \u001b[39m0\u001b[90m, \u001b[39m0\u001b[90m, \u001b[39m0\u001b[90m, \u001b[39m0\u001b[90m, \u001b[39m0\u001b[90m, \u001b[39m0\u001b[90m, \u001b[39m0\u001b[90m, \u001b[39m0\u001b[90m, \u001b[39m0\u001b[90m, \u001b[39m0\u001b[90m, \u001b[39m0\u001b[90m, \u001b[39m0\u001b[90m, \u001b[39m…\n",
      "$ V1028159     \u001b[3m\u001b[90m<dbl>\u001b[39m\u001b[23m 744.2012\u001b[90m, \u001b[39m744.2012\u001b[90m, \u001b[39m994.9918\u001b[90m, \u001b[39m994.9918\u001b[90m, \u001b[39m802.6239\u001b[90m, \u001b[39m802.623…\n",
      "$ V1028160     \u001b[3m\u001b[90m<dbl>\u001b[39m\u001b[23m 0\u001b[90m, \u001b[39m0\u001b[90m, \u001b[39m0\u001b[90m, \u001b[39m0\u001b[90m, \u001b[39m0\u001b[90m, \u001b[39m0\u001b[90m, \u001b[39m0\u001b[90m, \u001b[39m0\u001b[90m, \u001b[39m0\u001b[90m, \u001b[39m0\u001b[90m, \u001b[39m0\u001b[90m, \u001b[39m0\u001b[90m, \u001b[39m0\u001b[90m, \u001b[39m0\u001b[90m, \u001b[39m0\u001b[90m, \u001b[39m0\u001b[90m, \u001b[39m0\u001b[90m, \u001b[39m0\u001b[90m, \u001b[39m0\u001b[90m, \u001b[39m…\n",
      "$ V1028161     \u001b[3m\u001b[90m<dbl>\u001b[39m\u001b[23m 340.2525\u001b[90m, \u001b[39m340.2525\u001b[90m, \u001b[39m472.4996\u001b[90m, \u001b[39m472.4996\u001b[90m, \u001b[39m381.3252\u001b[90m, \u001b[39m381.325…\n",
      "$ V1028162     \u001b[3m\u001b[90m<dbl>\u001b[39m\u001b[23m 377.7123\u001b[90m, \u001b[39m377.7123\u001b[90m, \u001b[39m465.7626\u001b[90m, \u001b[39m465.7626\u001b[90m, \u001b[39m390.3910\u001b[90m, \u001b[39m390.391…\n",
      "$ V1028163     \u001b[3m\u001b[90m<dbl>\u001b[39m\u001b[23m 0\u001b[90m, \u001b[39m0\u001b[90m, \u001b[39m0\u001b[90m, \u001b[39m0\u001b[90m, \u001b[39m0\u001b[90m, \u001b[39m0\u001b[90m, \u001b[39m0\u001b[90m, \u001b[39m0\u001b[90m, \u001b[39m0\u001b[90m, \u001b[39m0\u001b[90m, \u001b[39m0\u001b[90m, \u001b[39m0\u001b[90m, \u001b[39m0\u001b[90m, \u001b[39m0\u001b[90m, \u001b[39m0\u001b[90m, \u001b[39m0\u001b[90m, \u001b[39m0\u001b[90m, \u001b[39m0\u001b[90m, \u001b[39m0\u001b[90m, \u001b[39m…\n",
      "$ V1028164     \u001b[3m\u001b[90m<dbl>\u001b[39m\u001b[23m 386.0863\u001b[90m, \u001b[39m386.0863\u001b[90m, \u001b[39m505.8408\u001b[90m, \u001b[39m505.8408\u001b[90m, \u001b[39m404.6634\u001b[90m, \u001b[39m404.663…\n",
      "$ V1028165     \u001b[3m\u001b[90m<dbl>\u001b[39m\u001b[23m 0\u001b[90m, \u001b[39m0\u001b[90m, \u001b[39m0\u001b[90m, \u001b[39m0\u001b[90m, \u001b[39m0\u001b[90m, \u001b[39m0\u001b[90m, \u001b[39m0\u001b[90m, \u001b[39m0\u001b[90m, \u001b[39m0\u001b[90m, \u001b[39m0\u001b[90m, \u001b[39m0\u001b[90m, \u001b[39m0\u001b[90m, \u001b[39m0\u001b[90m, \u001b[39m0\u001b[90m, \u001b[39m0\u001b[90m, \u001b[39m0\u001b[90m, \u001b[39m0\u001b[90m, \u001b[39m0\u001b[90m, \u001b[39m0\u001b[90m, \u001b[39m…\n",
      "$ V1028166     \u001b[3m\u001b[90m<dbl>\u001b[39m\u001b[23m 0\u001b[90m, \u001b[39m0\u001b[90m, \u001b[39m0\u001b[90m, \u001b[39m0\u001b[90m, \u001b[39m0\u001b[90m, \u001b[39m0\u001b[90m, \u001b[39m0\u001b[90m, \u001b[39m0\u001b[90m, \u001b[39m0\u001b[90m, \u001b[39m0\u001b[90m, \u001b[39m0\u001b[90m, \u001b[39m0\u001b[90m, \u001b[39m0\u001b[90m, \u001b[39m0\u001b[90m, \u001b[39m0\u001b[90m, \u001b[39m0\u001b[90m, \u001b[39m0\u001b[90m, \u001b[39m0\u001b[90m, \u001b[39m0\u001b[90m, \u001b[39m…\n",
      "$ V1028167     \u001b[3m\u001b[90m<dbl>\u001b[39m\u001b[23m 381.9335\u001b[90m, \u001b[39m381.9335\u001b[90m, \u001b[39m496.7334\u001b[90m, \u001b[39m496.7334\u001b[90m, \u001b[39m404.2761\u001b[90m, \u001b[39m404.276…\n",
      "$ V1028168     \u001b[3m\u001b[90m<dbl>\u001b[39m\u001b[23m 706.9301\u001b[90m, \u001b[39m706.9301\u001b[90m, \u001b[39m998.7704\u001b[90m, \u001b[39m998.7704\u001b[90m, \u001b[39m807.4269\u001b[90m, \u001b[39m807.426…\n",
      "$ V1028169     \u001b[3m\u001b[90m<dbl>\u001b[39m\u001b[23m 0\u001b[90m, \u001b[39m0\u001b[90m, \u001b[39m0\u001b[90m, \u001b[39m0\u001b[90m, \u001b[39m0\u001b[90m, \u001b[39m0\u001b[90m, \u001b[39m0\u001b[90m, \u001b[39m0\u001b[90m, \u001b[39m0\u001b[90m, \u001b[39m0\u001b[90m, \u001b[39m0\u001b[90m, \u001b[39m0\u001b[90m, \u001b[39m0\u001b[90m, \u001b[39m0\u001b[90m, \u001b[39m0\u001b[90m, \u001b[39m0\u001b[90m, \u001b[39m0\u001b[90m, \u001b[39m0\u001b[90m, \u001b[39m0\u001b[90m, \u001b[39m…\n",
      "$ V1028170     \u001b[3m\u001b[90m<dbl>\u001b[39m\u001b[23m 379.8758\u001b[90m, \u001b[39m379.8758\u001b[90m, \u001b[39m483.5532\u001b[90m, \u001b[39m483.5532\u001b[90m, \u001b[39m385.3433\u001b[90m, \u001b[39m385.343…\n",
      "$ V1028171     \u001b[3m\u001b[90m<dbl>\u001b[39m\u001b[23m 0\u001b[90m, \u001b[39m0\u001b[90m, \u001b[39m0\u001b[90m, \u001b[39m0\u001b[90m, \u001b[39m0\u001b[90m, \u001b[39m0\u001b[90m, \u001b[39m0\u001b[90m, \u001b[39m0\u001b[90m, \u001b[39m0\u001b[90m, \u001b[39m0\u001b[90m, \u001b[39m0\u001b[90m, \u001b[39m0\u001b[90m, \u001b[39m0\u001b[90m, \u001b[39m0\u001b[90m, \u001b[39m0\u001b[90m, \u001b[39m0\u001b[90m, \u001b[39m0\u001b[90m, \u001b[39m0\u001b[90m, \u001b[39m0\u001b[90m, \u001b[39m…\n",
      "$ V1028172     \u001b[3m\u001b[90m<dbl>\u001b[39m\u001b[23m 0\u001b[90m, \u001b[39m0\u001b[90m, \u001b[39m0\u001b[90m, \u001b[39m0\u001b[90m, \u001b[39m0\u001b[90m, \u001b[39m0\u001b[90m, \u001b[39m0\u001b[90m, \u001b[39m0\u001b[90m, \u001b[39m0\u001b[90m, \u001b[39m0\u001b[90m, \u001b[39m0\u001b[90m, \u001b[39m0\u001b[90m, \u001b[39m0\u001b[90m, \u001b[39m0\u001b[90m, \u001b[39m0\u001b[90m, \u001b[39m0\u001b[90m, \u001b[39m0\u001b[90m, \u001b[39m0\u001b[90m, \u001b[39m0\u001b[90m, \u001b[39m…\n",
      "$ V1028173     \u001b[3m\u001b[90m<dbl>\u001b[39m\u001b[23m 805.2624\u001b[90m, \u001b[39m805.2624\u001b[90m, \u001b[39m1010.9132\u001b[90m, \u001b[39m1010.9132\u001b[90m, \u001b[39m822.2092\u001b[90m, \u001b[39m822.2…\n",
      "$ V1028174     \u001b[3m\u001b[90m<dbl>\u001b[39m\u001b[23m 396.7466\u001b[90m, \u001b[39m396.7466\u001b[90m, \u001b[39m510.0175\u001b[90m, \u001b[39m510.0175\u001b[90m, \u001b[39m416.8926\u001b[90m, \u001b[39m416.892…\n",
      "$ V1028175     \u001b[3m\u001b[90m<dbl>\u001b[39m\u001b[23m 366.7695\u001b[90m, \u001b[39m366.7695\u001b[90m, \u001b[39m487.9344\u001b[90m, \u001b[39m487.9344\u001b[90m, \u001b[39m406.0704\u001b[90m, \u001b[39m406.070…\n",
      "$ V1028176     \u001b[3m\u001b[90m<dbl>\u001b[39m\u001b[23m 0\u001b[90m, \u001b[39m0\u001b[90m, \u001b[39m0\u001b[90m, \u001b[39m0\u001b[90m, \u001b[39m0\u001b[90m, \u001b[39m0\u001b[90m, \u001b[39m0\u001b[90m, \u001b[39m0\u001b[90m, \u001b[39m0\u001b[90m, \u001b[39m0\u001b[90m, \u001b[39m0\u001b[90m, \u001b[39m0\u001b[90m, \u001b[39m0\u001b[90m, \u001b[39m0\u001b[90m, \u001b[39m0\u001b[90m, \u001b[39m0\u001b[90m, \u001b[39m0\u001b[90m, \u001b[39m0\u001b[90m, \u001b[39m0\u001b[90m, \u001b[39m…\n",
      "$ V1028177     \u001b[3m\u001b[90m<dbl>\u001b[39m\u001b[23m 389.3525\u001b[90m, \u001b[39m389.3525\u001b[90m, \u001b[39m516.8952\u001b[90m, \u001b[39m516.8952\u001b[90m, \u001b[39m410.6925\u001b[90m, \u001b[39m410.692…\n",
      "$ V1028178     \u001b[3m\u001b[90m<dbl>\u001b[39m\u001b[23m 0\u001b[90m, \u001b[39m0\u001b[90m, \u001b[39m0\u001b[90m, \u001b[39m0\u001b[90m, \u001b[39m0\u001b[90m, \u001b[39m0\u001b[90m, \u001b[39m0\u001b[90m, \u001b[39m0\u001b[90m, \u001b[39m0\u001b[90m, \u001b[39m0\u001b[90m, \u001b[39m0\u001b[90m, \u001b[39m0\u001b[90m, \u001b[39m0\u001b[90m, \u001b[39m0\u001b[90m, \u001b[39m0\u001b[90m, \u001b[39m0\u001b[90m, \u001b[39m0\u001b[90m, \u001b[39m0\u001b[90m, \u001b[39m0\u001b[90m, \u001b[39m…\n",
      "$ V1028179     \u001b[3m\u001b[90m<dbl>\u001b[39m\u001b[23m 0\u001b[90m, \u001b[39m0\u001b[90m, \u001b[39m0\u001b[90m, \u001b[39m0\u001b[90m, \u001b[39m0\u001b[90m, \u001b[39m0\u001b[90m, \u001b[39m0\u001b[90m, \u001b[39m0\u001b[90m, \u001b[39m0\u001b[90m, \u001b[39m0\u001b[90m, \u001b[39m0\u001b[90m, \u001b[39m0\u001b[90m, \u001b[39m0\u001b[90m, \u001b[39m0\u001b[90m, \u001b[39m0\u001b[90m, \u001b[39m0\u001b[90m, \u001b[39m0\u001b[90m, \u001b[39m0\u001b[90m, \u001b[39m0\u001b[90m, \u001b[39m…\n",
      "$ V1028180     \u001b[3m\u001b[90m<dbl>\u001b[39m\u001b[23m 384.7698\u001b[90m, \u001b[39m384.7698\u001b[90m, \u001b[39m511.2883\u001b[90m, \u001b[39m511.2883\u001b[90m, \u001b[39m426.8414\u001b[90m, \u001b[39m426.841…\n",
      "$ V1028181     \u001b[3m\u001b[90m<dbl>\u001b[39m\u001b[23m 0\u001b[90m, \u001b[39m0\u001b[90m, \u001b[39m0\u001b[90m, \u001b[39m0\u001b[90m, \u001b[39m0\u001b[90m, \u001b[39m0\u001b[90m, \u001b[39m0\u001b[90m, \u001b[39m0\u001b[90m, \u001b[39m0\u001b[90m, \u001b[39m0\u001b[90m, \u001b[39m0\u001b[90m, \u001b[39m0\u001b[90m, \u001b[39m0\u001b[90m, \u001b[39m0\u001b[90m, \u001b[39m0\u001b[90m, \u001b[39m0\u001b[90m, \u001b[39m0\u001b[90m, \u001b[39m0\u001b[90m, \u001b[39m0\u001b[90m, \u001b[39m…\n",
      "$ V1028182     \u001b[3m\u001b[90m<dbl>\u001b[39m\u001b[23m 0\u001b[90m, \u001b[39m0\u001b[90m, \u001b[39m0\u001b[90m, \u001b[39m0\u001b[90m, \u001b[39m0\u001b[90m, \u001b[39m0\u001b[90m, \u001b[39m0\u001b[90m, \u001b[39m0\u001b[90m, \u001b[39m0\u001b[90m, \u001b[39m0\u001b[90m, \u001b[39m0\u001b[90m, \u001b[39m0\u001b[90m, \u001b[39m0\u001b[90m, \u001b[39m0\u001b[90m, \u001b[39m0\u001b[90m, \u001b[39m0\u001b[90m, \u001b[39m0\u001b[90m, \u001b[39m0\u001b[90m, \u001b[39m0\u001b[90m, \u001b[39m…\n",
      "$ V1028183     \u001b[3m\u001b[90m<dbl>\u001b[39m\u001b[23m 392.0669\u001b[90m, \u001b[39m392.0669\u001b[90m, \u001b[39m536.0414\u001b[90m, \u001b[39m536.0414\u001b[90m, \u001b[39m434.8349\u001b[90m, \u001b[39m434.834…\n",
      "$ V1028184     \u001b[3m\u001b[90m<dbl>\u001b[39m\u001b[23m 0\u001b[90m, \u001b[39m0\u001b[90m, \u001b[39m0\u001b[90m, \u001b[39m0\u001b[90m, \u001b[39m0\u001b[90m, \u001b[39m0\u001b[90m, \u001b[39m0\u001b[90m, \u001b[39m0\u001b[90m, \u001b[39m0\u001b[90m, \u001b[39m0\u001b[90m, \u001b[39m0\u001b[90m, \u001b[39m0\u001b[90m, \u001b[39m0\u001b[90m, \u001b[39m0\u001b[90m, \u001b[39m0\u001b[90m, \u001b[39m0\u001b[90m, \u001b[39m0\u001b[90m, \u001b[39m0\u001b[90m, \u001b[39m0\u001b[90m, \u001b[39m…\n",
      "$ V1028185     \u001b[3m\u001b[90m<dbl>\u001b[39m\u001b[23m 1109.2554\u001b[90m, \u001b[39m1109.2554\u001b[90m, \u001b[39m1488.8454\u001b[90m, \u001b[39m1488.8454\u001b[90m, \u001b[39m1190.3713\u001b[90m, \u001b[39m11…\n",
      "$ V1028186     \u001b[3m\u001b[90m<dbl>\u001b[39m\u001b[23m 357.6369\u001b[90m, \u001b[39m357.6369\u001b[90m, \u001b[39m460.1848\u001b[90m, \u001b[39m460.1848\u001b[90m, \u001b[39m377.3824\u001b[90m, \u001b[39m377.382…\n",
      "$ V1028187     \u001b[3m\u001b[90m<dbl>\u001b[39m\u001b[23m 1139.5702\u001b[90m, \u001b[39m1139.5702\u001b[90m, \u001b[39m1508.4469\u001b[90m, \u001b[39m1508.4469\u001b[90m, \u001b[39m1269.6043\u001b[90m, \u001b[39m12…\n",
      "$ V1028188     \u001b[3m\u001b[90m<dbl>\u001b[39m\u001b[23m 381.7844\u001b[90m, \u001b[39m381.7844\u001b[90m, \u001b[39m488.6016\u001b[90m, \u001b[39m488.6016\u001b[90m, \u001b[39m382.2992\u001b[90m, \u001b[39m382.299…\n",
      "$ V1028189     \u001b[3m\u001b[90m<dbl>\u001b[39m\u001b[23m 379.7071\u001b[90m, \u001b[39m379.7071\u001b[90m, \u001b[39m519.3203\u001b[90m, \u001b[39m519.3203\u001b[90m, \u001b[39m417.5013\u001b[90m, \u001b[39m417.501…\n",
      "$ V1028190     \u001b[3m\u001b[90m<dbl>\u001b[39m\u001b[23m 796.4080\u001b[90m, \u001b[39m796.4080\u001b[90m, \u001b[39m1033.5419\u001b[90m, \u001b[39m1033.5419\u001b[90m, \u001b[39m799.5799\u001b[90m, \u001b[39m799.5…\n",
      "$ V1028191     \u001b[3m\u001b[90m<dbl>\u001b[39m\u001b[23m 0\u001b[90m, \u001b[39m0\u001b[90m, \u001b[39m0\u001b[90m, \u001b[39m0\u001b[90m, \u001b[39m0\u001b[90m, \u001b[39m0\u001b[90m, \u001b[39m0\u001b[90m, \u001b[39m0\u001b[90m, \u001b[39m0\u001b[90m, \u001b[39m0\u001b[90m, \u001b[39m0\u001b[90m, \u001b[39m0\u001b[90m, \u001b[39m0\u001b[90m, \u001b[39m0\u001b[90m, \u001b[39m0\u001b[90m, \u001b[39m0\u001b[90m, \u001b[39m0\u001b[90m, \u001b[39m0\u001b[90m, \u001b[39m0\u001b[90m, \u001b[39m…\n",
      "$ V1028192     \u001b[3m\u001b[90m<dbl>\u001b[39m\u001b[23m 742.4079\u001b[90m, \u001b[39m742.4079\u001b[90m, \u001b[39m965.0990\u001b[90m, \u001b[39m965.0990\u001b[90m, \u001b[39m792.9073\u001b[90m, \u001b[39m792.907…\n",
      "$ V1028193     \u001b[3m\u001b[90m<dbl>\u001b[39m\u001b[23m 384.8783\u001b[90m, \u001b[39m384.8783\u001b[90m, \u001b[39m493.0151\u001b[90m, \u001b[39m493.0151\u001b[90m, \u001b[39m403.4524\u001b[90m, \u001b[39m403.452…\n",
      "$ V1028194     \u001b[3m\u001b[90m<dbl>\u001b[39m\u001b[23m 0\u001b[90m, \u001b[39m0\u001b[90m, \u001b[39m0\u001b[90m, \u001b[39m0\u001b[90m, \u001b[39m0\u001b[90m, \u001b[39m0\u001b[90m, \u001b[39m0\u001b[90m, \u001b[39m0\u001b[90m, \u001b[39m0\u001b[90m, \u001b[39m0\u001b[90m, \u001b[39m0\u001b[90m, \u001b[39m0\u001b[90m, \u001b[39m0\u001b[90m, \u001b[39m0\u001b[90m, \u001b[39m0\u001b[90m, \u001b[39m0\u001b[90m, \u001b[39m0\u001b[90m, \u001b[39m0\u001b[90m, \u001b[39m0\u001b[90m, \u001b[39m…\n",
      "$ V1028195     \u001b[3m\u001b[90m<dbl>\u001b[39m\u001b[23m 390.6354\u001b[90m, \u001b[39m390.6354\u001b[90m, \u001b[39m505.1547\u001b[90m, \u001b[39m505.1547\u001b[90m, \u001b[39m415.0512\u001b[90m, \u001b[39m415.051…\n",
      "$ V1028196     \u001b[3m\u001b[90m<dbl>\u001b[39m\u001b[23m 377.2645\u001b[90m, \u001b[39m377.2645\u001b[90m, \u001b[39m490.5963\u001b[90m, \u001b[39m490.5963\u001b[90m, \u001b[39m398.4425\u001b[90m, \u001b[39m398.442…\n",
      "$ V1028197     \u001b[3m\u001b[90m<dbl>\u001b[39m\u001b[23m 359.4869\u001b[90m, \u001b[39m359.4869\u001b[90m, \u001b[39m479.8729\u001b[90m, \u001b[39m479.8729\u001b[90m, \u001b[39m394.6447\u001b[90m, \u001b[39m394.644…\n",
      "$ V1028198     \u001b[3m\u001b[90m<dbl>\u001b[39m\u001b[23m 0\u001b[90m, \u001b[39m0\u001b[90m, \u001b[39m0\u001b[90m, \u001b[39m0\u001b[90m, \u001b[39m0\u001b[90m, \u001b[39m0\u001b[90m, \u001b[39m0\u001b[90m, \u001b[39m0\u001b[90m, \u001b[39m0\u001b[90m, \u001b[39m0\u001b[90m, \u001b[39m0\u001b[90m, \u001b[39m0\u001b[90m, \u001b[39m0\u001b[90m, \u001b[39m0\u001b[90m, \u001b[39m0\u001b[90m, \u001b[39m0\u001b[90m, \u001b[39m0\u001b[90m, \u001b[39m0\u001b[90m, \u001b[39m0\u001b[90m, \u001b[39m…\n",
      "$ V1028199     \u001b[3m\u001b[90m<dbl>\u001b[39m\u001b[23m 0\u001b[90m, \u001b[39m0\u001b[90m, \u001b[39m0\u001b[90m, \u001b[39m0\u001b[90m, \u001b[39m0\u001b[90m, \u001b[39m0\u001b[90m, \u001b[39m0\u001b[90m, \u001b[39m0\u001b[90m, \u001b[39m0\u001b[90m, \u001b[39m0\u001b[90m, \u001b[39m0\u001b[90m, \u001b[39m0\u001b[90m, \u001b[39m0\u001b[90m, \u001b[39m0\u001b[90m, \u001b[39m0\u001b[90m, \u001b[39m0\u001b[90m, \u001b[39m0\u001b[90m, \u001b[39m0\u001b[90m, \u001b[39m0\u001b[90m, \u001b[39m…\n",
      "$ V1028200     \u001b[3m\u001b[90m<dbl>\u001b[39m\u001b[23m 376.5369\u001b[90m, \u001b[39m376.5369\u001b[90m, \u001b[39m496.2119\u001b[90m, \u001b[39m496.2119\u001b[90m, \u001b[39m410.6409\u001b[90m, \u001b[39m410.640…\n",
      "$ ID_DOMICILIO \u001b[3m\u001b[90m<chr>\u001b[39m\u001b[23m \"2600034770111\"\u001b[90m, \u001b[39m\"2600034770111\"\u001b[90m, \u001b[39m\"2600034770211\"\u001b[90m, \u001b[39m\"26000…\n",
      "$ Habitual     \u001b[3m\u001b[90m<dbl>\u001b[39m\u001b[23m 1.029795\u001b[90m, \u001b[39m1.029795\u001b[90m, \u001b[39m1.029795\u001b[90m, \u001b[39m1.029795\u001b[90m, \u001b[39m1.029795\u001b[90m, \u001b[39m1.02979…\n",
      "$ Efetivo      \u001b[3m\u001b[90m<dbl>\u001b[39m\u001b[23m 1.03412\u001b[90m, \u001b[39m1.03412\u001b[90m, \u001b[39m1.03412\u001b[90m, \u001b[39m1.03412\u001b[90m, \u001b[39m1.03412\u001b[90m, \u001b[39m1.03412\u001b[90m, \u001b[39m1.0…\n",
      "$ periodo      \u001b[3m\u001b[90m<chr>\u001b[39m\u001b[23m \"2024 Q4\"\u001b[90m, \u001b[39m\"2024 Q4\"\u001b[90m, \u001b[39m\"2024 Q4\"\u001b[90m, \u001b[39m\"2024 Q4\"\u001b[90m, \u001b[39m\"2024 Q4\"\u001b[90m, \u001b[39m\"2…\n"
     ]
    },
    {
     "data": {
      "text/html": [
       "<table class=\"dataframe\">\n",
       "<caption>A tibble: 3 × 2</caption>\n",
       "<thead>\n",
       "\t<tr><th scope=col>periodo</th><th scope=col>n</th></tr>\n",
       "\t<tr><th scope=col>&lt;chr&gt;</th><th scope=col>&lt;int&gt;</th></tr>\n",
       "</thead>\n",
       "<tbody>\n",
       "\t<tr><td>2024 Q4</td><td>3094</td></tr>\n",
       "\t<tr><td>2025 Q1</td><td>3010</td></tr>\n",
       "\t<tr><td>2025 Q2</td><td>2927</td></tr>\n",
       "</tbody>\n",
       "</table>\n"
      ],
      "text/latex": [
       "A tibble: 3 × 2\n",
       "\\begin{tabular}{ll}\n",
       " periodo & n\\\\\n",
       " <chr> & <int>\\\\\n",
       "\\hline\n",
       "\t 2024 Q4 & 3094\\\\\n",
       "\t 2025 Q1 & 3010\\\\\n",
       "\t 2025 Q2 & 2927\\\\\n",
       "\\end{tabular}\n"
      ],
      "text/markdown": [
       "\n",
       "A tibble: 3 × 2\n",
       "\n",
       "| periodo &lt;chr&gt; | n &lt;int&gt; |\n",
       "|---|---|\n",
       "| 2024 Q4 | 3094 |\n",
       "| 2025 Q1 | 3010 |\n",
       "| 2025 Q2 | 2927 |\n",
       "\n"
      ],
      "text/plain": [
       "  periodo n   \n",
       "1 2024 Q4 3094\n",
       "2 2025 Q1 3010\n",
       "3 2025 Q2 2927"
      ]
     },
     "metadata": {},
     "output_type": "display_data"
    },
    {
     "data": {
      "text/html": [
       "<table class=\"dataframe\">\n",
       "<caption>A tibble: 3 × 6</caption>\n",
       "<thead>\n",
       "\t<tr><th scope=col>periodo</th><th scope=col>n</th><th scope=col>idade_media</th><th scope=col>prop_mulheres</th><th scope=col>prop_ocupados</th><th scope=col>renda_media</th></tr>\n",
       "\t<tr><th scope=col>&lt;chr&gt;</th><th scope=col>&lt;int&gt;</th><th scope=col>&lt;dbl&gt;</th><th scope=col>&lt;dbl&gt;</th><th scope=col>&lt;dbl&gt;</th><th scope=col>&lt;dbl&gt;</th></tr>\n",
       "</thead>\n",
       "<tbody>\n",
       "\t<tr><td>2024 Q4</td><td>3094</td><td>1.553975</td><td>0</td><td>0</td><td>37.24510</td></tr>\n",
       "\t<tr><td>2025 Q1</td><td>3010</td><td>1.554153</td><td>0</td><td>0</td><td>37.39100</td></tr>\n",
       "\t<tr><td>2025 Q2</td><td>2927</td><td>1.556543</td><td>0</td><td>0</td><td>38.65258</td></tr>\n",
       "</tbody>\n",
       "</table>\n"
      ],
      "text/latex": [
       "A tibble: 3 × 6\n",
       "\\begin{tabular}{llllll}\n",
       " periodo & n & idade\\_media & prop\\_mulheres & prop\\_ocupados & renda\\_media\\\\\n",
       " <chr> & <int> & <dbl> & <dbl> & <dbl> & <dbl>\\\\\n",
       "\\hline\n",
       "\t 2024 Q4 & 3094 & 1.553975 & 0 & 0 & 37.24510\\\\\n",
       "\t 2025 Q1 & 3010 & 1.554153 & 0 & 0 & 37.39100\\\\\n",
       "\t 2025 Q2 & 2927 & 1.556543 & 0 & 0 & 38.65258\\\\\n",
       "\\end{tabular}\n"
      ],
      "text/markdown": [
       "\n",
       "A tibble: 3 × 6\n",
       "\n",
       "| periodo &lt;chr&gt; | n &lt;int&gt; | idade_media &lt;dbl&gt; | prop_mulheres &lt;dbl&gt; | prop_ocupados &lt;dbl&gt; | renda_media &lt;dbl&gt; |\n",
       "|---|---|---|---|---|---|\n",
       "| 2024 Q4 | 3094 | 1.553975 | 0 | 0 | 37.24510 |\n",
       "| 2025 Q1 | 3010 | 1.554153 | 0 | 0 | 37.39100 |\n",
       "| 2025 Q2 | 2927 | 1.556543 | 0 | 0 | 38.65258 |\n",
       "\n"
      ],
      "text/plain": [
       "  periodo n    idade_media prop_mulheres prop_ocupados renda_media\n",
       "1 2024 Q4 3094 1.553975    0             0             37.24510   \n",
       "2 2025 Q1 3010 1.554153    0             0             37.39100   \n",
       "3 2025 Q2 2927 1.556543    0             0             38.65258   "
      ]
     },
     "metadata": {},
     "output_type": "display_data"
    }
   ],
   "source": [
    "# Ver estrutura\n",
    "glimpse(pnadc_recife)\n",
    "\n",
    "# Conferir contagem por período\n",
    "pnadc_recife %>%\n",
    "  count(periodo)\n",
    "\n",
    "# Resumo das variáveis principais\n",
    "pnadc_recife %>%\n",
    "  group_by(periodo) %>%\n",
    "  summarise(\n",
    "    n = n(),\n",
    "    idade_media = mean(as.numeric(V2007), na.rm = TRUE),\n",
    "    prop_mulheres = mean(V2009 == \"Mulher\", na.rm = TRUE),\n",
    "    prop_ocupados = mean(VD4001 == \"Ocupado\", na.rm = TRUE),\n",
    "    renda_media = mean(VD4035, na.rm = TRUE)\n",
    "  )"
   ]
  },
  {
   "cell_type": "markdown",
   "metadata": {
    "id": "HYqFo6hskXvA"
   },
   "source": [
    "##Pré-processamento dos dados\n",
    "\n",
    "Na etapa de pré-processamento, realizaremos transformações e ajustes necessários para garantir a consistência e qualidade do conjunto de dados. Serão aplicadas conversões de tipos de variáveis conforme sua natureza e tratados valores ausentes ou categorias inconsistentes. Também serão realizados filtros específicos para isolar a população jovem de Recife, assegurando que apenas registros relevantes sejam considerados nas análises subsequentes. Variáveis derivadas poderão ser calculadas quando necessário para enriquecer a análise e possibilitar cruzamentos mais significativos."
   ]
  },
  {
   "cell_type": "code",
   "execution_count": 15,
   "metadata": {
    "executionInfo": {
     "elapsed": 66,
     "status": "ok",
     "timestamp": 1756627955524,
     "user": {
      "displayName": "Giseli Vieira",
      "userId": "13265107955551841154"
     },
     "user_tz": 180
    },
    "id": "nL2hqthvmDWv",
    "vscode": {
     "languageId": "r"
    }
   },
   "outputs": [],
   "source": [
    "# # Variáveis relacionadas à investigação\n",
    "vars_interesse <- c(\n",
    "  \"UF\",        # Unidade federativa\n",
    "  \"Capital\",   # Município da capital\n",
    "  \"V2009\",     # Idade\n",
    "  \"V2007\",     # Sexo\n",
    "  \"V2010\",     # Cor/raça\n",
    "  \"VD3005\",    # Escolaridade\n",
    "  \"VD4001\",    # Condição de ocupação\n",
    "  \"VD4002\",    # Posição na ocupação\n",
    "  \"VD4020\",    # Rendimento mensal habitual\n",
    "  \"VD4035\"     # Rendimento mensal efetivo\n",
    ")"
   ]
  },
  {
   "cell_type": "code",
   "execution_count": 16,
   "metadata": {
    "executionInfo": {
     "elapsed": 55,
     "status": "ok",
     "timestamp": 1756627959371,
     "user": {
      "displayName": "Giseli Vieira",
      "userId": "13265107955551841154"
     },
     "user_tz": 180
    },
    "id": "7FKE_vwtW_DS",
    "vscode": {
     "languageId": "r"
    }
   },
   "outputs": [],
   "source": [
    "pnadc_recife <- pnadc_recife %>%\n",
    "  select(all_of(vars_interesse), periodo) %>%   # Seleciona apenas variáveis de interesse\n",
    "  mutate(\n",
    "    UF_pad = str_to_upper(str_trim(UF)),                    # Padronizar nome do estado\n",
    "    Capital_pad = str_to_title(str_extract(Capital, \"Recife\")) # Extrair \"Recife\" de \"Município de Recife (PE)\"\n",
    "  )"
   ]
  },
  {
   "cell_type": "markdown",
   "metadata": {
    "id": "aOL88s8HZFZb"
   },
   "source": [
    "Definir variáveis de interesse"
   ]
  },
  {
   "cell_type": "code",
   "execution_count": 17,
   "metadata": {
    "executionInfo": {
     "elapsed": 107,
     "status": "ok",
     "timestamp": 1756627965333,
     "user": {
      "displayName": "Giseli Vieira",
      "userId": "13265107955551841154"
     },
     "user_tz": 180
    },
    "id": "BV1XLa9gUpcU",
    "vscode": {
     "languageId": "r"
    }
   },
   "outputs": [],
   "source": [
    " #Variáveis de interesse\n",
    "vars_interesse <- c(\n",
    "  \"UF\", \"Capital\", \"V2009\", \"V2007\", \"V2010\",\n",
    "  \"VD3005\", \"VD4001\", \"VD4002\", \"VD4020\", \"VD4035\"\n",
    ")\n",
    "\n",
    "# Selecionar variáveis de interesse\n",
    "pnadc_recife <- pnadc_recife %>% select(all_of(vars_interesse), periodo)\n"
   ]
  },
  {
   "cell_type": "code",
   "execution_count": 18,
   "metadata": {
    "executionInfo": {
     "elapsed": 28,
     "status": "ok",
     "timestamp": 1756627967702,
     "user": {
      "displayName": "Giseli Vieira",
      "userId": "13265107955551841154"
     },
     "user_tz": 180
    },
    "id": "0jGEvBYTUsvV",
    "vscode": {
     "languageId": "r"
    }
   },
   "outputs": [],
   "source": [
    "#Conversão de tipos\n",
    "\n",
    "pnadc_recife <- pnadc_recife %>%\n",
    "  mutate(\n",
    "    V2009 = as.numeric(V2009),          # Idade\n",
    "    V2007 = factor(V2007, levels = c(\"Homem\", \"Mulher\")), # Sexo\n",
    "    V2010 = factor(V2010),              # Cor/raça\n",
    "    VD3005 = factor(VD3005, ordered = TRUE), # Escolaridade\n",
    "    VD4001 = factor(VD4001),            # Condição de ocupação\n",
    "    VD4002 = factor(VD4002),            # Posição na ocupação\n",
    "    VD4020 = as.numeric(VD4020),        # Rendimento mensal habitual\n",
    "    VD4035 = as.numeric(VD4035)         # Rendimento mensal efetivo\n",
    "  )"
   ]
  },
  {
   "cell_type": "markdown",
   "metadata": {
    "id": "Mt0Gv3hwZVqk"
   },
   "source": [
    "Selecionar e padronizar colunas"
   ]
  },
  {
   "cell_type": "code",
   "execution_count": 19,
   "metadata": {
    "executionInfo": {
     "elapsed": 37,
     "status": "ok",
     "timestamp": 1756627970142,
     "user": {
      "displayName": "Giseli Vieira",
      "userId": "13265107955551841154"
     },
     "user_tz": 180
    },
    "id": "S9MqGmjtZXSI",
    "vscode": {
     "languageId": "r"
    }
   },
   "outputs": [],
   "source": [
    "pnadc_recife <- pnadc_recife %>%\n",
    "  select(all_of(vars_interesse), periodo) %>%   # Seleciona apenas variáveis de interesse\n",
    "  mutate(\n",
    "    UF_pad = str_to_upper(str_trim(UF)),                    # Padronizar nome do estado\n",
    "    Capital_pad = str_to_title(str_extract(Capital, \"Recife\")) # Extrair \"Recife\" de \"Município de Recife (PE)\"\n",
    "  )"
   ]
  },
  {
   "cell_type": "markdown",
   "metadata": {
    "id": "voQaoAPMZbRn"
   },
   "source": [
    "Filtrar população jovem de Recife (15 a 29 anos)"
   ]
  },
  {
   "cell_type": "code",
   "execution_count": 20,
   "metadata": {
    "executionInfo": {
     "elapsed": 37,
     "status": "ok",
     "timestamp": 1756627972382,
     "user": {
      "displayName": "Giseli Vieira",
      "userId": "13265107955551841154"
     },
     "user_tz": 180
    },
    "id": "FYGwCN8lZeS5",
    "vscode": {
     "languageId": "r"
    }
   },
   "outputs": [],
   "source": [
    "pnadc_jovens_recife <- pnadc_recife %>%\n",
    "  filter(UF_pad == \"PERNAMBUCO\",\n",
    "         Capital_pad == \"Recife\",\n",
    "         V2009 >= 15 & V2009 <= 29)"
   ]
  },
  {
   "cell_type": "markdown",
   "metadata": {
    "id": "Qh0CUTrjZmCX"
   },
   "source": [
    "Conversão de tipos das variáveis"
   ]
  },
  {
   "cell_type": "code",
   "execution_count": 21,
   "metadata": {
    "executionInfo": {
     "elapsed": 29,
     "status": "ok",
     "timestamp": 1756627974636,
     "user": {
      "displayName": "Giseli Vieira",
      "userId": "13265107955551841154"
     },
     "user_tz": 180
    },
    "id": "C3Z-vxFFZq18",
    "vscode": {
     "languageId": "r"
    }
   },
   "outputs": [],
   "source": [
    "pnadc_jovens_recife <- pnadc_jovens_recife %>%\n",
    "  mutate(\n",
    "    V2007 = factor(V2007),       # Sexo\n",
    "    V2010 = factor(V2010),       # Cor/raça\n",
    "    VD3005 = ordered(VD3005),    # Escolaridade\n",
    "    VD4001 = factor(VD4001),     # Condição de ocupação\n",
    "    VD4002 = factor(VD4002)      # Posição na ocupação\n",
    "  )"
   ]
  },
  {
   "cell_type": "markdown",
   "metadata": {
    "id": "uW1QBuUhZuhF"
   },
   "source": [
    "Criar variáveis derivadas"
   ]
  },
  {
   "cell_type": "code",
   "execution_count": 22,
   "metadata": {
    "executionInfo": {
     "elapsed": 34,
     "status": "ok",
     "timestamp": 1756627976772,
     "user": {
      "displayName": "Giseli Vieira",
      "userId": "13265107955551841154"
     },
     "user_tz": 180
    },
    "id": "xHg-yqF1ZyIG",
    "vscode": {
     "languageId": "r"
    }
   },
   "outputs": [],
   "source": [
    "pnadc_jovens_recife <- pnadc_jovens_recife %>%\n",
    "  mutate(\n",
    "    faixa_idade = case_when(\n",
    "      V2009 >= 15 & V2009 <= 19 ~ \"15-19\",\n",
    "      V2009 >= 20 & V2009 <= 24 ~ \"20-24\",\n",
    "      V2009 >= 25 & V2009 <= 29 ~ \"25-29\"\n",
    "    ),\n",
    "    renda_total = coalesce(VD4035, VD4020)  # Renda efetiva ou habitual\n",
    "  )\n"
   ]
  },
  {
   "cell_type": "markdown",
   "metadata": {
    "id": "jljMNzlTaEmp"
   },
   "source": [
    "Verificação de qualidade do conjunto de dados"
   ]
  },
  {
   "cell_type": "code",
   "execution_count": 23,
   "metadata": {
    "colab": {
     "base_uri": "https://localhost:8080/",
     "height": 1000
    },
    "executionInfo": {
     "elapsed": 1163,
     "status": "ok",
     "timestamp": 1756627979926,
     "user": {
      "displayName": "Giseli Vieira",
      "userId": "13265107955551841154"
     },
     "user_tz": 180
    },
    "id": "u93eqt_LaAyR",
    "outputId": "512ae27a-4a25-4929-9148-ffc789930e99",
    "vscode": {
     "languageId": "r"
    }
   },
   "outputs": [
    {
     "data": {
      "text/html": [
       "<style>\n",
       ".dl-inline {width: auto; margin:0; padding: 0}\n",
       ".dl-inline>dt, .dl-inline>dd {float: none; width: auto; display: inline-block}\n",
       ".dl-inline>dt::after {content: \":\\0020\"; padding-right: .5ex}\n",
       ".dl-inline>dt:not(:first-of-type) {padding-left: .5ex}\n",
       "</style><dl class=dl-inline><dt>UF</dt><dd>0</dd><dt>Capital</dt><dd>0</dd><dt>V2009</dt><dd>0</dd><dt>V2007</dt><dd>0</dd><dt>V2010</dt><dd>0</dd><dt>VD3005</dt><dd>0</dd><dt>VD4001</dt><dd>0</dd><dt>VD4002</dt><dd>650</dd><dt>VD4020</dt><dd>870</dd><dt>VD4035</dt><dd>861</dd><dt>periodo</dt><dd>0</dd><dt>UF_pad</dt><dd>0</dd><dt>Capital_pad</dt><dd>0</dd><dt>faixa_idade</dt><dd>0</dd><dt>renda_total</dt><dd>861</dd></dl>\n"
      ],
      "text/latex": [
       "\\begin{description*}\n",
       "\\item[UF] 0\n",
       "\\item[Capital] 0\n",
       "\\item[V2009] 0\n",
       "\\item[V2007] 0\n",
       "\\item[V2010] 0\n",
       "\\item[VD3005] 0\n",
       "\\item[VD4001] 0\n",
       "\\item[VD4002] 650\n",
       "\\item[VD4020] 870\n",
       "\\item[VD4035] 861\n",
       "\\item[periodo] 0\n",
       "\\item[UF\\textbackslash{}\\_pad] 0\n",
       "\\item[Capital\\textbackslash{}\\_pad] 0\n",
       "\\item[faixa\\textbackslash{}\\_idade] 0\n",
       "\\item[renda\\textbackslash{}\\_total] 861\n",
       "\\end{description*}\n"
      ],
      "text/markdown": [
       "UF\n",
       ":   0Capital\n",
       ":   0V2009\n",
       ":   0V2007\n",
       ":   0V2010\n",
       ":   0VD3005\n",
       ":   0VD4001\n",
       ":   0VD4002\n",
       ":   650VD4020\n",
       ":   870VD4035\n",
       ":   861periodo\n",
       ":   0UF_pad\n",
       ":   0Capital_pad\n",
       ":   0faixa_idade\n",
       ":   0renda_total\n",
       ":   861\n",
       "\n"
      ],
      "text/plain": [
       "         UF     Capital       V2009       V2007       V2010      VD3005 \n",
       "          0           0           0           0           0           0 \n",
       "     VD4001      VD4002      VD4020      VD4035     periodo      UF_pad \n",
       "          0         650         870         861           0           0 \n",
       "Capital_pad faixa_idade renda_total \n",
       "          0           0         861 "
      ]
     },
     "metadata": {},
     "output_type": "display_data"
    },
    {
     "data": {
      "text/plain": [
       "     V2009           VD4020          VD4035        renda_total    \n",
       " Min.   :15.00   Min.   :    0   Min.   :  0.00   Min.   :  0.00  \n",
       " 1st Qu.:18.00   1st Qu.: 1000   1st Qu.: 30.00   1st Qu.: 30.00  \n",
       " Median :22.00   Median : 1518   Median : 40.00   Median : 40.00  \n",
       " Mean   :22.11   Mean   : 2902   Mean   : 37.56   Mean   : 37.56  \n",
       " 3rd Qu.:26.00   3rd Qu.: 2824   3rd Qu.: 45.00   3rd Qu.: 45.00  \n",
       " Max.   :29.00   Max.   :70000   Max.   :120.00   Max.   :120.00  \n",
       "                 NA's   :870     NA's   :861      NA's   :861     "
      ]
     },
     "metadata": {},
     "output_type": "display_data"
    },
    {
     "name": "stdout",
     "output_type": "stream",
     "text": [
      "\u001b[90m# A tibble: 6 × 3\u001b[39m\n",
      "  faixa_idade V2007      n\n",
      "  \u001b[3m\u001b[90m<chr>\u001b[39m\u001b[23m       \u001b[3m\u001b[90m<fct>\u001b[39m\u001b[23m  \u001b[3m\u001b[90m<int>\u001b[39m\u001b[23m\n",
      "\u001b[90m1\u001b[39m 15-19       Homem    258\n",
      "\u001b[90m2\u001b[39m 15-19       Mulher   297\n",
      "\u001b[90m3\u001b[39m 20-24       Homem    293\n",
      "\u001b[90m4\u001b[39m 20-24       Mulher   290\n",
      "\u001b[90m5\u001b[39m 25-29       Homem    266\n",
      "\u001b[90m6\u001b[39m 25-29       Mulher   341\n"
     ]
    },
    {
     "data": {
      "text/html": [
       "<dl>\n",
       "\t<dt>$V2007</dt>\n",
       "\t\t<dd><style>\n",
       ".list-inline {list-style: none; margin:0; padding: 0}\n",
       ".list-inline>li {display: inline-block}\n",
       ".list-inline>li:not(:last-child)::after {content: \"\\00b7\"; padding: 0 .5ex}\n",
       "</style>\n",
       "<ol class=list-inline><li>'Homem'</li><li>'Mulher'</li></ol>\n",
       "</dd>\n",
       "\t<dt>$V2010</dt>\n",
       "\t\t<dd><style>\n",
       ".list-inline {list-style: none; margin:0; padding: 0}\n",
       ".list-inline>li {display: inline-block}\n",
       ".list-inline>li:not(:last-child)::after {content: \"\\00b7\"; padding: 0 .5ex}\n",
       "</style>\n",
       "<ol class=list-inline><li>'Branca'</li><li>'Preta'</li><li>'Amarela'</li><li>'Parda'</li><li>'Indígena'</li></ol>\n",
       "</dd>\n",
       "\t<dt>$VD3005</dt>\n",
       "\t\t<dd><style>\n",
       ".list-inline {list-style: none; margin:0; padding: 0}\n",
       ".list-inline>li {display: inline-block}\n",
       ".list-inline>li:not(:last-child)::after {content: \"\\00b7\"; padding: 0 .5ex}\n",
       "</style>\n",
       "<ol class=list-inline><li>'Sem instrução e menos de 1 ano de estudo'</li><li>'1 ano de estudo'</li><li>'2 anos de estudo'</li><li>'3 anos de estudo'</li><li>'4 anos de estudo'</li><li>'5 anos de estudo'</li><li>'6 anos de estudo'</li><li>'7 anos de estudo'</li><li>'8 anos de estudo'</li><li>'9 anos de estudo'</li><li>'10 anos de estudo'</li><li>'11 anos de estudo'</li><li>'12 anos de estudo'</li><li>'13 anos de estudo'</li><li>'14 anos de estudo'</li><li>'15 anos de estudo'</li><li>'16 anos ou mais de estudo'</li></ol>\n",
       "</dd>\n",
       "\t<dt>$VD4001</dt>\n",
       "\t\t<dd><style>\n",
       ".list-inline {list-style: none; margin:0; padding: 0}\n",
       ".list-inline>li {display: inline-block}\n",
       ".list-inline>li:not(:last-child)::after {content: \"\\00b7\"; padding: 0 .5ex}\n",
       "</style>\n",
       "<ol class=list-inline><li>'Pessoas na força de trabalho'</li><li>'Pessoas fora da força de trabalho'</li></ol>\n",
       "</dd>\n",
       "\t<dt>$VD4002</dt>\n",
       "\t\t<dd><style>\n",
       ".list-inline {list-style: none; margin:0; padding: 0}\n",
       ".list-inline>li {display: inline-block}\n",
       ".list-inline>li:not(:last-child)::after {content: \"\\00b7\"; padding: 0 .5ex}\n",
       "</style>\n",
       "<ol class=list-inline><li>'Pessoas ocupadas'</li><li>'Pessoas desocupadas'</li></ol>\n",
       "</dd>\n",
       "</dl>\n"
      ],
      "text/latex": [
       "\\begin{description}\n",
       "\\item[\\$V2007] \\begin{enumerate*}\n",
       "\\item 'Homem'\n",
       "\\item 'Mulher'\n",
       "\\end{enumerate*}\n",
       "\n",
       "\\item[\\$V2010] \\begin{enumerate*}\n",
       "\\item 'Branca'\n",
       "\\item 'Preta'\n",
       "\\item 'Amarela'\n",
       "\\item 'Parda'\n",
       "\\item 'Indígena'\n",
       "\\end{enumerate*}\n",
       "\n",
       "\\item[\\$VD3005] \\begin{enumerate*}\n",
       "\\item 'Sem instrução e menos de 1 ano de estudo'\n",
       "\\item '1 ano de estudo'\n",
       "\\item '2 anos de estudo'\n",
       "\\item '3 anos de estudo'\n",
       "\\item '4 anos de estudo'\n",
       "\\item '5 anos de estudo'\n",
       "\\item '6 anos de estudo'\n",
       "\\item '7 anos de estudo'\n",
       "\\item '8 anos de estudo'\n",
       "\\item '9 anos de estudo'\n",
       "\\item '10 anos de estudo'\n",
       "\\item '11 anos de estudo'\n",
       "\\item '12 anos de estudo'\n",
       "\\item '13 anos de estudo'\n",
       "\\item '14 anos de estudo'\n",
       "\\item '15 anos de estudo'\n",
       "\\item '16 anos ou mais de estudo'\n",
       "\\end{enumerate*}\n",
       "\n",
       "\\item[\\$VD4001] \\begin{enumerate*}\n",
       "\\item 'Pessoas na força de trabalho'\n",
       "\\item 'Pessoas fora da força de trabalho'\n",
       "\\end{enumerate*}\n",
       "\n",
       "\\item[\\$VD4002] \\begin{enumerate*}\n",
       "\\item 'Pessoas ocupadas'\n",
       "\\item 'Pessoas desocupadas'\n",
       "\\end{enumerate*}\n",
       "\n",
       "\\end{description}\n"
      ],
      "text/markdown": [
       "$V2007\n",
       ":   1. 'Homem'\n",
       "2. 'Mulher'\n",
       "\n",
       "\n",
       "\n",
       "$V2010\n",
       ":   1. 'Branca'\n",
       "2. 'Preta'\n",
       "3. 'Amarela'\n",
       "4. 'Parda'\n",
       "5. 'Indígena'\n",
       "\n",
       "\n",
       "\n",
       "$VD3005\n",
       ":   1. 'Sem instrução e menos de 1 ano de estudo'\n",
       "2. '1 ano de estudo'\n",
       "3. '2 anos de estudo'\n",
       "4. '3 anos de estudo'\n",
       "5. '4 anos de estudo'\n",
       "6. '5 anos de estudo'\n",
       "7. '6 anos de estudo'\n",
       "8. '7 anos de estudo'\n",
       "9. '8 anos de estudo'\n",
       "10. '9 anos de estudo'\n",
       "11. '10 anos de estudo'\n",
       "12. '11 anos de estudo'\n",
       "13. '12 anos de estudo'\n",
       "14. '13 anos de estudo'\n",
       "15. '14 anos de estudo'\n",
       "16. '15 anos de estudo'\n",
       "17. '16 anos ou mais de estudo'\n",
       "\n",
       "\n",
       "\n",
       "$VD4001\n",
       ":   1. 'Pessoas na força de trabalho'\n",
       "2. 'Pessoas fora da força de trabalho'\n",
       "\n",
       "\n",
       "\n",
       "$VD4002\n",
       ":   1. 'Pessoas ocupadas'\n",
       "2. 'Pessoas desocupadas'\n",
       "\n",
       "\n",
       "\n",
       "\n",
       "\n"
      ],
      "text/plain": [
       "$V2007\n",
       "[1] \"Homem\"  \"Mulher\"\n",
       "\n",
       "$V2010\n",
       "[1] \"Branca\"   \"Preta\"    \"Amarela\"  \"Parda\"    \"Indígena\"\n",
       "\n",
       "$VD3005\n",
       " [1] \"Sem instrução e menos de 1 ano de estudo\"\n",
       " [2] \"1 ano de estudo\"                         \n",
       " [3] \"2 anos de estudo\"                        \n",
       " [4] \"3 anos de estudo\"                        \n",
       " [5] \"4 anos de estudo\"                        \n",
       " [6] \"5 anos de estudo\"                        \n",
       " [7] \"6 anos de estudo\"                        \n",
       " [8] \"7 anos de estudo\"                        \n",
       " [9] \"8 anos de estudo\"                        \n",
       "[10] \"9 anos de estudo\"                        \n",
       "[11] \"10 anos de estudo\"                       \n",
       "[12] \"11 anos de estudo\"                       \n",
       "[13] \"12 anos de estudo\"                       \n",
       "[14] \"13 anos de estudo\"                       \n",
       "[15] \"14 anos de estudo\"                       \n",
       "[16] \"15 anos de estudo\"                       \n",
       "[17] \"16 anos ou mais de estudo\"               \n",
       "\n",
       "$VD4001\n",
       "[1] \"Pessoas na força de trabalho\"      \"Pessoas fora da força de trabalho\"\n",
       "\n",
       "$VD4002\n",
       "[1] \"Pessoas ocupadas\"    \"Pessoas desocupadas\"\n"
      ]
     },
     "metadata": {},
     "output_type": "display_data"
    },
    {
     "name": "stderr",
     "output_type": "stream",
     "text": [
      "Warning message:\n",
      "“\u001b[1m\u001b[22mRemoved 861 rows containing non-finite outside the scale range\n",
      "(`stat_boxplot()`).”\n"
     ]
    },
    {
     "data": {
      "image/png": "[encoded data removed]",
      "text/plain": [
       "plot without title"
      ]
     },
     "metadata": {
      "image/png": {
       "height": 420,
       "width": 420
      }
     },
     "output_type": "display_data"
    }
   ],
   "source": [
    "# 1. Contagem de valores ausentes por variável\n",
    "missing_summary <- sapply(pnadc_jovens_recife, function(x) sum(is.na(x)))\n",
    "missing_summary\n",
    "\n",
    "# 2. Resumo estatístico das variáveis numéricas\n",
    "summary(select(pnadc_jovens_recife, V2009, VD4020, VD4035, renda_total))\n",
    "\n",
    "# 3. Distribuição por faixa etária e sexo\n",
    "pnadc_jovens_recife %>%\n",
    "  count(faixa_idade, V2007) %>%\n",
    "  print()\n",
    "\n",
    "# 4. Verificar categorias inconsistentes ou inesperadas\n",
    "lapply(select(pnadc_jovens_recife, V2007, V2010, VD3005, VD4001, VD4002), levels)\n",
    "\n",
    "# 5. Visualização rápida: distribuição de renda por faixa etária\n",
    "ggplot(pnadc_jovens_recife, aes(x = faixa_idade, y = renda_total)) +\n",
    "  geom_boxplot(fill = \"lightblue\") +\n",
    "  labs(title = \"Distribuição de Renda por Faixa Etária\", y = \"Renda Total\", x = \"Faixa Etária\") +\n",
    "  theme_minimal()"
   ]
  },
  {
   "cell_type": "markdown",
   "metadata": {
    "id": "2Ej5-utD2l4n"
   },
   "source": [
    "##Análises Descritivas e Cruzamentos\n",
    "A análise descritiva tem como objetivo explorar o perfil da população jovem de Recife, identificando padrões nas dimensões social, econômica e educacional. Serão geradas tabelas de frequência para variáveis categóricas, bem como medidas de tendência central e dispersão para variáveis numéricas.\n",
    "\n",
    "Cruzamentos relevantes incluirão, por exemplo:\n",
    "\n",
    "Escolaridade × Situação no mercado de trabalho\n",
    "\n",
    "Sexo × Participação em programas de capacitação\n",
    "\n",
    "Faixa etária × Renda ou acesso a cursos\n",
    "\n",
    "Esses cruzamentos permitirão identificar desigualdades e oportunidades de intervenção, fornecendo subsídios sólidos para o desenho de políticas públicas direcionadas à população jovem."
   ]
  },
  {
   "cell_type": "markdown",
   "metadata": {
    "id": "cenBHjXta1tw"
   },
   "source": [
    "Estatísticas descritivas básicas"
   ]
  },
  {
   "cell_type": "code",
   "execution_count": 24,
   "metadata": {
    "colab": {
     "base_uri": "https://localhost:8080/",
     "height": 129
    },
    "executionInfo": {
     "elapsed": 43,
     "status": "ok",
     "timestamp": 1756627988048,
     "user": {
      "displayName": "Giseli Vieira",
      "userId": "13265107955551841154"
     },
     "user_tz": 180
    },
    "id": "P5Dw4s9ga09R",
    "outputId": "79a2844b-a1e6-446d-d16e-54f7d0caa6cf",
    "vscode": {
     "languageId": "r"
    }
   },
   "outputs": [
    {
     "data": {
      "text/html": [
       "<table class=\"dataframe\">\n",
       "<caption>A tibble: 1 × 7</caption>\n",
       "<thead>\n",
       "\t<tr><th scope=col>n</th><th scope=col>idade_media</th><th scope=col>idade_min</th><th scope=col>idade_max</th><th scope=col>renda_habitual_media</th><th scope=col>renda_efetiva_media</th><th scope=col>renda_total_media</th></tr>\n",
       "\t<tr><th scope=col>&lt;int&gt;</th><th scope=col>&lt;dbl&gt;</th><th scope=col>&lt;dbl&gt;</th><th scope=col>&lt;dbl&gt;</th><th scope=col>&lt;dbl&gt;</th><th scope=col>&lt;dbl&gt;</th><th scope=col>&lt;dbl&gt;</th></tr>\n",
       "</thead>\n",
       "<tbody>\n",
       "\t<tr><td>1745</td><td>22.11347</td><td>15</td><td>29</td><td>2901.831</td><td>37.56448</td><td>37.56448</td></tr>\n",
       "</tbody>\n",
       "</table>\n"
      ],
      "text/latex": [
       "A tibble: 1 × 7\n",
       "\\begin{tabular}{lllllll}\n",
       " n & idade\\_media & idade\\_min & idade\\_max & renda\\_habitual\\_media & renda\\_efetiva\\_media & renda\\_total\\_media\\\\\n",
       " <int> & <dbl> & <dbl> & <dbl> & <dbl> & <dbl> & <dbl>\\\\\n",
       "\\hline\n",
       "\t 1745 & 22.11347 & 15 & 29 & 2901.831 & 37.56448 & 37.56448\\\\\n",
       "\\end{tabular}\n"
      ],
      "text/markdown": [
       "\n",
       "A tibble: 1 × 7\n",
       "\n",
       "| n &lt;int&gt; | idade_media &lt;dbl&gt; | idade_min &lt;dbl&gt; | idade_max &lt;dbl&gt; | renda_habitual_media &lt;dbl&gt; | renda_efetiva_media &lt;dbl&gt; | renda_total_media &lt;dbl&gt; |\n",
       "|---|---|---|---|---|---|---|\n",
       "| 1745 | 22.11347 | 15 | 29 | 2901.831 | 37.56448 | 37.56448 |\n",
       "\n"
      ],
      "text/plain": [
       "  n    idade_media idade_min idade_max renda_habitual_media renda_efetiva_media\n",
       "1 1745 22.11347    15        29        2901.831             37.56448           \n",
       "  renda_total_media\n",
       "1 37.56448         "
      ]
     },
     "metadata": {},
     "output_type": "display_data"
    }
   ],
   "source": [
    "# Variáveis numéricas: idade e rendas\n",
    "pnadc_jovens_recife %>%\n",
    "  summarise(\n",
    "    n = n(),\n",
    "    idade_media = mean(V2009, na.rm = TRUE),\n",
    "    idade_min = min(V2009, na.rm = TRUE),\n",
    "    idade_max = max(V2009, na.rm = TRUE),\n",
    "    renda_habitual_media = mean(VD4020, na.rm = TRUE),\n",
    "    renda_efetiva_media = mean(VD4035, na.rm = TRUE),\n",
    "    renda_total_media = mean(renda_total, na.rm = TRUE)\n",
    "  )"
   ]
  },
  {
   "cell_type": "markdown",
   "metadata": {
    "id": "eTpdSk7na7M1"
   },
   "source": [
    "Tabelas de frequência para variáveis categóricas"
   ]
  },
  {
   "cell_type": "code",
   "execution_count": null,
   "metadata": {
    "colab": {
     "base_uri": "https://localhost:8080/",
     "height": 1000
    },
    "executionInfo": {
     "elapsed": 191,
     "status": "ok",
     "timestamp": 1756598382572,
     "user": {
      "displayName": "Giseli Vieira",
      "userId": "13265107955551841154"
     },
     "user_tz": 180
    },
    "id": "fnU3Q1Ita_Yz",
    "outputId": "8c6e2277-4736-4a57-8bb8-64ca142f15b2",
    "vscode": {
     "languageId": "r"
    }
   },
   "outputs": [
    {
     "data": {
      "text/html": [
       "<table class=\"dataframe\">\n",
       "<caption>A tibble: 2 × 2</caption>\n",
       "<thead>\n",
       "\t<tr><th scope=col>V2007</th><th scope=col>n</th></tr>\n",
       "\t<tr><th scope=col>&lt;fct&gt;</th><th scope=col>&lt;int&gt;</th></tr>\n",
       "</thead>\n",
       "<tbody>\n",
       "\t<tr><td>Homem </td><td>817</td></tr>\n",
       "\t<tr><td>Mulher</td><td>928</td></tr>\n",
       "</tbody>\n",
       "</table>\n"
      ],
      "text/latex": [
       "A tibble: 2 × 2\n",
       "\\begin{tabular}{ll}\n",
       " V2007 & n\\\\\n",
       " <fct> & <int>\\\\\n",
       "\\hline\n",
       "\t Homem  & 817\\\\\n",
       "\t Mulher & 928\\\\\n",
       "\\end{tabular}\n"
      ],
      "text/markdown": [
       "\n",
       "A tibble: 2 × 2\n",
       "\n",
       "| V2007 &lt;fct&gt; | n &lt;int&gt; |\n",
       "|---|---|\n",
       "| Homem  | 817 |\n",
       "| Mulher | 928 |\n",
       "\n"
      ],
      "text/plain": [
       "  V2007  n  \n",
       "1 Homem  817\n",
       "2 Mulher 928"
      ]
     },
     "metadata": {},
     "output_type": "display_data"
    },
    {
     "data": {
      "text/html": [
       "<table class=\"dataframe\">\n",
       "<caption>A tibble: 5 × 2</caption>\n",
       "<thead>\n",
       "\t<tr><th scope=col>V2010</th><th scope=col>n</th></tr>\n",
       "\t<tr><th scope=col>&lt;fct&gt;</th><th scope=col>&lt;int&gt;</th></tr>\n",
       "</thead>\n",
       "<tbody>\n",
       "\t<tr><td>Branca  </td><td>679</td></tr>\n",
       "\t<tr><td>Preta   </td><td>244</td></tr>\n",
       "\t<tr><td>Amarela </td><td>  4</td></tr>\n",
       "\t<tr><td>Parda   </td><td>816</td></tr>\n",
       "\t<tr><td>Indígena</td><td>  2</td></tr>\n",
       "</tbody>\n",
       "</table>\n"
      ],
      "text/latex": [
       "A tibble: 5 × 2\n",
       "\\begin{tabular}{ll}\n",
       " V2010 & n\\\\\n",
       " <fct> & <int>\\\\\n",
       "\\hline\n",
       "\t Branca   & 679\\\\\n",
       "\t Preta    & 244\\\\\n",
       "\t Amarela  &   4\\\\\n",
       "\t Parda    & 816\\\\\n",
       "\t Indígena &   2\\\\\n",
       "\\end{tabular}\n"
      ],
      "text/markdown": [
       "\n",
       "A tibble: 5 × 2\n",
       "\n",
       "| V2010 &lt;fct&gt; | n &lt;int&gt; |\n",
       "|---|---|\n",
       "| Branca   | 679 |\n",
       "| Preta    | 244 |\n",
       "| Amarela  |   4 |\n",
       "| Parda    | 816 |\n",
       "| Indígena |   2 |\n",
       "\n"
      ],
      "text/plain": [
       "  V2010    n  \n",
       "1 Branca   679\n",
       "2 Preta    244\n",
       "3 Amarela    4\n",
       "4 Parda    816\n",
       "5 Indígena   2"
      ]
     },
     "metadata": {},
     "output_type": "display_data"
    },
    {
     "data": {
      "text/html": [
       "<table class=\"dataframe\">\n",
       "<caption>A tibble: 17 × 2</caption>\n",
       "<thead>\n",
       "\t<tr><th scope=col>VD3005</th><th scope=col>n</th></tr>\n",
       "\t<tr><th scope=col>&lt;ord&gt;</th><th scope=col>&lt;int&gt;</th></tr>\n",
       "</thead>\n",
       "<tbody>\n",
       "\t<tr><td>Sem instrução e menos de 1 ano de estudo</td><td>  7</td></tr>\n",
       "\t<tr><td>1 ano de estudo                         </td><td>  7</td></tr>\n",
       "\t<tr><td>2 anos de estudo                        </td><td>  1</td></tr>\n",
       "\t<tr><td>3 anos de estudo                        </td><td>  5</td></tr>\n",
       "\t<tr><td>4 anos de estudo                        </td><td>  1</td></tr>\n",
       "\t<tr><td>5 anos de estudo                        </td><td> 18</td></tr>\n",
       "\t<tr><td>6 anos de estudo                        </td><td> 16</td></tr>\n",
       "\t<tr><td>7 anos de estudo                        </td><td> 25</td></tr>\n",
       "\t<tr><td>8 anos de estudo                        </td><td> 59</td></tr>\n",
       "\t<tr><td>9 anos de estudo                        </td><td>140</td></tr>\n",
       "\t<tr><td>10 anos de estudo                       </td><td>126</td></tr>\n",
       "\t<tr><td>11 anos de estudo                       </td><td>144</td></tr>\n",
       "\t<tr><td>12 anos de estudo                       </td><td>607</td></tr>\n",
       "\t<tr><td>13 anos de estudo                       </td><td>125</td></tr>\n",
       "\t<tr><td>14 anos de estudo                       </td><td> 72</td></tr>\n",
       "\t<tr><td>15 anos de estudo                       </td><td> 81</td></tr>\n",
       "\t<tr><td>16 anos ou mais de estudo               </td><td>311</td></tr>\n",
       "</tbody>\n",
       "</table>\n"
      ],
      "text/latex": [
       "A tibble: 17 × 2\n",
       "\\begin{tabular}{ll}\n",
       " VD3005 & n\\\\\n",
       " <ord> & <int>\\\\\n",
       "\\hline\n",
       "\t Sem instrução e menos de 1 ano de estudo &   7\\\\\n",
       "\t 1 ano de estudo                          &   7\\\\\n",
       "\t 2 anos de estudo                         &   1\\\\\n",
       "\t 3 anos de estudo                         &   5\\\\\n",
       "\t 4 anos de estudo                         &   1\\\\\n",
       "\t 5 anos de estudo                         &  18\\\\\n",
       "\t 6 anos de estudo                         &  16\\\\\n",
       "\t 7 anos de estudo                         &  25\\\\\n",
       "\t 8 anos de estudo                         &  59\\\\\n",
       "\t 9 anos de estudo                         & 140\\\\\n",
       "\t 10 anos de estudo                        & 126\\\\\n",
       "\t 11 anos de estudo                        & 144\\\\\n",
       "\t 12 anos de estudo                        & 607\\\\\n",
       "\t 13 anos de estudo                        & 125\\\\\n",
       "\t 14 anos de estudo                        &  72\\\\\n",
       "\t 15 anos de estudo                        &  81\\\\\n",
       "\t 16 anos ou mais de estudo                & 311\\\\\n",
       "\\end{tabular}\n"
      ],
      "text/markdown": [
       "\n",
       "A tibble: 17 × 2\n",
       "\n",
       "| VD3005 &lt;ord&gt; | n &lt;int&gt; |\n",
       "|---|---|\n",
       "| Sem instrução e menos de 1 ano de estudo |   7 |\n",
       "| 1 ano de estudo                          |   7 |\n",
       "| 2 anos de estudo                         |   1 |\n",
       "| 3 anos de estudo                         |   5 |\n",
       "| 4 anos de estudo                         |   1 |\n",
       "| 5 anos de estudo                         |  18 |\n",
       "| 6 anos de estudo                         |  16 |\n",
       "| 7 anos de estudo                         |  25 |\n",
       "| 8 anos de estudo                         |  59 |\n",
       "| 9 anos de estudo                         | 140 |\n",
       "| 10 anos de estudo                        | 126 |\n",
       "| 11 anos de estudo                        | 144 |\n",
       "| 12 anos de estudo                        | 607 |\n",
       "| 13 anos de estudo                        | 125 |\n",
       "| 14 anos de estudo                        |  72 |\n",
       "| 15 anos de estudo                        |  81 |\n",
       "| 16 anos ou mais de estudo                | 311 |\n",
       "\n"
      ],
      "text/plain": [
       "   VD3005                                   n  \n",
       "1  Sem instrução e menos de 1 ano de estudo   7\n",
       "2  1 ano de estudo                            7\n",
       "3  2 anos de estudo                           1\n",
       "4  3 anos de estudo                           5\n",
       "5  4 anos de estudo                           1\n",
       "6  5 anos de estudo                          18\n",
       "7  6 anos de estudo                          16\n",
       "8  7 anos de estudo                          25\n",
       "9  8 anos de estudo                          59\n",
       "10 9 anos de estudo                         140\n",
       "11 10 anos de estudo                        126\n",
       "12 11 anos de estudo                        144\n",
       "13 12 anos de estudo                        607\n",
       "14 13 anos de estudo                        125\n",
       "15 14 anos de estudo                         72\n",
       "16 15 anos de estudo                         81\n",
       "17 16 anos ou mais de estudo                311"
      ]
     },
     "metadata": {},
     "output_type": "display_data"
    },
    {
     "data": {
      "text/html": [
       "<table class=\"dataframe\">\n",
       "<caption>A tibble: 2 × 2</caption>\n",
       "<thead>\n",
       "\t<tr><th scope=col>VD4001</th><th scope=col>n</th></tr>\n",
       "\t<tr><th scope=col>&lt;fct&gt;</th><th scope=col>&lt;int&gt;</th></tr>\n",
       "</thead>\n",
       "<tbody>\n",
       "\t<tr><td>Pessoas na força de trabalho     </td><td>1095</td></tr>\n",
       "\t<tr><td>Pessoas fora da força de trabalho</td><td> 650</td></tr>\n",
       "</tbody>\n",
       "</table>\n"
      ],
      "text/latex": [
       "A tibble: 2 × 2\n",
       "\\begin{tabular}{ll}\n",
       " VD4001 & n\\\\\n",
       " <fct> & <int>\\\\\n",
       "\\hline\n",
       "\t Pessoas na força de trabalho      & 1095\\\\\n",
       "\t Pessoas fora da força de trabalho &  650\\\\\n",
       "\\end{tabular}\n"
      ],
      "text/markdown": [
       "\n",
       "A tibble: 2 × 2\n",
       "\n",
       "| VD4001 &lt;fct&gt; | n &lt;int&gt; |\n",
       "|---|---|\n",
       "| Pessoas na força de trabalho      | 1095 |\n",
       "| Pessoas fora da força de trabalho |  650 |\n",
       "\n"
      ],
      "text/plain": [
       "  VD4001                            n   \n",
       "1 Pessoas na força de trabalho      1095\n",
       "2 Pessoas fora da força de trabalho  650"
      ]
     },
     "metadata": {},
     "output_type": "display_data"
    },
    {
     "data": {
      "text/html": [
       "<table class=\"dataframe\">\n",
       "<caption>A tibble: 3 × 2</caption>\n",
       "<thead>\n",
       "\t<tr><th scope=col>VD4002</th><th scope=col>n</th></tr>\n",
       "\t<tr><th scope=col>&lt;fct&gt;</th><th scope=col>&lt;int&gt;</th></tr>\n",
       "</thead>\n",
       "<tbody>\n",
       "\t<tr><td>Pessoas ocupadas   </td><td>884</td></tr>\n",
       "\t<tr><td>Pessoas desocupadas</td><td>211</td></tr>\n",
       "\t<tr><td>NA                 </td><td>650</td></tr>\n",
       "</tbody>\n",
       "</table>\n"
      ],
      "text/latex": [
       "A tibble: 3 × 2\n",
       "\\begin{tabular}{ll}\n",
       " VD4002 & n\\\\\n",
       " <fct> & <int>\\\\\n",
       "\\hline\n",
       "\t Pessoas ocupadas    & 884\\\\\n",
       "\t Pessoas desocupadas & 211\\\\\n",
       "\t NA                  & 650\\\\\n",
       "\\end{tabular}\n"
      ],
      "text/markdown": [
       "\n",
       "A tibble: 3 × 2\n",
       "\n",
       "| VD4002 &lt;fct&gt; | n &lt;int&gt; |\n",
       "|---|---|\n",
       "| Pessoas ocupadas    | 884 |\n",
       "| Pessoas desocupadas | 211 |\n",
       "| NA                  | 650 |\n",
       "\n"
      ],
      "text/plain": [
       "  VD4002              n  \n",
       "1 Pessoas ocupadas    884\n",
       "2 Pessoas desocupadas 211\n",
       "3 NA                  650"
      ]
     },
     "metadata": {},
     "output_type": "display_data"
    }
   ],
   "source": [
    "# Sexo\n",
    "pnadc_jovens_recife %>% count(V2007)\n",
    "\n",
    "# Cor / raça\n",
    "pnadc_jovens_recife %>% count(V2010)\n",
    "\n",
    "# Escolaridade\n",
    "pnadc_jovens_recife %>% count(VD3005)\n",
    "\n",
    "# Situação no mercado de trabalho\n",
    "pnadc_jovens_recife %>% count(VD4001)\n",
    "\n",
    "# Posição na ocupação\n",
    "pnadc_jovens_recife %>% count(VD4002)\n"
   ]
  },
  {
   "cell_type": "markdown",
   "metadata": {
    "id": "1KUzfIrubH0_"
   },
   "source": [
    "Cruzamentos relevantes"
   ]
  },
  {
   "cell_type": "code",
   "execution_count": 25,
   "metadata": {
    "colab": {
     "base_uri": "https://localhost:8080/",
     "height": 1000
    },
    "executionInfo": {
     "elapsed": 247,
     "status": "ok",
     "timestamp": 1756627995535,
     "user": {
      "displayName": "Giseli Vieira",
      "userId": "13265107955551841154"
     },
     "user_tz": 180
    },
    "id": "ru_2zs1-bIp5",
    "outputId": "9ae2c0dd-028f-444b-c2eb-93637dbaaf07",
    "vscode": {
     "languageId": "r"
    }
   },
   "outputs": [
    {
     "name": "stderr",
     "output_type": "stream",
     "text": [
      "\u001b[1m\u001b[22m`summarise()` has grouped output by 'VD3005'. You can override using the\n",
      "`.groups` argument.\n"
     ]
    },
    {
     "data": {
      "text/html": [
       "<table class=\"dataframe\">\n",
       "<caption>A grouped_df: 32 × 4</caption>\n",
       "<thead>\n",
       "\t<tr><th scope=col>VD3005</th><th scope=col>VD4001</th><th scope=col>n</th><th scope=col>prop</th></tr>\n",
       "\t<tr><th scope=col>&lt;ord&gt;</th><th scope=col>&lt;fct&gt;</th><th scope=col>&lt;int&gt;</th><th scope=col>&lt;dbl&gt;</th></tr>\n",
       "</thead>\n",
       "<tbody>\n",
       "\t<tr><td>Sem instrução e menos de 1 ano de estudo</td><td>Pessoas na força de trabalho     </td><td>  1</td><td>0.1428571</td></tr>\n",
       "\t<tr><td>Sem instrução e menos de 1 ano de estudo</td><td>Pessoas fora da força de trabalho</td><td>  6</td><td>0.8571429</td></tr>\n",
       "\t<tr><td>1 ano de estudo                         </td><td>Pessoas na força de trabalho     </td><td>  5</td><td>0.7142857</td></tr>\n",
       "\t<tr><td>1 ano de estudo                         </td><td>Pessoas fora da força de trabalho</td><td>  2</td><td>0.2857143</td></tr>\n",
       "\t<tr><td>2 anos de estudo                        </td><td>Pessoas fora da força de trabalho</td><td>  1</td><td>1.0000000</td></tr>\n",
       "\t<tr><td>3 anos de estudo                        </td><td>Pessoas na força de trabalho     </td><td>  3</td><td>0.6000000</td></tr>\n",
       "\t<tr><td>3 anos de estudo                        </td><td>Pessoas fora da força de trabalho</td><td>  2</td><td>0.4000000</td></tr>\n",
       "\t<tr><td>4 anos de estudo                        </td><td>Pessoas fora da força de trabalho</td><td>  1</td><td>1.0000000</td></tr>\n",
       "\t<tr><td>5 anos de estudo                        </td><td>Pessoas na força de trabalho     </td><td>  8</td><td>0.4444444</td></tr>\n",
       "\t<tr><td>5 anos de estudo                        </td><td>Pessoas fora da força de trabalho</td><td> 10</td><td>0.5555556</td></tr>\n",
       "\t<tr><td>6 anos de estudo                        </td><td>Pessoas na força de trabalho     </td><td> 10</td><td>0.6250000</td></tr>\n",
       "\t<tr><td>6 anos de estudo                        </td><td>Pessoas fora da força de trabalho</td><td>  6</td><td>0.3750000</td></tr>\n",
       "\t<tr><td>7 anos de estudo                        </td><td>Pessoas na força de trabalho     </td><td>  9</td><td>0.3600000</td></tr>\n",
       "\t<tr><td>7 anos de estudo                        </td><td>Pessoas fora da força de trabalho</td><td> 16</td><td>0.6400000</td></tr>\n",
       "\t<tr><td>8 anos de estudo                        </td><td>Pessoas na força de trabalho     </td><td> 24</td><td>0.4067797</td></tr>\n",
       "\t<tr><td>8 anos de estudo                        </td><td>Pessoas fora da força de trabalho</td><td> 35</td><td>0.5932203</td></tr>\n",
       "\t<tr><td>9 anos de estudo                        </td><td>Pessoas na força de trabalho     </td><td> 44</td><td>0.3142857</td></tr>\n",
       "\t<tr><td>9 anos de estudo                        </td><td>Pessoas fora da força de trabalho</td><td> 96</td><td>0.6857143</td></tr>\n",
       "\t<tr><td>10 anos de estudo                       </td><td>Pessoas na força de trabalho     </td><td> 39</td><td>0.3095238</td></tr>\n",
       "\t<tr><td>10 anos de estudo                       </td><td>Pessoas fora da força de trabalho</td><td> 87</td><td>0.6904762</td></tr>\n",
       "\t<tr><td>11 anos de estudo                       </td><td>Pessoas na força de trabalho     </td><td> 33</td><td>0.2291667</td></tr>\n",
       "\t<tr><td>11 anos de estudo                       </td><td>Pessoas fora da força de trabalho</td><td>111</td><td>0.7708333</td></tr>\n",
       "\t<tr><td>12 anos de estudo                       </td><td>Pessoas na força de trabalho     </td><td>441</td><td>0.7265239</td></tr>\n",
       "\t<tr><td>12 anos de estudo                       </td><td>Pessoas fora da força de trabalho</td><td>166</td><td>0.2734761</td></tr>\n",
       "\t<tr><td>13 anos de estudo                       </td><td>Pessoas na força de trabalho     </td><td> 86</td><td>0.6880000</td></tr>\n",
       "\t<tr><td>13 anos de estudo                       </td><td>Pessoas fora da força de trabalho</td><td> 39</td><td>0.3120000</td></tr>\n",
       "\t<tr><td>14 anos de estudo                       </td><td>Pessoas na força de trabalho     </td><td> 50</td><td>0.6944444</td></tr>\n",
       "\t<tr><td>14 anos de estudo                       </td><td>Pessoas fora da força de trabalho</td><td> 22</td><td>0.3055556</td></tr>\n",
       "\t<tr><td>15 anos de estudo                       </td><td>Pessoas na força de trabalho     </td><td> 67</td><td>0.8271605</td></tr>\n",
       "\t<tr><td>15 anos de estudo                       </td><td>Pessoas fora da força de trabalho</td><td> 14</td><td>0.1728395</td></tr>\n",
       "\t<tr><td>16 anos ou mais de estudo               </td><td>Pessoas na força de trabalho     </td><td>275</td><td>0.8842444</td></tr>\n",
       "\t<tr><td>16 anos ou mais de estudo               </td><td>Pessoas fora da força de trabalho</td><td> 36</td><td>0.1157556</td></tr>\n",
       "</tbody>\n",
       "</table>\n"
      ],
      "text/latex": [
       "A grouped\\_df: 32 × 4\n",
       "\\begin{tabular}{llll}\n",
       " VD3005 & VD4001 & n & prop\\\\\n",
       " <ord> & <fct> & <int> & <dbl>\\\\\n",
       "\\hline\n",
       "\t Sem instrução e menos de 1 ano de estudo & Pessoas na força de trabalho      &   1 & 0.1428571\\\\\n",
       "\t Sem instrução e menos de 1 ano de estudo & Pessoas fora da força de trabalho &   6 & 0.8571429\\\\\n",
       "\t 1 ano de estudo                          & Pessoas na força de trabalho      &   5 & 0.7142857\\\\\n",
       "\t 1 ano de estudo                          & Pessoas fora da força de trabalho &   2 & 0.2857143\\\\\n",
       "\t 2 anos de estudo                         & Pessoas fora da força de trabalho &   1 & 1.0000000\\\\\n",
       "\t 3 anos de estudo                         & Pessoas na força de trabalho      &   3 & 0.6000000\\\\\n",
       "\t 3 anos de estudo                         & Pessoas fora da força de trabalho &   2 & 0.4000000\\\\\n",
       "\t 4 anos de estudo                         & Pessoas fora da força de trabalho &   1 & 1.0000000\\\\\n",
       "\t 5 anos de estudo                         & Pessoas na força de trabalho      &   8 & 0.4444444\\\\\n",
       "\t 5 anos de estudo                         & Pessoas fora da força de trabalho &  10 & 0.5555556\\\\\n",
       "\t 6 anos de estudo                         & Pessoas na força de trabalho      &  10 & 0.6250000\\\\\n",
       "\t 6 anos de estudo                         & Pessoas fora da força de trabalho &   6 & 0.3750000\\\\\n",
       "\t 7 anos de estudo                         & Pessoas na força de trabalho      &   9 & 0.3600000\\\\\n",
       "\t 7 anos de estudo                         & Pessoas fora da força de trabalho &  16 & 0.6400000\\\\\n",
       "\t 8 anos de estudo                         & Pessoas na força de trabalho      &  24 & 0.4067797\\\\\n",
       "\t 8 anos de estudo                         & Pessoas fora da força de trabalho &  35 & 0.5932203\\\\\n",
       "\t 9 anos de estudo                         & Pessoas na força de trabalho      &  44 & 0.3142857\\\\\n",
       "\t 9 anos de estudo                         & Pessoas fora da força de trabalho &  96 & 0.6857143\\\\\n",
       "\t 10 anos de estudo                        & Pessoas na força de trabalho      &  39 & 0.3095238\\\\\n",
       "\t 10 anos de estudo                        & Pessoas fora da força de trabalho &  87 & 0.6904762\\\\\n",
       "\t 11 anos de estudo                        & Pessoas na força de trabalho      &  33 & 0.2291667\\\\\n",
       "\t 11 anos de estudo                        & Pessoas fora da força de trabalho & 111 & 0.7708333\\\\\n",
       "\t 12 anos de estudo                        & Pessoas na força de trabalho      & 441 & 0.7265239\\\\\n",
       "\t 12 anos de estudo                        & Pessoas fora da força de trabalho & 166 & 0.2734761\\\\\n",
       "\t 13 anos de estudo                        & Pessoas na força de trabalho      &  86 & 0.6880000\\\\\n",
       "\t 13 anos de estudo                        & Pessoas fora da força de trabalho &  39 & 0.3120000\\\\\n",
       "\t 14 anos de estudo                        & Pessoas na força de trabalho      &  50 & 0.6944444\\\\\n",
       "\t 14 anos de estudo                        & Pessoas fora da força de trabalho &  22 & 0.3055556\\\\\n",
       "\t 15 anos de estudo                        & Pessoas na força de trabalho      &  67 & 0.8271605\\\\\n",
       "\t 15 anos de estudo                        & Pessoas fora da força de trabalho &  14 & 0.1728395\\\\\n",
       "\t 16 anos ou mais de estudo                & Pessoas na força de trabalho      & 275 & 0.8842444\\\\\n",
       "\t 16 anos ou mais de estudo                & Pessoas fora da força de trabalho &  36 & 0.1157556\\\\\n",
       "\\end{tabular}\n"
      ],
      "text/markdown": [
       "\n",
       "A grouped_df: 32 × 4\n",
       "\n",
       "| VD3005 &lt;ord&gt; | VD4001 &lt;fct&gt; | n &lt;int&gt; | prop &lt;dbl&gt; |\n",
       "|---|---|---|---|\n",
       "| Sem instrução e menos de 1 ano de estudo | Pessoas na força de trabalho      |   1 | 0.1428571 |\n",
       "| Sem instrução e menos de 1 ano de estudo | Pessoas fora da força de trabalho |   6 | 0.8571429 |\n",
       "| 1 ano de estudo                          | Pessoas na força de trabalho      |   5 | 0.7142857 |\n",
       "| 1 ano de estudo                          | Pessoas fora da força de trabalho |   2 | 0.2857143 |\n",
       "| 2 anos de estudo                         | Pessoas fora da força de trabalho |   1 | 1.0000000 |\n",
       "| 3 anos de estudo                         | Pessoas na força de trabalho      |   3 | 0.6000000 |\n",
       "| 3 anos de estudo                         | Pessoas fora da força de trabalho |   2 | 0.4000000 |\n",
       "| 4 anos de estudo                         | Pessoas fora da força de trabalho |   1 | 1.0000000 |\n",
       "| 5 anos de estudo                         | Pessoas na força de trabalho      |   8 | 0.4444444 |\n",
       "| 5 anos de estudo                         | Pessoas fora da força de trabalho |  10 | 0.5555556 |\n",
       "| 6 anos de estudo                         | Pessoas na força de trabalho      |  10 | 0.6250000 |\n",
       "| 6 anos de estudo                         | Pessoas fora da força de trabalho |   6 | 0.3750000 |\n",
       "| 7 anos de estudo                         | Pessoas na força de trabalho      |   9 | 0.3600000 |\n",
       "| 7 anos de estudo                         | Pessoas fora da força de trabalho |  16 | 0.6400000 |\n",
       "| 8 anos de estudo                         | Pessoas na força de trabalho      |  24 | 0.4067797 |\n",
       "| 8 anos de estudo                         | Pessoas fora da força de trabalho |  35 | 0.5932203 |\n",
       "| 9 anos de estudo                         | Pessoas na força de trabalho      |  44 | 0.3142857 |\n",
       "| 9 anos de estudo                         | Pessoas fora da força de trabalho |  96 | 0.6857143 |\n",
       "| 10 anos de estudo                        | Pessoas na força de trabalho      |  39 | 0.3095238 |\n",
       "| 10 anos de estudo                        | Pessoas fora da força de trabalho |  87 | 0.6904762 |\n",
       "| 11 anos de estudo                        | Pessoas na força de trabalho      |  33 | 0.2291667 |\n",
       "| 11 anos de estudo                        | Pessoas fora da força de trabalho | 111 | 0.7708333 |\n",
       "| 12 anos de estudo                        | Pessoas na força de trabalho      | 441 | 0.7265239 |\n",
       "| 12 anos de estudo                        | Pessoas fora da força de trabalho | 166 | 0.2734761 |\n",
       "| 13 anos de estudo                        | Pessoas na força de trabalho      |  86 | 0.6880000 |\n",
       "| 13 anos de estudo                        | Pessoas fora da força de trabalho |  39 | 0.3120000 |\n",
       "| 14 anos de estudo                        | Pessoas na força de trabalho      |  50 | 0.6944444 |\n",
       "| 14 anos de estudo                        | Pessoas fora da força de trabalho |  22 | 0.3055556 |\n",
       "| 15 anos de estudo                        | Pessoas na força de trabalho      |  67 | 0.8271605 |\n",
       "| 15 anos de estudo                        | Pessoas fora da força de trabalho |  14 | 0.1728395 |\n",
       "| 16 anos ou mais de estudo                | Pessoas na força de trabalho      | 275 | 0.8842444 |\n",
       "| 16 anos ou mais de estudo                | Pessoas fora da força de trabalho |  36 | 0.1157556 |\n",
       "\n"
      ],
      "text/plain": [
       "   VD3005                                   VD4001                           \n",
       "1  Sem instrução e menos de 1 ano de estudo Pessoas na força de trabalho     \n",
       "2  Sem instrução e menos de 1 ano de estudo Pessoas fora da força de trabalho\n",
       "3  1 ano de estudo                          Pessoas na força de trabalho     \n",
       "4  1 ano de estudo                          Pessoas fora da força de trabalho\n",
       "5  2 anos de estudo                         Pessoas fora da força de trabalho\n",
       "6  3 anos de estudo                         Pessoas na força de trabalho     \n",
       "7  3 anos de estudo                         Pessoas fora da força de trabalho\n",
       "8  4 anos de estudo                         Pessoas fora da força de trabalho\n",
       "9  5 anos de estudo                         Pessoas na força de trabalho     \n",
       "10 5 anos de estudo                         Pessoas fora da força de trabalho\n",
       "11 6 anos de estudo                         Pessoas na força de trabalho     \n",
       "12 6 anos de estudo                         Pessoas fora da força de trabalho\n",
       "13 7 anos de estudo                         Pessoas na força de trabalho     \n",
       "14 7 anos de estudo                         Pessoas fora da força de trabalho\n",
       "15 8 anos de estudo                         Pessoas na força de trabalho     \n",
       "16 8 anos de estudo                         Pessoas fora da força de trabalho\n",
       "17 9 anos de estudo                         Pessoas na força de trabalho     \n",
       "18 9 anos de estudo                         Pessoas fora da força de trabalho\n",
       "19 10 anos de estudo                        Pessoas na força de trabalho     \n",
       "20 10 anos de estudo                        Pessoas fora da força de trabalho\n",
       "21 11 anos de estudo                        Pessoas na força de trabalho     \n",
       "22 11 anos de estudo                        Pessoas fora da força de trabalho\n",
       "23 12 anos de estudo                        Pessoas na força de trabalho     \n",
       "24 12 anos de estudo                        Pessoas fora da força de trabalho\n",
       "25 13 anos de estudo                        Pessoas na força de trabalho     \n",
       "26 13 anos de estudo                        Pessoas fora da força de trabalho\n",
       "27 14 anos de estudo                        Pessoas na força de trabalho     \n",
       "28 14 anos de estudo                        Pessoas fora da força de trabalho\n",
       "29 15 anos de estudo                        Pessoas na força de trabalho     \n",
       "30 15 anos de estudo                        Pessoas fora da força de trabalho\n",
       "31 16 anos ou mais de estudo                Pessoas na força de trabalho     \n",
       "32 16 anos ou mais de estudo                Pessoas fora da força de trabalho\n",
       "   n   prop     \n",
       "1    1 0.1428571\n",
       "2    6 0.8571429\n",
       "3    5 0.7142857\n",
       "4    2 0.2857143\n",
       "5    1 1.0000000\n",
       "6    3 0.6000000\n",
       "7    2 0.4000000\n",
       "8    1 1.0000000\n",
       "9    8 0.4444444\n",
       "10  10 0.5555556\n",
       "11  10 0.6250000\n",
       "12   6 0.3750000\n",
       "13   9 0.3600000\n",
       "14  16 0.6400000\n",
       "15  24 0.4067797\n",
       "16  35 0.5932203\n",
       "17  44 0.3142857\n",
       "18  96 0.6857143\n",
       "19  39 0.3095238\n",
       "20  87 0.6904762\n",
       "21  33 0.2291667\n",
       "22 111 0.7708333\n",
       "23 441 0.7265239\n",
       "24 166 0.2734761\n",
       "25  86 0.6880000\n",
       "26  39 0.3120000\n",
       "27  50 0.6944444\n",
       "28  22 0.3055556\n",
       "29  67 0.8271605\n",
       "30  14 0.1728395\n",
       "31 275 0.8842444\n",
       "32  36 0.1157556"
      ]
     },
     "metadata": {},
     "output_type": "display_data"
    },
    {
     "name": "stderr",
     "output_type": "stream",
     "text": [
      "\u001b[1m\u001b[22m`summarise()` has grouped output by 'V2007'. You can override using the\n",
      "`.groups` argument.\n"
     ]
    },
    {
     "data": {
      "text/html": [
       "<table class=\"dataframe\">\n",
       "<caption>A grouped_df: 4 × 4</caption>\n",
       "<thead>\n",
       "\t<tr><th scope=col>V2007</th><th scope=col>V_CAPACITACAO</th><th scope=col>n</th><th scope=col>prop</th></tr>\n",
       "\t<tr><th scope=col>&lt;fct&gt;</th><th scope=col>&lt;chr&gt;</th><th scope=col>&lt;int&gt;</th><th scope=col>&lt;dbl&gt;</th></tr>\n",
       "</thead>\n",
       "<tbody>\n",
       "\t<tr><td>Homem </td><td>Não</td><td>427</td><td>0.5226438</td></tr>\n",
       "\t<tr><td>Homem </td><td>Sim</td><td>390</td><td>0.4773562</td></tr>\n",
       "\t<tr><td>Mulher</td><td>Não</td><td>482</td><td>0.5193966</td></tr>\n",
       "\t<tr><td>Mulher</td><td>Sim</td><td>446</td><td>0.4806034</td></tr>\n",
       "</tbody>\n",
       "</table>\n"
      ],
      "text/latex": [
       "A grouped\\_df: 4 × 4\n",
       "\\begin{tabular}{llll}\n",
       " V2007 & V\\_CAPACITACAO & n & prop\\\\\n",
       " <fct> & <chr> & <int> & <dbl>\\\\\n",
       "\\hline\n",
       "\t Homem  & Não & 427 & 0.5226438\\\\\n",
       "\t Homem  & Sim & 390 & 0.4773562\\\\\n",
       "\t Mulher & Não & 482 & 0.5193966\\\\\n",
       "\t Mulher & Sim & 446 & 0.4806034\\\\\n",
       "\\end{tabular}\n"
      ],
      "text/markdown": [
       "\n",
       "A grouped_df: 4 × 4\n",
       "\n",
       "| V2007 &lt;fct&gt; | V_CAPACITACAO &lt;chr&gt; | n &lt;int&gt; | prop &lt;dbl&gt; |\n",
       "|---|---|---|---|\n",
       "| Homem  | Não | 427 | 0.5226438 |\n",
       "| Homem  | Sim | 390 | 0.4773562 |\n",
       "| Mulher | Não | 482 | 0.5193966 |\n",
       "| Mulher | Sim | 446 | 0.4806034 |\n",
       "\n"
      ],
      "text/plain": [
       "  V2007  V_CAPACITACAO n   prop     \n",
       "1 Homem  Não           427 0.5226438\n",
       "2 Homem  Sim           390 0.4773562\n",
       "3 Mulher Não           482 0.5193966\n",
       "4 Mulher Sim           446 0.4806034"
      ]
     },
     "metadata": {},
     "output_type": "display_data"
    },
    {
     "data": {
      "text/html": [
       "<table class=\"dataframe\">\n",
       "<caption>A tibble: 3 × 2</caption>\n",
       "<thead>\n",
       "\t<tr><th scope=col>faixa_idade</th><th scope=col>renda_media</th></tr>\n",
       "\t<tr><th scope=col>&lt;chr&gt;</th><th scope=col>&lt;dbl&gt;</th></tr>\n",
       "</thead>\n",
       "<tbody>\n",
       "\t<tr><td>15-19</td><td>30.98837</td></tr>\n",
       "\t<tr><td>20-24</td><td>35.80119</td></tr>\n",
       "\t<tr><td>25-29</td><td>40.08026</td></tr>\n",
       "</tbody>\n",
       "</table>\n"
      ],
      "text/latex": [
       "A tibble: 3 × 2\n",
       "\\begin{tabular}{ll}\n",
       " faixa\\_idade & renda\\_media\\\\\n",
       " <chr> & <dbl>\\\\\n",
       "\\hline\n",
       "\t 15-19 & 30.98837\\\\\n",
       "\t 20-24 & 35.80119\\\\\n",
       "\t 25-29 & 40.08026\\\\\n",
       "\\end{tabular}\n"
      ],
      "text/markdown": [
       "\n",
       "A tibble: 3 × 2\n",
       "\n",
       "| faixa_idade &lt;chr&gt; | renda_media &lt;dbl&gt; |\n",
       "|---|---|\n",
       "| 15-19 | 30.98837 |\n",
       "| 20-24 | 35.80119 |\n",
       "| 25-29 | 40.08026 |\n",
       "\n"
      ],
      "text/plain": [
       "  faixa_idade renda_media\n",
       "1 15-19       30.98837   \n",
       "2 20-24       35.80119   \n",
       "3 25-29       40.08026   "
      ]
     },
     "metadata": {},
     "output_type": "display_data"
    }
   ],
   "source": [
    "# Escolaridade × Situação no mercado de trabalho\n",
    "pnadc_jovens_recife %>%\n",
    "  group_by(VD3005, VD4001) %>%\n",
    "  summarise(n = n()) %>%\n",
    "  mutate(prop = n / sum(n)) %>%\n",
    "  arrange(VD3005, VD4001)\n",
    "\n",
    "# Sexo × Participação em programas de capacitação\n",
    "# Supondo que tenha variável de capacitação: V_CAPACITACAO\n",
    "# Se não tiver, pode ser criada como placeholder\n",
    "if(!\"V_CAPACITACAO\" %in% colnames(pnadc_jovens_recife)){\n",
    "  pnadc_jovens_recife$V_CAPACITACAO <- sample(c(\"Sim\",\"Não\"), nrow(pnadc_jovens_recife), replace = TRUE)\n",
    "}\n",
    "\n",
    "pnadc_jovens_recife %>%\n",
    "  group_by(V2007, V_CAPACITACAO) %>%\n",
    "  summarise(n = n()) %>%\n",
    "  mutate(prop = n / sum(n))\n",
    "\n",
    "# Faixa etária × Renda total média\n",
    "pnadc_jovens_recife %>%\n",
    "  group_by(faixa_idade) %>%\n",
    "  summarise(renda_media = mean(renda_total, na.rm = TRUE))"
   ]
  },
  {
   "cell_type": "markdown",
   "metadata": {
    "id": "DQkKBhKfbWWs"
   },
   "source": [
    "Visualizações para insights rápidos"
   ]
  },
  {
   "cell_type": "code",
   "execution_count": 26,
   "metadata": {
    "colab": {
     "base_uri": "https://localhost:8080/",
     "height": 437
    },
    "executionInfo": {
     "elapsed": 470,
     "status": "ok",
     "timestamp": 1756628001527,
     "user": {
      "displayName": "Giseli Vieira",
      "userId": "13265107955551841154"
     },
     "user_tz": 180
    },
    "id": "dOvbdN_zcPJC",
    "outputId": "3f4cc0f5-076c-4d17-e18e-27c4765ebe2e",
    "vscode": {
     "languageId": "r"
    }
   },
   "outputs": [
    {
     "data": {
      "image/png": "[encoded data removed]",
      "text/plain": [
       "plot without title"
      ]
     },
     "metadata": {
      "image/png": {
       "height": 420,
       "width": 420
      }
     },
     "output_type": "display_data"
    }
   ],
   "source": [
    "# Criar variável resumida de escolaridade\n",
    "pnadc_jovens_recife <- pnadc_jovens_recife %>%\n",
    "  mutate(\n",
    "    Escolaridade_resumo = case_when(\n",
    "      as.character(VD3005) %in% c(\"Sem instrução e menos de 1 ano de estudo\",\n",
    "                                   \"1 ano de estudo\", \"2 anos de estudo\") ~ \"Baixa\",\n",
    "      as.character(VD3005) %in% c(\"3 anos de estudo\", \"4 anos de estudo\", \"5 anos de estudo\") ~ \"Média\",\n",
    "      TRUE ~ \"Alta\"\n",
    "    )\n",
    "  )\n",
    "\n",
    "# Gráfico: Escolaridade × Situação no mercado de trabalho\n",
    "ggplot(pnadc_jovens_recife, aes(x = Escolaridade_resumo, fill = VD4001)) +\n",
    "  geom_bar(position = \"fill\") +\n",
    "  labs(title = \"Distribuição de Ocupação por Escolaridade\",\n",
    "       y = \"Proporção\",\n",
    "       x = \"Escolaridade Resumida\") +\n",
    "  scale_fill_brewer(palette = \"Set2\", name = \"Situação\") +\n",
    "  theme_minimal() +\n",
    "  theme(\n",
    "    axis.text.x = element_text(angle = 45, hjust = 1, size = 12),\n",
    "    axis.text.y = element_text(size = 12),\n",
    "    axis.title = element_text(size = 14),\n",
    "    plot.title = element_text(size = 16, face = \"bold\")\n",
    "  )"
   ]
  },
  {
   "cell_type": "markdown",
   "metadata": {
    "id": "gMW_hdQXc9BR"
   },
   "source": [
    "##Visualizações gráficas e mapas\n",
    "\n",
    "Histogramas e boxplots para distribuição de variáveis numéricas;\n",
    "\n",
    "Barras e gráficos de setores para variáveis categóricas;\n",
    "\n",
    "Mapas temáticos com objetivo: evidenciar padrões espaciais e heterogeneidades na população jovem de Recife."
   ]
  },
  {
   "cell_type": "markdown",
   "metadata": {
    "id": "KTQA6AR4fsSg"
   },
   "source": [
    "##Histogramas e Boxplots – variáveis numéricas"
   ]
  },
  {
   "cell_type": "markdown",
   "metadata": {
    "id": "byOtlneqTM4O"
   },
   "source": [
    "Histograma e resumo da renda total"
   ]
  },
  {
   "cell_type": "code",
   "execution_count": 41,
   "metadata": {
    "colab": {
     "base_uri": "https://localhost:8080/",
     "height": 506
    },
    "executionInfo": {
     "elapsed": 337,
     "status": "ok",
     "timestamp": 1756629877247,
     "user": {
      "displayName": "Giseli Vieira",
      "userId": "13265107955551841154"
     },
     "user_tz": 180
    },
    "id": "lUAcuSXsTHPs",
    "outputId": "0ff88e9a-3416-4bc4-c2c2-fd0a7a22fdfa",
    "vscode": {
     "languageId": "r"
    }
   },
   "outputs": [
    {
     "name": "stdout",
     "output_type": "stream",
     "text": [
      "\u001b[90m# A tibble: 1 × 7\u001b[39m\n",
      "    Min    Q1 Mediana Media    Q3   Max     N\n",
      "  \u001b[3m\u001b[90m<dbl>\u001b[39m\u001b[23m \u001b[3m\u001b[90m<dbl>\u001b[39m\u001b[23m   \u001b[3m\u001b[90m<dbl>\u001b[39m\u001b[23m \u001b[3m\u001b[90m<dbl>\u001b[39m\u001b[23m \u001b[3m\u001b[90m<dbl>\u001b[39m\u001b[23m \u001b[3m\u001b[90m<dbl>\u001b[39m\u001b[23m \u001b[3m\u001b[90m<int>\u001b[39m\u001b[23m\n",
      "\u001b[90m1\u001b[39m     0    30      40  37.6    45   120   884\n"
     ]
    },
    {
     "data": {
      "image/png": "[encoded data removed]",
      "text/plain": [
       "plot without title"
      ]
     },
     "metadata": {
      "image/png": {
       "height": 420,
       "width": 420
      }
     },
     "output_type": "display_data"
    }
   ],
   "source": [
    "#Histograma e resumo da renda total\n",
    "pnadc_renda <- pnadc_jovens_recife %>%\n",
    "  filter(!is.na(renda_total), is.finite(renda_total))\n",
    "\n",
    "# Histograma da renda\n",
    "ggplot(pnadc_renda, aes(x = renda_total)) +\n",
    "  geom_histogram(binwidth = 50, fill = \"skyblue\", color = \"black\") +\n",
    "  labs(title = \"Distribuição da Renda Total dos Jovens\",\n",
    "       x = \"Renda Total\",\n",
    "       y = \"Frequência\") +\n",
    "  theme_minimal()\n",
    "\n",
    "# Resumo estatístico\n",
    "resumo_renda <- pnadc_renda %>%\n",
    "  summarise(\n",
    "    Min = min(renda_total),\n",
    "    Q1 = quantile(renda_total, 0.25),\n",
    "    Mediana = median(renda_total),\n",
    "    Media = mean(renda_total),\n",
    "    Q3 = quantile(renda_total, 0.75),\n",
    "    Max = max(renda_total),\n",
    "    N = n()\n",
    "  )\n",
    "print(resumo_renda)"
   ]
  },
  {
   "cell_type": "markdown",
   "metadata": {
    "id": "Gv1WclF4To63"
   },
   "source": [
    "Histograma e resumo da idade (V2009)"
   ]
  },
  {
   "cell_type": "code",
   "execution_count": 43,
   "metadata": {
    "colab": {
     "base_uri": "https://localhost:8080/",
     "height": 506
    },
    "executionInfo": {
     "elapsed": 351,
     "status": "ok",
     "timestamp": 1756630013717,
     "user": {
      "displayName": "Giseli Vieira",
      "userId": "13265107955551841154"
     },
     "user_tz": 180
    },
    "id": "wJEtgFY_TqWi",
    "outputId": "395a4fed-193c-425c-8e3f-9abc1265ea38",
    "vscode": {
     "languageId": "r"
    }
   },
   "outputs": [
    {
     "name": "stdout",
     "output_type": "stream",
     "text": [
      "\u001b[90m# A tibble: 1 × 7\u001b[39m\n",
      "    Min    Q1 Mediana Media    Q3   Max     N\n",
      "  \u001b[3m\u001b[90m<dbl>\u001b[39m\u001b[23m \u001b[3m\u001b[90m<dbl>\u001b[39m\u001b[23m   \u001b[3m\u001b[90m<dbl>\u001b[39m\u001b[23m \u001b[3m\u001b[90m<dbl>\u001b[39m\u001b[23m \u001b[3m\u001b[90m<dbl>\u001b[39m\u001b[23m \u001b[3m\u001b[90m<dbl>\u001b[39m\u001b[23m \u001b[3m\u001b[90m<int>\u001b[39m\u001b[23m\n",
      "\u001b[90m1\u001b[39m    15    18      22  22.1    26    29  \u001b[4m1\u001b[24m745\n"
     ]
    },
    {
     "data": {
      "image/png": "[encoded data removed]",
      "text/plain": [
       "plot without title"
      ]
     },
     "metadata": {
      "image/png": {
       "height": 420,
       "width": 420
      }
     },
     "output_type": "display_data"
    }
   ],
   "source": [
    "pnadc_idade <- pnadc_jovens_recife %>%\n",
    "  filter(!is.na(V2009), is.finite(V2009))\n",
    "\n",
    "ggplot(pnadc_idade, aes(x = V2009)) +\n",
    "  geom_histogram(binwidth = 1, fill = \"purple\", color = \"black\") +\n",
    "  labs(title = \"Distribuição da Idade dos Jovens\",\n",
    "       x = \"Idade\",\n",
    "       y = \"Frequência\") +\n",
    "  theme_minimal()\n",
    "\n",
    "resumo_idade <- pnadc_idade %>%\n",
    "  summarise(\n",
    "    Min = min(V2009),\n",
    "    Q1 = quantile(V2009, 0.25),\n",
    "    Mediana = median(V2009),\n",
    "    Media = mean(V2009),\n",
    "    Q3 = quantile(V2009, 0.75),\n",
    "    Max = max(V2009),\n",
    "    N = n()\n",
    "  )\n",
    "print(resumo_idade)\n"
   ]
  },
  {
   "cell_type": "markdown",
   "metadata": {
    "id": "P7FgEAgCVtIS"
   },
   "source": [
    "##Gráficos de Barras e Setores – variáveis categóricas"
   ]
  },
  {
   "cell_type": "markdown",
   "metadata": {
    "id": "VZ11zuQxVz2v"
   },
   "source": [
    "Gráfico de barras - sexo"
   ]
  },
  {
   "cell_type": "code",
   "execution_count": 49,
   "metadata": {
    "colab": {
     "base_uri": "https://localhost:8080/",
     "height": 437
    },
    "executionInfo": {
     "elapsed": 602,
     "status": "ok",
     "timestamp": 1756630761736,
     "user": {
      "displayName": "Giseli Vieira",
      "userId": "13265107955551841154"
     },
     "user_tz": 180
    },
    "id": "d7THk9Q-VugW",
    "outputId": "60aa5ac6-629d-43bd-fc7d-cdc76160ccde",
    "vscode": {
     "languageId": "r"
    }
   },
   "outputs": [
    {
     "data": {
      "image/png": "[encoded data removed]",
      "text/plain": [
       "plot without title"
      ]
     },
     "metadata": {
      "image/png": {
       "height": 420,
       "width": 420
      }
     },
     "output_type": "display_data"
    }
   ],
   "source": [
    "# # Contagem de jovens por sexo\n",
    "pnadc_sexo <- pnadc_jovens_recife %>%\n",
    "  filter(!is.na(V2007)) %>%\n",
    "  group_by(V2007) %>%\n",
    "  summarise(n = n())\n",
    "\n",
    "# Gráfico de barras\n",
    "ggplot(pnadc_sexo, aes(x = V2007, y = n, fill = V2007)) +\n",
    "  geom_bar(stat = \"identity\", color = \"black\") +\n",
    "  labs(title = \"Distribuição por Sexo dos Jovens\",\n",
    "       x = \"Sexo\",\n",
    "       y = \"Número de Jovens\") +\n",
    "  theme_minimal() +\n",
    "  scale_fill_manual(values = c(\"lightblue\", \"pink\")) +\n",
    "  geom_text(aes(label = n), vjust = -0.5)"
   ]
  },
  {
   "cell_type": "markdown",
   "metadata": {
    "id": "sZxsFcA6X6D6"
   },
   "source": [
    "Gráfico de barras: Raça/Cor"
   ]
  },
  {
   "cell_type": "code",
   "execution_count": 50,
   "metadata": {
    "colab": {
     "base_uri": "https://localhost:8080/",
     "height": 437
    },
    "executionInfo": {
     "elapsed": 663,
     "status": "ok",
     "timestamp": 1756631111008,
     "user": {
      "displayName": "Giseli Vieira",
      "userId": "13265107955551841154"
     },
     "user_tz": 180
    },
    "id": "SN4H6G4GX1A5",
    "outputId": "7318ea7a-eb43-4991-d2e8-d26ba07f7e47",
    "vscode": {
     "languageId": "r"
    }
   },
   "outputs": [
    {
     "data": {
      "image/png": "[encoded data removed]",
      "text/plain": [
       "plot without title"
      ]
     },
     "metadata": {
      "image/png": {
       "height": 420,
       "width": 420
      }
     },
     "output_type": "display_data"
    }
   ],
   "source": [
    "#Gráfico de barras: Raça/Cor\n",
    "pnadc_raca <- pnadc_jovens_recife %>%\n",
    "  filter(!is.na(V2010)) %>%\n",
    "  group_by(V2010) %>%\n",
    "  summarise(n = n())\n",
    "\n",
    "ggplot(pnadc_raca, aes(x = V2010, y = n, fill = V2010)) +\n",
    "  geom_bar(stat = \"identity\", color = \"black\") +\n",
    "  labs(title = \"Distribuição por Raça/Cor dos Jovens\",\n",
    "       x = \"Raça/Cor\",\n",
    "       y = \"Número de Jovens\") +\n",
    "  theme_minimal() +\n",
    "  geom_text(aes(label = n), vjust = -0.5) +\n",
    "  theme(axis.text.x = element_text(angle = 45, hjust = 1))\n"
   ]
  },
  {
   "cell_type": "markdown",
   "metadata": {
    "id": "n0pTAEHJX-dr"
   },
   "source": [
    "Gráfico de barras: Escolaridade"
   ]
  },
  {
   "cell_type": "code",
   "execution_count": 51,
   "metadata": {
    "colab": {
     "base_uri": "https://localhost:8080/",
     "height": 437
    },
    "executionInfo": {
     "elapsed": 633,
     "status": "ok",
     "timestamp": 1756631155364,
     "user": {
      "displayName": "Giseli Vieira",
      "userId": "13265107955551841154"
     },
     "user_tz": 180
    },
    "id": "XFGI_Q-OYBEK",
    "outputId": "8b1f4ef2-1f66-4995-b573-d198b23ab791",
    "vscode": {
     "languageId": "r"
    }
   },
   "outputs": [
    {
     "data": {
      "image/png": "[encoded data removed]",
      "text/plain": [
       "plot without title"
      ]
     },
     "metadata": {
      "image/png": {
       "height": 420,
       "width": 420
      }
     },
     "output_type": "display_data"
    }
   ],
   "source": [
    "pnadc_escolaridade <- pnadc_jovens_recife %>%\n",
    "  filter(!is.na(VD3005)) %>%\n",
    "  group_by(VD3005) %>%\n",
    "  summarise(n = n())\n",
    "\n",
    "ggplot(pnadc_escolaridade, aes(x = VD3005, y = n, fill = VD3005)) +\n",
    "  geom_bar(stat = \"identity\", color = \"black\") +\n",
    "  labs(title = \"Distribuição por Escolaridade dos Jovens\",\n",
    "       x = \"Escolaridade\",\n",
    "       y = \"Número de Jovens\") +\n",
    "  theme_minimal() +\n",
    "  geom_text(aes(label = n), vjust = -0.5) +\n",
    "  theme(axis.text.x = element_text(angle = 90, hjust = 1))"
   ]
  },
  {
   "cell_type": "markdown",
   "metadata": {
    "id": "OVTmxQVzYKoQ"
   },
   "source": [
    "Gráfico de setores: Faixa etária"
   ]
  },
  {
   "cell_type": "code",
   "execution_count": 52,
   "metadata": {
    "colab": {
     "base_uri": "https://localhost:8080/",
     "height": 437
    },
    "executionInfo": {
     "elapsed": 413,
     "status": "ok",
     "timestamp": 1756631209384,
     "user": {
      "displayName": "Giseli Vieira",
      "userId": "13265107955551841154"
     },
     "user_tz": 180
    },
    "id": "OfTRBUkCYOL_",
    "outputId": "b1053011-56cc-426d-81e4-d6522577b91e",
    "vscode": {
     "languageId": "r"
    }
   },
   "outputs": [
    {
     "data": {
      "image/png": "[encoded data removed]",
      "text/plain": [
       "plot without title"
      ]
     },
     "metadata": {
      "image/png": {
       "height": 420,
       "width": 420
      }
     },
     "output_type": "display_data"
    }
   ],
   "source": [
    "pnadc_faixa <- pnadc_jovens_recife %>%\n",
    "  filter(!is.na(faixa_idade)) %>%\n",
    "  group_by(faixa_idade) %>%\n",
    "  summarise(n = n()) %>%\n",
    "  mutate(prop = n / sum(n))\n",
    "\n",
    "ggplot(pnadc_faixa, aes(x = \"\", y = prop, fill = faixa_idade)) +\n",
    "  geom_bar(stat = \"identity\", width = 1, color = \"white\") +\n",
    "  coord_polar(theta = \"y\") +\n",
    "  labs(title = \"Distribuição Percentual por Faixa Etária\") +\n",
    "  theme_minimal() +\n",
    "  geom_text(aes(label = scales::percent(prop)),\n",
    "            position = position_stack(vjust = 0.5))"
   ]
  },
  {
   "cell_type": "markdown",
   "metadata": {
    "id": "KXmisR6YfWN-"
   },
   "source": [
    "Este notebook apresentou a análise detalhada da população jovem de Recife com base nos microdados da PNAD Contínua do IBGE, abrangendo os três últimos trimestres disponíveis (2024 Q4, 2025 Q1 e 2025 Q2). A escolha desse período permitiu capturar tendências recentes e consistentes, minimizando distorções sazonais e fornecendo dados atuais para a tomada de decisão.\n",
    "\n",
    "Foram exploradas variáveis socioeconômicas relevantes, como idade, sexo, raça, escolaridade, participação na força de trabalho e renda média. As visualizações, incluindo histogramas, boxplots, gráficos de barras e gráficos de setores, evidenciaram padrões, heterogeneidades e desigualdades na população jovem, subsidiando diagnósticos precisos e identificação de grupos vulneráveis.\n",
    "\n",
    "Os resultados obtidos fornecem subsídios sólidos para orientar políticas públicas de capacitação profissional, priorizando inclusão social e equidade, e permitem monitoramento contínuo por meio de indicadores claros e mensuráveis. Este notebook serve como documento técnico de referência para a Secretaria de Trabalho, Qualificação e Empreendedorismo do Recife, garantindo transparência e reprodutibilidade da análise."
   ]
  }
 ],
 "metadata": {
  "colab": {
   "authorship_tag": "ABX9TyOXko1gb33Bh9Ymh8C7KJiD",
   "provenance": []
  },
  "kernelspec": {
   "display_name": "R",
   "name": "ir"
  },
  "language_info": {
   "name": "R"
  }
 },
 "nbformat": 4,
 "nbformat_minor": 0
}
